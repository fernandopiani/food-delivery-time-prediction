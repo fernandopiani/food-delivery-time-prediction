{
 "cells": [
  {
   "cell_type": "code",
   "execution_count": 1,
   "id": "b1528600",
   "metadata": {},
   "outputs": [],
   "source": [
    "import numpy as np\n",
    "import pandas as pd"
   ]
  },
  {
   "cell_type": "code",
   "execution_count": 2,
   "id": "47bb402f",
   "metadata": {},
   "outputs": [],
   "source": [
    "hist_data = pd.read_csv('historical_data.csv')"
   ]
  },
  {
   "cell_type": "markdown",
   "id": "9e6f59dc",
   "metadata": {},
   "source": [
    "# Exploratory Data Analysis"
   ]
  },
  {
   "cell_type": "code",
   "execution_count": 3,
   "id": "b1a3b9a6",
   "metadata": {},
   "outputs": [
    {
     "data": {
      "text/html": [
       "<div>\n",
       "<style scoped>\n",
       "    .dataframe tbody tr th:only-of-type {\n",
       "        vertical-align: middle;\n",
       "    }\n",
       "\n",
       "    .dataframe tbody tr th {\n",
       "        vertical-align: top;\n",
       "    }\n",
       "\n",
       "    .dataframe thead th {\n",
       "        text-align: right;\n",
       "    }\n",
       "</style>\n",
       "<table border=\"1\" class=\"dataframe\">\n",
       "  <thead>\n",
       "    <tr style=\"text-align: right;\">\n",
       "      <th></th>\n",
       "      <th>market_id</th>\n",
       "      <th>created_at</th>\n",
       "      <th>actual_delivery_time</th>\n",
       "      <th>store_id</th>\n",
       "      <th>subtotal</th>\n",
       "      <th>total_onshift_dashers</th>\n",
       "      <th>total_busy_dashers</th>\n",
       "      <th>total_outstanding_orders</th>\n",
       "      <th>estimated_store_to_consumer_driving_duration</th>\n",
       "    </tr>\n",
       "  </thead>\n",
       "  <tbody>\n",
       "    <tr>\n",
       "      <th>0</th>\n",
       "      <td>1.0</td>\n",
       "      <td>2015-02-06 22:24:17</td>\n",
       "      <td>2015-02-06 23:27:16</td>\n",
       "      <td>1845</td>\n",
       "      <td>3441</td>\n",
       "      <td>33.0</td>\n",
       "      <td>14.0</td>\n",
       "      <td>21.0</td>\n",
       "      <td>861.0</td>\n",
       "    </tr>\n",
       "    <tr>\n",
       "      <th>1</th>\n",
       "      <td>2.0</td>\n",
       "      <td>2015-02-10 21:49:25</td>\n",
       "      <td>2015-02-10 22:56:29</td>\n",
       "      <td>5477</td>\n",
       "      <td>1900</td>\n",
       "      <td>1.0</td>\n",
       "      <td>2.0</td>\n",
       "      <td>2.0</td>\n",
       "      <td>690.0</td>\n",
       "    </tr>\n",
       "    <tr>\n",
       "      <th>2</th>\n",
       "      <td>3.0</td>\n",
       "      <td>2015-01-22 20:39:28</td>\n",
       "      <td>2015-01-22 21:09:09</td>\n",
       "      <td>5477</td>\n",
       "      <td>1900</td>\n",
       "      <td>1.0</td>\n",
       "      <td>0.0</td>\n",
       "      <td>0.0</td>\n",
       "      <td>690.0</td>\n",
       "    </tr>\n",
       "    <tr>\n",
       "      <th>3</th>\n",
       "      <td>3.0</td>\n",
       "      <td>2015-02-03 21:21:45</td>\n",
       "      <td>2015-02-03 22:13:00</td>\n",
       "      <td>5477</td>\n",
       "      <td>6900</td>\n",
       "      <td>1.0</td>\n",
       "      <td>1.0</td>\n",
       "      <td>2.0</td>\n",
       "      <td>289.0</td>\n",
       "    </tr>\n",
       "    <tr>\n",
       "      <th>4</th>\n",
       "      <td>3.0</td>\n",
       "      <td>2015-02-15 02:40:36</td>\n",
       "      <td>2015-02-15 03:20:26</td>\n",
       "      <td>5477</td>\n",
       "      <td>3900</td>\n",
       "      <td>6.0</td>\n",
       "      <td>6.0</td>\n",
       "      <td>9.0</td>\n",
       "      <td>650.0</td>\n",
       "    </tr>\n",
       "  </tbody>\n",
       "</table>\n",
       "</div>"
      ],
      "text/plain": [
       "   market_id           created_at actual_delivery_time  store_id  subtotal  \\\n",
       "0        1.0  2015-02-06 22:24:17  2015-02-06 23:27:16      1845      3441   \n",
       "1        2.0  2015-02-10 21:49:25  2015-02-10 22:56:29      5477      1900   \n",
       "2        3.0  2015-01-22 20:39:28  2015-01-22 21:09:09      5477      1900   \n",
       "3        3.0  2015-02-03 21:21:45  2015-02-03 22:13:00      5477      6900   \n",
       "4        3.0  2015-02-15 02:40:36  2015-02-15 03:20:26      5477      3900   \n",
       "\n",
       "   total_onshift_dashers  total_busy_dashers  total_outstanding_orders  \\\n",
       "0                   33.0                14.0                      21.0   \n",
       "1                    1.0                 2.0                       2.0   \n",
       "2                    1.0                 0.0                       0.0   \n",
       "3                    1.0                 1.0                       2.0   \n",
       "4                    6.0                 6.0                       9.0   \n",
       "\n",
       "   estimated_store_to_consumer_driving_duration  \n",
       "0                                         861.0  \n",
       "1                                         690.0  \n",
       "2                                         690.0  \n",
       "3                                         289.0  \n",
       "4                                         650.0  "
      ]
     },
     "execution_count": 3,
     "metadata": {},
     "output_type": "execute_result"
    }
   ],
   "source": [
    "hist_data.head()"
   ]
  },
  {
   "cell_type": "code",
   "execution_count": 4,
   "id": "570cbe13",
   "metadata": {},
   "outputs": [
    {
     "data": {
      "text/plain": [
       "(197428, 9)"
      ]
     },
     "execution_count": 4,
     "metadata": {},
     "output_type": "execute_result"
    }
   ],
   "source": [
    "hist_data.shape"
   ]
  },
  {
   "cell_type": "code",
   "execution_count": 5,
   "id": "0234e103",
   "metadata": {},
   "outputs": [
    {
     "data": {
      "text/html": [
       "<div>\n",
       "<style scoped>\n",
       "    .dataframe tbody tr th:only-of-type {\n",
       "        vertical-align: middle;\n",
       "    }\n",
       "\n",
       "    .dataframe tbody tr th {\n",
       "        vertical-align: top;\n",
       "    }\n",
       "\n",
       "    .dataframe thead th {\n",
       "        text-align: right;\n",
       "    }\n",
       "</style>\n",
       "<table border=\"1\" class=\"dataframe\">\n",
       "  <thead>\n",
       "    <tr style=\"text-align: right;\">\n",
       "      <th></th>\n",
       "      <th>market_id</th>\n",
       "      <th>store_id</th>\n",
       "      <th>subtotal</th>\n",
       "      <th>total_onshift_dashers</th>\n",
       "      <th>total_busy_dashers</th>\n",
       "      <th>total_outstanding_orders</th>\n",
       "      <th>estimated_store_to_consumer_driving_duration</th>\n",
       "    </tr>\n",
       "  </thead>\n",
       "  <tbody>\n",
       "    <tr>\n",
       "      <th>count</th>\n",
       "      <td>196441.000000</td>\n",
       "      <td>197428.000000</td>\n",
       "      <td>197428.000000</td>\n",
       "      <td>181166.000000</td>\n",
       "      <td>181166.000000</td>\n",
       "      <td>181166.000000</td>\n",
       "      <td>196902.000000</td>\n",
       "    </tr>\n",
       "    <tr>\n",
       "      <th>mean</th>\n",
       "      <td>2.978706</td>\n",
       "      <td>3530.510272</td>\n",
       "      <td>2682.331402</td>\n",
       "      <td>44.808093</td>\n",
       "      <td>41.739747</td>\n",
       "      <td>58.050065</td>\n",
       "      <td>545.358935</td>\n",
       "    </tr>\n",
       "    <tr>\n",
       "      <th>std</th>\n",
       "      <td>1.524867</td>\n",
       "      <td>2053.496711</td>\n",
       "      <td>1823.093688</td>\n",
       "      <td>34.526783</td>\n",
       "      <td>32.145733</td>\n",
       "      <td>52.661830</td>\n",
       "      <td>219.352902</td>\n",
       "    </tr>\n",
       "    <tr>\n",
       "      <th>min</th>\n",
       "      <td>1.000000</td>\n",
       "      <td>1.000000</td>\n",
       "      <td>0.000000</td>\n",
       "      <td>-4.000000</td>\n",
       "      <td>-5.000000</td>\n",
       "      <td>-6.000000</td>\n",
       "      <td>0.000000</td>\n",
       "    </tr>\n",
       "    <tr>\n",
       "      <th>25%</th>\n",
       "      <td>2.000000</td>\n",
       "      <td>1686.000000</td>\n",
       "      <td>1400.000000</td>\n",
       "      <td>17.000000</td>\n",
       "      <td>15.000000</td>\n",
       "      <td>17.000000</td>\n",
       "      <td>382.000000</td>\n",
       "    </tr>\n",
       "    <tr>\n",
       "      <th>50%</th>\n",
       "      <td>3.000000</td>\n",
       "      <td>3592.000000</td>\n",
       "      <td>2200.000000</td>\n",
       "      <td>37.000000</td>\n",
       "      <td>34.000000</td>\n",
       "      <td>41.000000</td>\n",
       "      <td>544.000000</td>\n",
       "    </tr>\n",
       "    <tr>\n",
       "      <th>75%</th>\n",
       "      <td>4.000000</td>\n",
       "      <td>5299.000000</td>\n",
       "      <td>3395.000000</td>\n",
       "      <td>65.000000</td>\n",
       "      <td>62.000000</td>\n",
       "      <td>85.000000</td>\n",
       "      <td>702.000000</td>\n",
       "    </tr>\n",
       "    <tr>\n",
       "      <th>max</th>\n",
       "      <td>6.000000</td>\n",
       "      <td>6987.000000</td>\n",
       "      <td>27100.000000</td>\n",
       "      <td>171.000000</td>\n",
       "      <td>154.000000</td>\n",
       "      <td>285.000000</td>\n",
       "      <td>2088.000000</td>\n",
       "    </tr>\n",
       "  </tbody>\n",
       "</table>\n",
       "</div>"
      ],
      "text/plain": [
       "           market_id       store_id       subtotal  total_onshift_dashers  \\\n",
       "count  196441.000000  197428.000000  197428.000000          181166.000000   \n",
       "mean        2.978706    3530.510272    2682.331402              44.808093   \n",
       "std         1.524867    2053.496711    1823.093688              34.526783   \n",
       "min         1.000000       1.000000       0.000000              -4.000000   \n",
       "25%         2.000000    1686.000000    1400.000000              17.000000   \n",
       "50%         3.000000    3592.000000    2200.000000              37.000000   \n",
       "75%         4.000000    5299.000000    3395.000000              65.000000   \n",
       "max         6.000000    6987.000000   27100.000000             171.000000   \n",
       "\n",
       "       total_busy_dashers  total_outstanding_orders  \\\n",
       "count       181166.000000             181166.000000   \n",
       "mean            41.739747                 58.050065   \n",
       "std             32.145733                 52.661830   \n",
       "min             -5.000000                 -6.000000   \n",
       "25%             15.000000                 17.000000   \n",
       "50%             34.000000                 41.000000   \n",
       "75%             62.000000                 85.000000   \n",
       "max            154.000000                285.000000   \n",
       "\n",
       "       estimated_store_to_consumer_driving_duration  \n",
       "count                                 196902.000000  \n",
       "mean                                     545.358935  \n",
       "std                                      219.352902  \n",
       "min                                        0.000000  \n",
       "25%                                      382.000000  \n",
       "50%                                      544.000000  \n",
       "75%                                      702.000000  \n",
       "max                                     2088.000000  "
      ]
     },
     "execution_count": 5,
     "metadata": {},
     "output_type": "execute_result"
    }
   ],
   "source": [
    "hist_data.describe()"
   ]
  },
  {
   "cell_type": "code",
   "execution_count": 6,
   "id": "0bf73077",
   "metadata": {},
   "outputs": [
    {
     "name": "stdout",
     "output_type": "stream",
     "text": [
      "market_id                                       0.004999\n",
      "created_at                                      0.000000\n",
      "actual_delivery_time                            0.000035\n",
      "store_id                                        0.000000\n",
      "subtotal                                        0.000000\n",
      "total_onshift_dashers                           0.082369\n",
      "total_busy_dashers                              0.082369\n",
      "total_outstanding_orders                        0.082369\n",
      "estimated_store_to_consumer_driving_duration    0.002664\n",
      "dtype: float64\n"
     ]
    }
   ],
   "source": [
    "print(hist_data.isna().sum()/len(hist_data))"
   ]
  },
  {
   "cell_type": "code",
   "execution_count": 7,
   "id": "f4e0a446",
   "metadata": {},
   "outputs": [
    {
     "name": "stdout",
     "output_type": "stream",
     "text": [
      "<class 'pandas.core.frame.DataFrame'>\n",
      "RangeIndex: 197428 entries, 0 to 197427\n",
      "Data columns (total 9 columns):\n",
      " #   Column                                        Non-Null Count   Dtype  \n",
      "---  ------                                        --------------   -----  \n",
      " 0   market_id                                     196441 non-null  float64\n",
      " 1   created_at                                    197428 non-null  object \n",
      " 2   actual_delivery_time                          197421 non-null  object \n",
      " 3   store_id                                      197428 non-null  int64  \n",
      " 4   subtotal                                      197428 non-null  int64  \n",
      " 5   total_onshift_dashers                         181166 non-null  float64\n",
      " 6   total_busy_dashers                            181166 non-null  float64\n",
      " 7   total_outstanding_orders                      181166 non-null  float64\n",
      " 8   estimated_store_to_consumer_driving_duration  196902 non-null  float64\n",
      "dtypes: float64(5), int64(2), object(2)\n",
      "memory usage: 13.6+ MB\n"
     ]
    }
   ],
   "source": [
    "hist_data.info()"
   ]
  },
  {
   "cell_type": "code",
   "execution_count": 8,
   "id": "7d8db312",
   "metadata": {},
   "outputs": [],
   "source": [
    "import matplotlib.pyplot as plt\n",
    "%matplotlib inline"
   ]
  },
  {
   "cell_type": "code",
   "execution_count": 10,
   "id": "7f6f9646",
   "metadata": {},
   "outputs": [
    {
     "data": {
      "image/png": "[encoded data removed]",
      "text/plain": [
       "<Figure size 720x1080 with 9 Axes>"
      ]
     },
     "metadata": {
      "needs_background": "light"
     },
     "output_type": "display_data"
    }
   ],
   "source": [
    "_ = hist_data.hist(bins=50, figsize=(10,15))"
   ]
  },
  {
   "cell_type": "code",
   "execution_count": 11,
   "id": "4cf135d6",
   "metadata": {},
   "outputs": [
    {
     "data": {
      "image/png": "[encoded data removed]",
      "text/plain": [
       "<Figure size 1728x720 with 3 Axes>"
      ]
     },
     "metadata": {
      "needs_background": "light"
     },
     "output_type": "display_data"
    }
   ],
   "source": [
    "import missingno as msno\n",
    "_ = msno.bar(hist_data)"
   ]
  },
  {
   "cell_type": "code",
   "execution_count": 12,
   "id": "6e626f9f",
   "metadata": {},
   "outputs": [
    {
     "data": {
      "image/png": "[encoded data removed]",
      "text/plain": [
       "<Figure size 1440x864 with 2 Axes>"
      ]
     },
     "metadata": {
      "needs_background": "light"
     },
     "output_type": "display_data"
    }
   ],
   "source": [
    "_ = msno.heatmap(hist_data)"
   ]
  },
  {
   "cell_type": "markdown",
   "id": "61d9e280",
   "metadata": {},
   "source": [
    "#### So far, I've been identified the following data preprocessing steps:  \n",
    "#### 1. Fill in missing market_id with store id whenever possible  \n",
    "#### 2. Deal with missing and negative values for total_busy_dashers, total_outstanding_orders, total_onshift_dashers  \n",
    "#### 3. Estimate values for features above using median value (a more advanced version of the model would estimate values based on median/mean for specific market at given time of day)\n",
    "#### 4. Create features: total_delivery_duration_seconds and outstanding_orders_per_available_dasher"
   ]
  },
  {
   "cell_type": "code",
   "execution_count": 13,
   "id": "4f202514",
   "metadata": {},
   "outputs": [
    {
     "data": {
      "text/plain": [
       "market_id                                       float64\n",
       "created_at                                       object\n",
       "actual_delivery_time                             object\n",
       "store_id                                          int64\n",
       "subtotal                                          int64\n",
       "total_onshift_dashers                           float64\n",
       "total_busy_dashers                              float64\n",
       "total_outstanding_orders                        float64\n",
       "estimated_store_to_consumer_driving_duration    float64\n",
       "dtype: object"
      ]
     },
     "execution_count": 13,
     "metadata": {},
     "output_type": "execute_result"
    }
   ],
   "source": [
    "hist_data.dtypes"
   ]
  },
  {
   "cell_type": "code",
   "execution_count": 14,
   "id": "c56537d0",
   "metadata": {},
   "outputs": [],
   "source": [
    "hist_data['created_at'] = pd.to_datetime(hist_data['created_at'], infer_datetime_format=True)"
   ]
  },
  {
   "cell_type": "code",
   "execution_count": 15,
   "id": "42b4ab47",
   "metadata": {},
   "outputs": [],
   "source": [
    "hist_data['actual_delivery_time'] = pd.to_datetime(hist_data['actual_delivery_time'], infer_datetime_format=True)"
   ]
  },
  {
   "cell_type": "code",
   "execution_count": 16,
   "id": "cce1e8e2",
   "metadata": {},
   "outputs": [
    {
     "data": {
      "text/plain": [
       "market_id                                              float64\n",
       "created_at                                      datetime64[ns]\n",
       "actual_delivery_time                            datetime64[ns]\n",
       "store_id                                                 int64\n",
       "subtotal                                                 int64\n",
       "total_onshift_dashers                                  float64\n",
       "total_busy_dashers                                     float64\n",
       "total_outstanding_orders                               float64\n",
       "estimated_store_to_consumer_driving_duration           float64\n",
       "dtype: object"
      ]
     },
     "execution_count": 16,
     "metadata": {},
     "output_type": "execute_result"
    }
   ],
   "source": [
    "hist_data.dtypes"
   ]
  },
  {
   "cell_type": "code",
   "execution_count": 17,
   "id": "2615e41b",
   "metadata": {},
   "outputs": [],
   "source": [
    "hist_data['total_delivery_duration_seconds'] = (hist_data['actual_delivery_time'] - \\\n",
    "                                                    hist_data['created_at']).dt.total_seconds()"
   ]
  },
  {
   "cell_type": "code",
   "execution_count": 18,
   "id": "19953bf4",
   "metadata": {},
   "outputs": [
    {
     "data": {
      "text/html": [
       "<div>\n",
       "<style scoped>\n",
       "    .dataframe tbody tr th:only-of-type {\n",
       "        vertical-align: middle;\n",
       "    }\n",
       "\n",
       "    .dataframe tbody tr th {\n",
       "        vertical-align: top;\n",
       "    }\n",
       "\n",
       "    .dataframe thead th {\n",
       "        text-align: right;\n",
       "    }\n",
       "</style>\n",
       "<table border=\"1\" class=\"dataframe\">\n",
       "  <thead>\n",
       "    <tr style=\"text-align: right;\">\n",
       "      <th></th>\n",
       "      <th>market_id</th>\n",
       "      <th>created_at</th>\n",
       "      <th>actual_delivery_time</th>\n",
       "      <th>store_id</th>\n",
       "      <th>subtotal</th>\n",
       "      <th>total_onshift_dashers</th>\n",
       "      <th>total_busy_dashers</th>\n",
       "      <th>total_outstanding_orders</th>\n",
       "      <th>estimated_store_to_consumer_driving_duration</th>\n",
       "      <th>total_delivery_duration_seconds</th>\n",
       "    </tr>\n",
       "  </thead>\n",
       "  <tbody>\n",
       "    <tr>\n",
       "      <th>0</th>\n",
       "      <td>1.0</td>\n",
       "      <td>2015-02-06 22:24:17</td>\n",
       "      <td>2015-02-06 23:27:16</td>\n",
       "      <td>1845</td>\n",
       "      <td>3441</td>\n",
       "      <td>33.0</td>\n",
       "      <td>14.0</td>\n",
       "      <td>21.0</td>\n",
       "      <td>861.0</td>\n",
       "      <td>3779.0</td>\n",
       "    </tr>\n",
       "    <tr>\n",
       "      <th>1</th>\n",
       "      <td>2.0</td>\n",
       "      <td>2015-02-10 21:49:25</td>\n",
       "      <td>2015-02-10 22:56:29</td>\n",
       "      <td>5477</td>\n",
       "      <td>1900</td>\n",
       "      <td>1.0</td>\n",
       "      <td>2.0</td>\n",
       "      <td>2.0</td>\n",
       "      <td>690.0</td>\n",
       "      <td>4024.0</td>\n",
       "    </tr>\n",
       "    <tr>\n",
       "      <th>2</th>\n",
       "      <td>3.0</td>\n",
       "      <td>2015-01-22 20:39:28</td>\n",
       "      <td>2015-01-22 21:09:09</td>\n",
       "      <td>5477</td>\n",
       "      <td>1900</td>\n",
       "      <td>1.0</td>\n",
       "      <td>0.0</td>\n",
       "      <td>0.0</td>\n",
       "      <td>690.0</td>\n",
       "      <td>1781.0</td>\n",
       "    </tr>\n",
       "    <tr>\n",
       "      <th>3</th>\n",
       "      <td>3.0</td>\n",
       "      <td>2015-02-03 21:21:45</td>\n",
       "      <td>2015-02-03 22:13:00</td>\n",
       "      <td>5477</td>\n",
       "      <td>6900</td>\n",
       "      <td>1.0</td>\n",
       "      <td>1.0</td>\n",
       "      <td>2.0</td>\n",
       "      <td>289.0</td>\n",
       "      <td>3075.0</td>\n",
       "    </tr>\n",
       "    <tr>\n",
       "      <th>4</th>\n",
       "      <td>3.0</td>\n",
       "      <td>2015-02-15 02:40:36</td>\n",
       "      <td>2015-02-15 03:20:26</td>\n",
       "      <td>5477</td>\n",
       "      <td>3900</td>\n",
       "      <td>6.0</td>\n",
       "      <td>6.0</td>\n",
       "      <td>9.0</td>\n",
       "      <td>650.0</td>\n",
       "      <td>2390.0</td>\n",
       "    </tr>\n",
       "  </tbody>\n",
       "</table>\n",
       "</div>"
      ],
      "text/plain": [
       "   market_id          created_at actual_delivery_time  store_id  subtotal  \\\n",
       "0        1.0 2015-02-06 22:24:17  2015-02-06 23:27:16      1845      3441   \n",
       "1        2.0 2015-02-10 21:49:25  2015-02-10 22:56:29      5477      1900   \n",
       "2        3.0 2015-01-22 20:39:28  2015-01-22 21:09:09      5477      1900   \n",
       "3        3.0 2015-02-03 21:21:45  2015-02-03 22:13:00      5477      6900   \n",
       "4        3.0 2015-02-15 02:40:36  2015-02-15 03:20:26      5477      3900   \n",
       "\n",
       "   total_onshift_dashers  total_busy_dashers  total_outstanding_orders  \\\n",
       "0                   33.0                14.0                      21.0   \n",
       "1                    1.0                 2.0                       2.0   \n",
       "2                    1.0                 0.0                       0.0   \n",
       "3                    1.0                 1.0                       2.0   \n",
       "4                    6.0                 6.0                       9.0   \n",
       "\n",
       "   estimated_store_to_consumer_driving_duration  \\\n",
       "0                                         861.0   \n",
       "1                                         690.0   \n",
       "2                                         690.0   \n",
       "3                                         289.0   \n",
       "4                                         650.0   \n",
       "\n",
       "   total_delivery_duration_seconds  \n",
       "0                           3779.0  \n",
       "1                           4024.0  \n",
       "2                           1781.0  \n",
       "3                           3075.0  \n",
       "4                           2390.0  "
      ]
     },
     "execution_count": 18,
     "metadata": {},
     "output_type": "execute_result"
    }
   ],
   "source": [
    "hist_data.head()"
   ]
  },
  {
   "cell_type": "code",
   "execution_count": 19,
   "id": "db655ad4",
   "metadata": {},
   "outputs": [
    {
     "data": {
      "text/plain": [
       "market_id                                              float64\n",
       "created_at                                      datetime64[ns]\n",
       "actual_delivery_time                            datetime64[ns]\n",
       "store_id                                                 int64\n",
       "subtotal                                                 int64\n",
       "total_onshift_dashers                                  float64\n",
       "total_busy_dashers                                     float64\n",
       "total_outstanding_orders                               float64\n",
       "estimated_store_to_consumer_driving_duration           float64\n",
       "total_delivery_duration_seconds                        float64\n",
       "dtype: object"
      ]
     },
     "execution_count": 19,
     "metadata": {},
     "output_type": "execute_result"
    }
   ],
   "source": [
    "hist_data.dtypes"
   ]
  },
  {
   "cell_type": "markdown",
   "id": "fc5b39c5",
   "metadata": {},
   "source": [
    "#### Let's now check if the distribution of seconds makes sense - i.e. if there are any negative values or outliers we'd need to deal with. First, let's create a numpy array of total delivery minutes since it's easier to interpret compared to seconds."
   ]
  },
  {
   "cell_type": "code",
   "execution_count": 20,
   "id": "d3c1c1b1",
   "metadata": {},
   "outputs": [],
   "source": [
    "delivery_minutes = np.array(hist_data['total_delivery_duration_seconds'].values.tolist())/60"
   ]
  },
  {
   "cell_type": "code",
   "execution_count": 21,
   "id": "1351a2bb",
   "metadata": {},
   "outputs": [
    {
     "data": {
      "text/plain": [
       "array([nan, nan, nan, nan])"
      ]
     },
     "execution_count": 21,
     "metadata": {},
     "output_type": "execute_result"
    }
   ],
   "source": [
    "np.percentile(delivery_minutes, [25,50,75,100])"
   ]
  },
  {
   "cell_type": "code",
   "execution_count": 22,
   "id": "7118878a",
   "metadata": {},
   "outputs": [],
   "source": [
    "delivery_minutes = delivery_minutes[~np.isnan(delivery_minutes)]"
   ]
  },
  {
   "cell_type": "code",
   "execution_count": 23,
   "id": "98cb5b85",
   "metadata": {},
   "outputs": [
    {
     "data": {
      "text/plain": [
       "array([3.50666667e+01, 4.43333333e+01, 5.63500000e+01, 1.41947650e+05])"
      ]
     },
     "execution_count": 23,
     "metadata": {},
     "output_type": "execute_result"
    }
   ],
   "source": [
    "np.percentile(delivery_minutes, [25,50,75,100])"
   ]
  },
  {
   "cell_type": "code",
   "execution_count": 24,
   "id": "670e3e88",
   "metadata": {},
   "outputs": [],
   "source": [
    "outliers = delivery_minutes[delivery_minutes >= 180]"
   ]
  },
  {
   "cell_type": "code",
   "execution_count": 25,
   "id": "b7195058",
   "metadata": {},
   "outputs": [
    {
     "data": {
      "text/plain": [
       "(138,)"
      ]
     },
     "execution_count": 25,
     "metadata": {},
     "output_type": "execute_result"
    }
   ],
   "source": [
    "outliers.shape"
   ]
  },
  {
   "cell_type": "code",
   "execution_count": 26,
   "id": "662b9892",
   "metadata": {},
   "outputs": [],
   "source": [
    "outliers = delivery_minutes[delivery_minutes >= 300]"
   ]
  },
  {
   "cell_type": "code",
   "execution_count": 27,
   "id": "5b103381",
   "metadata": {},
   "outputs": [
    {
     "data": {
      "text/plain": [
       "(35,)"
      ]
     },
     "execution_count": 27,
     "metadata": {},
     "output_type": "execute_result"
    }
   ],
   "source": [
    "outliers.shape"
   ]
  },
  {
   "cell_type": "markdown",
   "id": "b89bb3b4",
   "metadata": {},
   "source": [
    "So we have 35 instances of deliveries taking longer than 5 hours and 138 instances of them taking longer than 3 hours."
   ]
  },
  {
   "cell_type": "code",
   "execution_count": 28,
   "id": "0baaa2aa",
   "metadata": {},
   "outputs": [],
   "source": [
    "q25 = np.percentile(delivery_minutes, 25)\n",
    "q75 = np.percentile(delivery_minutes, 75)\n",
    "iqr = q75 - q25"
   ]
  },
  {
   "cell_type": "code",
   "execution_count": 35,
   "id": "5d2793ad",
   "metadata": {},
   "outputs": [
    {
     "name": "stdout",
     "output_type": "stream",
     "text": [
      "21.28333333333333\n"
     ]
    }
   ],
   "source": [
    "print(iqr)"
   ]
  },
  {
   "cell_type": "code",
   "execution_count": 43,
   "id": "4680c38e",
   "metadata": {},
   "outputs": [
    {
     "data": {
      "image/png": "[encoded data removed]",
      "text/plain": [
       "<Figure size 432x288 with 1 Axes>"
      ]
     },
     "metadata": {
      "needs_background": "light"
     },
     "output_type": "display_data"
    }
   ],
   "source": [
    "_ = plt.hist(delivery_minutes, bins=[x * 5 for x in range(0,21)])"
   ]
  },
  {
   "cell_type": "code",
   "execution_count": 44,
   "id": "9d8f60c3",
   "metadata": {},
   "outputs": [
    {
     "name": "stdout",
     "output_type": "stream",
     "text": [
      "(1,)\n"
     ]
    }
   ],
   "source": [
    "print(delivery_minutes[delivery_minutes < (q25 - 1.5 * iqr)].shape)"
   ]
  },
  {
   "cell_type": "code",
   "execution_count": 47,
   "id": "c33063de",
   "metadata": {},
   "outputs": [
    {
     "name": "stdout",
     "output_type": "stream",
     "text": [
      "(6277,)\n"
     ]
    }
   ],
   "source": [
    "print(delivery_minutes[delivery_minutes > (q75 + 1.5 * iqr)].shape)"
   ]
  },
  {
   "cell_type": "markdown",
   "id": "5836cc9c",
   "metadata": {},
   "source": [
    "So the classic IQR method yields 1 low outlier and 6277 'high' outliers."
   ]
  },
  {
   "cell_type": "markdown",
   "id": "8f9655fb",
   "metadata": {},
   "source": [
    "Let's investigate this in the dataframe itself."
   ]
  },
  {
   "cell_type": "code",
   "execution_count": 49,
   "id": "d3bc22f9",
   "metadata": {},
   "outputs": [],
   "source": [
    "q25 = q25*60\n",
    "q75 = q75*60"
   ]
  },
  {
   "cell_type": "code",
   "execution_count": 59,
   "id": "c2d4cae5",
   "metadata": {},
   "outputs": [
    {
     "name": "stdout",
     "output_type": "stream",
     "text": [
      "2104.0 3381.0\n"
     ]
    }
   ],
   "source": [
    "print(q25, q75)"
   ]
  },
  {
   "cell_type": "code",
   "execution_count": 61,
   "id": "5bdb01fb",
   "metadata": {},
   "outputs": [],
   "source": [
    "iqr = q75-q25"
   ]
  },
  {
   "cell_type": "code",
   "execution_count": 62,
   "id": "da81d774",
   "metadata": {},
   "outputs": [],
   "source": [
    "hist_data['is_outlier'] = False\n",
    "hist_data.loc[hist_data['total_delivery_duration_seconds'] > (q75+1.5*iqr), 'is_outlier'] = True\n",
    "hist_data.loc[hist_data['total_delivery_duration_seconds'] < (q25-1.5*iqr), 'is_outlier'] = True\n",
    "outlier_df = hist_data[hist_data['is_outlier'] == True]"
   ]
  },
  {
   "cell_type": "code",
   "execution_count": 63,
   "id": "0bd07b2a",
   "metadata": {},
   "outputs": [
    {
     "name": "stdout",
     "output_type": "stream",
     "text": [
      "(6278, 11)\n"
     ]
    }
   ],
   "source": [
    "print(outlier_df.shape)"
   ]
  },
  {
   "cell_type": "code",
   "execution_count": 65,
   "id": "7a0a23ae",
   "metadata": {},
   "outputs": [
    {
     "data": {
      "text/plain": [
       "count     6278.000000\n",
       "mean      3345.850749\n",
       "std       2417.580929\n",
       "min          0.000000\n",
       "25%       1670.000000\n",
       "50%       2695.000000\n",
       "75%       4250.000000\n",
       "max      27100.000000\n",
       "Name: subtotal, dtype: float64"
      ]
     },
     "execution_count": 65,
     "metadata": {},
     "output_type": "execute_result"
    }
   ],
   "source": [
    "outlier_df['subtotal'].describe()"
   ]
  },
  {
   "cell_type": "code",
   "execution_count": 66,
   "id": "3dd3b11d",
   "metadata": {},
   "outputs": [
    {
     "name": "stdout",
     "output_type": "stream",
     "text": [
      "         market_id     store_id      subtotal  total_onshift_dashers  \\\n",
      "count  6246.000000  6278.000000   6278.000000            5729.000000   \n",
      "mean      2.652418  3461.202134   3345.850749              38.962297   \n",
      "std       1.626069  2037.089220   2417.580929              34.943485   \n",
      "min       1.000000     4.000000      0.000000              -1.000000   \n",
      "25%       1.000000  1661.000000   1670.000000              11.000000   \n",
      "50%       2.000000  3471.000000   2695.000000              27.000000   \n",
      "75%       4.000000  5173.000000   4250.000000              59.000000   \n",
      "max       6.000000  6983.000000  27100.000000             157.000000   \n",
      "\n",
      "       total_busy_dashers  total_outstanding_orders  \\\n",
      "count         5729.000000               5729.000000   \n",
      "mean            37.760342                 63.648281   \n",
      "std             32.992434                 60.525781   \n",
      "min              0.000000                 -5.000000   \n",
      "25%             11.000000                 16.000000   \n",
      "50%             26.000000                 40.000000   \n",
      "75%             58.000000                 97.000000   \n",
      "max            148.000000                278.000000   \n",
      "\n",
      "       estimated_store_to_consumer_driving_duration  \\\n",
      "count                                   6271.000000   \n",
      "mean                                     620.734333   \n",
      "std                                      224.446971   \n",
      "min                                        1.000000   \n",
      "25%                                      467.000000   \n",
      "50%                                      625.000000   \n",
      "75%                                      775.000000   \n",
      "max                                     2088.000000   \n",
      "\n",
      "       total_delivery_duration_seconds  \n",
      "count                     6.278000e+03  \n",
      "mean                      7.983618e+03  \n",
      "std                       1.076082e+05  \n",
      "min                       1.010000e+02  \n",
      "25%                       5.573000e+03  \n",
      "50%                       5.968500e+03  \n",
      "75%                       6.720500e+03  \n",
      "max                       8.516859e+06  \n"
     ]
    }
   ],
   "source": [
    "print(outlier_df.describe())"
   ]
  },
  {
   "cell_type": "markdown",
   "id": "f5bc9633",
   "metadata": {},
   "source": [
    "These outliers appear random, as in the other features' values do not indicate there is any sort of sampling bias at play. In other words, they are likely to be random data entry errors. With that in mind, and considering that they only consist of around 3% of rows, I believe it is safe to delete them. The only caveat I would point out here is that we should combine the IQR method with a bit of business sense and not remove orders below 2 hours, as it is not unthinkable that this might occur."
   ]
  },
  {
   "cell_type": "code",
   "execution_count": 69,
   "id": "0a8a62c0",
   "metadata": {},
   "outputs": [],
   "source": [
    "outlier_df2 = outlier_df[outlier_df['total_delivery_duration_seconds'] <= 7200]"
   ]
  },
  {
   "cell_type": "code",
   "execution_count": 70,
   "id": "8c4b0c33",
   "metadata": {},
   "outputs": [
    {
     "data": {
      "text/html": [
       "<div>\n",
       "<style scoped>\n",
       "    .dataframe tbody tr th:only-of-type {\n",
       "        vertical-align: middle;\n",
       "    }\n",
       "\n",
       "    .dataframe tbody tr th {\n",
       "        vertical-align: top;\n",
       "    }\n",
       "\n",
       "    .dataframe thead th {\n",
       "        text-align: right;\n",
       "    }\n",
       "</style>\n",
       "<table border=\"1\" class=\"dataframe\">\n",
       "  <thead>\n",
       "    <tr style=\"text-align: right;\">\n",
       "      <th></th>\n",
       "      <th>market_id</th>\n",
       "      <th>store_id</th>\n",
       "      <th>subtotal</th>\n",
       "      <th>total_onshift_dashers</th>\n",
       "      <th>total_busy_dashers</th>\n",
       "      <th>total_outstanding_orders</th>\n",
       "      <th>estimated_store_to_consumer_driving_duration</th>\n",
       "      <th>total_delivery_duration_seconds</th>\n",
       "    </tr>\n",
       "  </thead>\n",
       "  <tbody>\n",
       "    <tr>\n",
       "      <th>count</th>\n",
       "      <td>5165.000000</td>\n",
       "      <td>5188.000000</td>\n",
       "      <td>5188.000000</td>\n",
       "      <td>4722.000000</td>\n",
       "      <td>4722.000000</td>\n",
       "      <td>4722.000000</td>\n",
       "      <td>5183.000000</td>\n",
       "      <td>5188.000000</td>\n",
       "    </tr>\n",
       "    <tr>\n",
       "      <th>mean</th>\n",
       "      <td>2.659439</td>\n",
       "      <td>3475.075559</td>\n",
       "      <td>3381.217232</td>\n",
       "      <td>39.602922</td>\n",
       "      <td>38.445362</td>\n",
       "      <td>64.752647</td>\n",
       "      <td>619.224580</td>\n",
       "      <td>5931.861218</td>\n",
       "    </tr>\n",
       "    <tr>\n",
       "      <th>std</th>\n",
       "      <td>1.627844</td>\n",
       "      <td>2036.048467</td>\n",
       "      <td>2444.056885</td>\n",
       "      <td>35.271226</td>\n",
       "      <td>33.362999</td>\n",
       "      <td>61.122749</td>\n",
       "      <td>222.835044</td>\n",
       "      <td>501.145693</td>\n",
       "    </tr>\n",
       "    <tr>\n",
       "      <th>min</th>\n",
       "      <td>1.000000</td>\n",
       "      <td>4.000000</td>\n",
       "      <td>0.000000</td>\n",
       "      <td>-1.000000</td>\n",
       "      <td>0.000000</td>\n",
       "      <td>-5.000000</td>\n",
       "      <td>1.000000</td>\n",
       "      <td>101.000000</td>\n",
       "    </tr>\n",
       "    <tr>\n",
       "      <th>25%</th>\n",
       "      <td>1.000000</td>\n",
       "      <td>1661.000000</td>\n",
       "      <td>1691.500000</td>\n",
       "      <td>11.000000</td>\n",
       "      <td>11.000000</td>\n",
       "      <td>16.000000</td>\n",
       "      <td>465.000000</td>\n",
       "      <td>5516.750000</td>\n",
       "    </tr>\n",
       "    <tr>\n",
       "      <th>50%</th>\n",
       "      <td>2.000000</td>\n",
       "      <td>3491.000000</td>\n",
       "      <td>2699.000000</td>\n",
       "      <td>27.000000</td>\n",
       "      <td>26.000000</td>\n",
       "      <td>41.000000</td>\n",
       "      <td>624.000000</td>\n",
       "      <td>5807.000000</td>\n",
       "    </tr>\n",
       "    <tr>\n",
       "      <th>75%</th>\n",
       "      <td>4.000000</td>\n",
       "      <td>5183.250000</td>\n",
       "      <td>4274.250000</td>\n",
       "      <td>60.000000</td>\n",
       "      <td>59.000000</td>\n",
       "      <td>99.000000</td>\n",
       "      <td>774.000000</td>\n",
       "      <td>6280.250000</td>\n",
       "    </tr>\n",
       "    <tr>\n",
       "      <th>max</th>\n",
       "      <td>6.000000</td>\n",
       "      <td>6983.000000</td>\n",
       "      <td>19650.000000</td>\n",
       "      <td>157.000000</td>\n",
       "      <td>148.000000</td>\n",
       "      <td>278.000000</td>\n",
       "      <td>1739.000000</td>\n",
       "      <td>7196.000000</td>\n",
       "    </tr>\n",
       "  </tbody>\n",
       "</table>\n",
       "</div>"
      ],
      "text/plain": [
       "         market_id     store_id      subtotal  total_onshift_dashers  \\\n",
       "count  5165.000000  5188.000000   5188.000000            4722.000000   \n",
       "mean      2.659439  3475.075559   3381.217232              39.602922   \n",
       "std       1.627844  2036.048467   2444.056885              35.271226   \n",
       "min       1.000000     4.000000      0.000000              -1.000000   \n",
       "25%       1.000000  1661.000000   1691.500000              11.000000   \n",
       "50%       2.000000  3491.000000   2699.000000              27.000000   \n",
       "75%       4.000000  5183.250000   4274.250000              60.000000   \n",
       "max       6.000000  6983.000000  19650.000000             157.000000   \n",
       "\n",
       "       total_busy_dashers  total_outstanding_orders  \\\n",
       "count         4722.000000               4722.000000   \n",
       "mean            38.445362                 64.752647   \n",
       "std             33.362999                 61.122749   \n",
       "min              0.000000                 -5.000000   \n",
       "25%             11.000000                 16.000000   \n",
       "50%             26.000000                 41.000000   \n",
       "75%             59.000000                 99.000000   \n",
       "max            148.000000                278.000000   \n",
       "\n",
       "       estimated_store_to_consumer_driving_duration  \\\n",
       "count                                   5183.000000   \n",
       "mean                                     619.224580   \n",
       "std                                      222.835044   \n",
       "min                                        1.000000   \n",
       "25%                                      465.000000   \n",
       "50%                                      624.000000   \n",
       "75%                                      774.000000   \n",
       "max                                     1739.000000   \n",
       "\n",
       "       total_delivery_duration_seconds  \n",
       "count                      5188.000000  \n",
       "mean                       5931.861218  \n",
       "std                         501.145693  \n",
       "min                         101.000000  \n",
       "25%                        5516.750000  \n",
       "50%                        5807.000000  \n",
       "75%                        6280.250000  \n",
       "max                        7196.000000  "
      ]
     },
     "execution_count": 70,
     "metadata": {},
     "output_type": "execute_result"
    }
   ],
   "source": [
    "outlier_df2.describe()"
   ]
  },
  {
   "cell_type": "markdown",
   "id": "52e3a66b",
   "metadata": {},
   "source": [
    "The quick check above reveals no bias here either."
   ]
  },
  {
   "cell_type": "markdown",
   "id": "8f94b7d7",
   "metadata": {},
   "source": [
    "The last steps before splitting training and test sets and creating preprocessing pipelines will be:  create the other variable we needed, total outstanding orders per available dasher, examine feature correlations, and examining the number of negative values for features where that does not make sense."
   ]
  },
  {
   "cell_type": "code",
   "execution_count": 143,
   "id": "f7301a64",
   "metadata": {
    "scrolled": false
   },
   "outputs": [
    {
     "data": {
      "text/plain": [
       "total_delivery_duration_seconds                 1.000000\n",
       "total_outstanding_orders                        0.122294\n",
       "total_busy_dashers                              0.060641\n",
       "total_onshift_dashers                           0.046972\n",
       "out_orders_per_avail_dasher                     0.031700\n",
       "estimated_store_to_consumer_driving_duration    0.012198\n",
       "subtotal                                        0.011200\n",
       "store_id                                       -0.000414\n",
       "market_id                                      -0.005784\n",
       "avail_dasher                                   -0.028682\n",
       "Name: total_delivery_duration_seconds, dtype: float64"
      ]
     },
     "execution_count": 143,
     "metadata": {},
     "output_type": "execute_result"
    }
   ],
   "source": [
    "hist_data = pd.read_csv('historical_data.csv')\n",
    "hist_data['avail_dasher'] = hist_data['total_onshift_dashers'] - hist_data['total_busy_dashers']\n",
    "hist_data['out_orders_per_avail_dasher'] = hist_data['total_outstanding_orders']/hist_data['avail_dasher']\n",
    "hist_data['created_at'] = pd.to_datetime(hist_data['created_at'], infer_datetime_format=True)\n",
    "hist_data['actual_delivery_time'] = pd.to_datetime(hist_data['actual_delivery_time'], infer_datetime_format=True)\n",
    "hist_data['total_delivery_duration_seconds'] = (hist_data['actual_delivery_time'] - \\\n",
    "                                                    hist_data['created_at']).dt.total_seconds()\n",
    "corr_matrix = hist_data.corr()\n",
    "corr_matrix['total_delivery_duration_seconds'].sort_values(ascending=False)"
   ]
  },
  {
   "cell_type": "code",
   "execution_count": 77,
   "id": "ca9dea69",
   "metadata": {},
   "outputs": [],
   "source": [
    "test = hist_data[hist_data['total_onshift_dashers'] < 0]"
   ]
  },
  {
   "cell_type": "code",
   "execution_count": 78,
   "id": "fe174f6f",
   "metadata": {},
   "outputs": [
    {
     "name": "stdout",
     "output_type": "stream",
     "text": [
      "(21, 11)\n"
     ]
    }
   ],
   "source": [
    "print(test.shape)"
   ]
  },
  {
   "cell_type": "code",
   "execution_count": 80,
   "id": "6e423864",
   "metadata": {},
   "outputs": [],
   "source": [
    "test = hist_data[hist_data['total_outstanding_orders'] < 0]"
   ]
  },
  {
   "cell_type": "code",
   "execution_count": 81,
   "id": "7a3b2a9c",
   "metadata": {},
   "outputs": [
    {
     "name": "stdout",
     "output_type": "stream",
     "text": [
      "(44, 11)\n"
     ]
    }
   ],
   "source": [
    "print(test.shape)"
   ]
  },
  {
   "cell_type": "markdown",
   "id": "d5b68439",
   "metadata": {},
   "source": [
    "## Now, let's split the data and create the pipelines."
   ]
  },
  {
   "cell_type": "code",
   "execution_count": 85,
   "id": "d7fd1e3c",
   "metadata": {},
   "outputs": [],
   "source": [
    "from sklearn.model_selection import train_test_split\n",
    "from sklearn.pipeline import Pipeline"
   ]
  },
  {
   "cell_type": "code",
   "execution_count": 83,
   "id": "0e82cc8e",
   "metadata": {},
   "outputs": [],
   "source": [
    "hist_data = pd.read_csv('historical_data.csv')"
   ]
  },
  {
   "cell_type": "code",
   "execution_count": 114,
   "id": "8d880f49",
   "metadata": {},
   "outputs": [],
   "source": [
    "train_set, test_set = train_test_split(hist_data, test_size=0.2, random_state=42)"
   ]
  },
  {
   "cell_type": "code",
   "execution_count": 117,
   "id": "72efbadd",
   "metadata": {},
   "outputs": [],
   "source": [
    "# Custom transformer to extract labels (delivery time) from new data\n",
    "class DeliveryTimeCalculator(BaseEstimator, TransformerMixin):\n",
    "\n",
    "\tdef __init__(self, upper_outlier_seconds = None):\n",
    "\t\tself.fixed_threshold = upper_outlier_seconds\n",
    "\n",
    "\tdef fit(self, X, y=None):\n",
    "\t\treturn self\n",
    "\n",
    "\tdef transform(self, X):\n",
    "\t\tassert isinstance(X, (pd.Series, pd.DataFrame))\n",
    "\t\tX = X.copy()\n",
    "\t\tX['created_at'] = pd.to_datetime(X['created_at'], infer_datetime_format=True)\n",
    "\t\tX['actual_delivery_time'] = pd.to_datetime(X['actual_delivery_time'], infer_datetime_format=True)\n",
    "\t\tX['total_delivery_duration_seconds'] = (X['actual_delivery_time'] - \\\n",
    "                                                    X['created_at']).dt.total_seconds()\n",
    "\n",
    "\t\t\n",
    "\t\tseconds_array = X['total_delivery_duration_seconds'].to_numpy()\n",
    "\t\tseconds_array = seconds_array[~np.isnan(seconds_array)]\n",
    "\t\tq25 = np.percentile(seconds_array, 25)\n",
    "\t\tq75 = np.percentile(seconds_array, 75)\n",
    "\t\tiqr = q75 - q25\n",
    "\n",
    "\t\tlo_threshold = q25 - 1.5 * iqr\n",
    "\n",
    "\t\tif self.fixed_threshold is None:\n",
    "\t\t\thi_threshold = q75 + 1.5 * iqr\n",
    "\t\telse:\n",
    "\t\t\thi_threshold = self.fixed_threshold\n",
    "\n",
    "\n",
    "\t\tX['is_outlier'] = False\n",
    "\t\tX.loc[X['total_delivery_duration_seconds'] > hi_threshold, 'is_outlier'] = True\n",
    "\t\tX.loc[X['total_delivery_duration_seconds'] < lo_threshold, 'is_outlier'] = True\n",
    "\t\tX = X[X['is_outlier'] == False]\n",
    "\t\tX = X.drop('is_outlier', axis=1)\n",
    "\n",
    "\t\treturn X"
   ]
  },
  {
   "cell_type": "code",
   "execution_count": 118,
   "id": "98de21ff",
   "metadata": {},
   "outputs": [],
   "source": [
    "train_set = DeliveryTimeCalculator(upper_outlier_seconds=7200).fit_transform(train_set)"
   ]
  },
  {
   "cell_type": "code",
   "execution_count": 120,
   "id": "5649ba76",
   "metadata": {},
   "outputs": [
    {
     "name": "stdout",
     "output_type": "stream",
     "text": [
      "        market_id          created_at actual_delivery_time  store_id  \\\n",
      "178523        3.0 2015-02-10 02:25:28  2015-02-10 03:09:01      1659   \n",
      "89414         4.0 2015-01-23 04:23:13  2015-01-23 05:01:12      3748   \n",
      "94190         1.0 2015-01-24 03:33:32  2015-01-24 04:03:35      6750   \n",
      "136117        5.0 2015-02-17 00:25:38  2015-02-17 01:14:22      6456   \n",
      "53337         4.0 2015-01-26 01:19:16  2015-01-26 02:24:02      6889   \n",
      "\n",
      "        subtotal  total_onshift_dashers  total_busy_dashers  \\\n",
      "178523      1298                    0.0                 0.0   \n",
      "89414       1690                   78.0                64.0   \n",
      "94190       3300                   63.0                66.0   \n",
      "136117      3029                   23.0                15.0   \n",
      "53337       3390                   71.0                98.0   \n",
      "\n",
      "        total_outstanding_orders  \\\n",
      "178523                       0.0   \n",
      "89414                       75.0   \n",
      "94190                       90.0   \n",
      "136117                      15.0   \n",
      "53337                       91.0   \n",
      "\n",
      "        estimated_store_to_consumer_driving_duration  \\\n",
      "178523                                         821.0   \n",
      "89414                                          406.0   \n",
      "94190                                          296.0   \n",
      "136117                                         773.0   \n",
      "53337                                          758.0   \n",
      "\n",
      "        total_delivery_duration_seconds  avail_dasher  \\\n",
      "178523                           2613.0           0.0   \n",
      "89414                            2279.0          14.0   \n",
      "94190                            1803.0          -3.0   \n",
      "136117                           2924.0           8.0   \n",
      "53337                            3886.0         -27.0   \n",
      "\n",
      "        out_orders_per_avail_dasher  \n",
      "178523                          NaN  \n",
      "89414                      0.186667  \n",
      "94190                     -0.033333  \n",
      "136117                     0.533333  \n",
      "53337                     -0.296703  \n"
     ]
    }
   ],
   "source": [
    "print(train_set.head())"
   ]
  },
  {
   "cell_type": "code",
   "execution_count": 122,
   "id": "4fd6f613",
   "metadata": {},
   "outputs": [],
   "source": [
    "from sklearn.pipeline import Pipeline\n",
    "from sklearn.impute import SimpleImputer\n",
    "from sklearn.preprocessing import StandardScaler\n",
    "from sklearn.compose import ColumnTransformer"
   ]
  },
  {
   "cell_type": "code",
   "execution_count": 123,
   "id": "eba952ef",
   "metadata": {},
   "outputs": [],
   "source": [
    "MARKET_FEATURES = ['total_onshift_dashers', 'total_busy_dashers', 'total_outstanding_orders']\n",
    "NUM_FEATURES = ['store_id', 'subtotal', 'estimated_store_to_consumer_driving_duration']\n",
    "train_labels = train_set['total_delivery_duration_seconds'].to_numpy()"
   ]
  },
  {
   "cell_type": "code",
   "execution_count": 124,
   "id": "5782cfaf",
   "metadata": {},
   "outputs": [],
   "source": [
    "market_pipeline = Pipeline([('mkt_feat_processer', MarketFeatureProcesser()), ('imputer', SimpleImputer(strategy='median')), \\\n",
    "\t\t\t\t\t\t\t\t\t\t('scaler', StandardScaler())])\n",
    "num_pipeline = Pipeline([('imputer', SimpleImputer(strategy='median')), ('scaler', StandardScaler())])\n",
    "full_pipeline = ColumnTransformer([('market', market_pipeline,MARKET_FEATURES), ('num', num_pipeline, NUM_FEATURES)])"
   ]
  },
  {
   "cell_type": "code",
   "execution_count": 126,
   "id": "26e3b847",
   "metadata": {},
   "outputs": [],
   "source": [
    "debug_set = train_set[MARKET_FEATURES]"
   ]
  },
  {
   "cell_type": "code",
   "execution_count": 129,
   "id": "83e0eee5",
   "metadata": {},
   "outputs": [],
   "source": [
    "debug_set = train_set[MARKET_FEATURES].copy()"
   ]
  },
  {
   "cell_type": "code",
   "execution_count": 130,
   "id": "7a953c06",
   "metadata": {},
   "outputs": [],
   "source": [
    "debug_set[debug_set < 0] = np.nan"
   ]
  },
  {
   "cell_type": "code",
   "execution_count": 131,
   "id": "c60aac96",
   "metadata": {
    "scrolled": true
   },
   "outputs": [
    {
     "name": "stdout",
     "output_type": "stream",
     "text": [
      "        total_onshift_dashers  total_busy_dashers  total_outstanding_orders\n",
      "178523                    0.0                 0.0                       0.0\n",
      "89414                    78.0                64.0                      75.0\n",
      "94190                    63.0                66.0                      90.0\n",
      "136117                   23.0                15.0                      15.0\n",
      "53337                    71.0                98.0                      91.0\n",
      "...                       ...                 ...                       ...\n",
      "119879                   56.0                69.0                      66.0\n",
      "103694                   50.0                51.0                      62.0\n",
      "131932                   51.0                49.0                      78.0\n",
      "146867                   38.0                64.0                      81.0\n",
      "121958                    NaN                 NaN                       NaN\n",
      "\n",
      "[157059 rows x 3 columns]\n"
     ]
    }
   ],
   "source": [
    "print(debug_set)"
   ]
  },
  {
   "cell_type": "code",
   "execution_count": 132,
   "id": "9414e804",
   "metadata": {},
   "outputs": [
    {
     "data": {
      "text/html": [
       "<div>\n",
       "<style scoped>\n",
       "    .dataframe tbody tr th:only-of-type {\n",
       "        vertical-align: middle;\n",
       "    }\n",
       "\n",
       "    .dataframe tbody tr th {\n",
       "        vertical-align: top;\n",
       "    }\n",
       "\n",
       "    .dataframe thead th {\n",
       "        text-align: right;\n",
       "    }\n",
       "</style>\n",
       "<table border=\"1\" class=\"dataframe\">\n",
       "  <thead>\n",
       "    <tr style=\"text-align: right;\">\n",
       "      <th></th>\n",
       "      <th>total_onshift_dashers</th>\n",
       "      <th>total_busy_dashers</th>\n",
       "      <th>total_outstanding_orders</th>\n",
       "    </tr>\n",
       "  </thead>\n",
       "  <tbody>\n",
       "    <tr>\n",
       "      <th>178523</th>\n",
       "      <td>False</td>\n",
       "      <td>False</td>\n",
       "      <td>False</td>\n",
       "    </tr>\n",
       "    <tr>\n",
       "      <th>89414</th>\n",
       "      <td>False</td>\n",
       "      <td>False</td>\n",
       "      <td>False</td>\n",
       "    </tr>\n",
       "    <tr>\n",
       "      <th>94190</th>\n",
       "      <td>False</td>\n",
       "      <td>False</td>\n",
       "      <td>False</td>\n",
       "    </tr>\n",
       "    <tr>\n",
       "      <th>136117</th>\n",
       "      <td>False</td>\n",
       "      <td>False</td>\n",
       "      <td>False</td>\n",
       "    </tr>\n",
       "    <tr>\n",
       "      <th>53337</th>\n",
       "      <td>False</td>\n",
       "      <td>False</td>\n",
       "      <td>False</td>\n",
       "    </tr>\n",
       "    <tr>\n",
       "      <th>...</th>\n",
       "      <td>...</td>\n",
       "      <td>...</td>\n",
       "      <td>...</td>\n",
       "    </tr>\n",
       "    <tr>\n",
       "      <th>119879</th>\n",
       "      <td>False</td>\n",
       "      <td>False</td>\n",
       "      <td>False</td>\n",
       "    </tr>\n",
       "    <tr>\n",
       "      <th>103694</th>\n",
       "      <td>False</td>\n",
       "      <td>False</td>\n",
       "      <td>False</td>\n",
       "    </tr>\n",
       "    <tr>\n",
       "      <th>131932</th>\n",
       "      <td>False</td>\n",
       "      <td>False</td>\n",
       "      <td>False</td>\n",
       "    </tr>\n",
       "    <tr>\n",
       "      <th>146867</th>\n",
       "      <td>False</td>\n",
       "      <td>False</td>\n",
       "      <td>False</td>\n",
       "    </tr>\n",
       "    <tr>\n",
       "      <th>121958</th>\n",
       "      <td>True</td>\n",
       "      <td>True</td>\n",
       "      <td>True</td>\n",
       "    </tr>\n",
       "  </tbody>\n",
       "</table>\n",
       "<p>157059 rows × 3 columns</p>\n",
       "</div>"
      ],
      "text/plain": [
       "        total_onshift_dashers  total_busy_dashers  total_outstanding_orders\n",
       "178523                  False               False                     False\n",
       "89414                   False               False                     False\n",
       "94190                   False               False                     False\n",
       "136117                  False               False                     False\n",
       "53337                   False               False                     False\n",
       "...                       ...                 ...                       ...\n",
       "119879                  False               False                     False\n",
       "103694                  False               False                     False\n",
       "131932                  False               False                     False\n",
       "146867                  False               False                     False\n",
       "121958                   True                True                      True\n",
       "\n",
       "[157059 rows x 3 columns]"
      ]
     },
     "execution_count": 132,
     "metadata": {},
     "output_type": "execute_result"
    }
   ],
   "source": [
    "debug_set.isna()"
   ]
  },
  {
   "cell_type": "code",
   "execution_count": 133,
   "id": "59894fe6",
   "metadata": {},
   "outputs": [
    {
     "data": {
      "text/plain": [
       "total_onshift_dashers       12976\n",
       "total_busy_dashers          12976\n",
       "total_outstanding_orders    12992\n",
       "dtype: int64"
      ]
     },
     "execution_count": 133,
     "metadata": {},
     "output_type": "execute_result"
    }
   ],
   "source": [
    "debug_set.isna().sum()"
   ]
  },
  {
   "cell_type": "code",
   "execution_count": 134,
   "id": "1f37e967",
   "metadata": {},
   "outputs": [],
   "source": [
    "debug_set = train_set[MARKET_FEATURES].copy()"
   ]
  },
  {
   "cell_type": "code",
   "execution_count": 139,
   "id": "994d96fd",
   "metadata": {},
   "outputs": [],
   "source": [
    "debug_set = MarketFeatureProcesser().fit_transform(debug_set)"
   ]
  },
  {
   "cell_type": "code",
   "execution_count": 140,
   "id": "6e20d784",
   "metadata": {},
   "outputs": [
    {
     "data": {
      "text/html": [
       "<div>\n",
       "<style scoped>\n",
       "    .dataframe tbody tr th:only-of-type {\n",
       "        vertical-align: middle;\n",
       "    }\n",
       "\n",
       "    .dataframe tbody tr th {\n",
       "        vertical-align: top;\n",
       "    }\n",
       "\n",
       "    .dataframe thead th {\n",
       "        text-align: right;\n",
       "    }\n",
       "</style>\n",
       "<table border=\"1\" class=\"dataframe\">\n",
       "  <thead>\n",
       "    <tr style=\"text-align: right;\">\n",
       "      <th></th>\n",
       "      <th>total_onshift_dashers</th>\n",
       "      <th>total_busy_dashers</th>\n",
       "      <th>total_outstanding_orders</th>\n",
       "      <th>avail_dasher</th>\n",
       "      <th>out_orders_per_avail_dasher</th>\n",
       "    </tr>\n",
       "  </thead>\n",
       "  <tbody>\n",
       "    <tr>\n",
       "      <th>count</th>\n",
       "      <td>144083.000000</td>\n",
       "      <td>144083.000000</td>\n",
       "      <td>144067.000000</td>\n",
       "      <td>111998.000000</td>\n",
       "      <td>1.092160e+05</td>\n",
       "    </tr>\n",
       "    <tr>\n",
       "      <th>mean</th>\n",
       "      <td>44.772714</td>\n",
       "      <td>41.700090</td>\n",
       "      <td>57.927291</td>\n",
       "      <td>6.243978</td>\n",
       "      <td>inf</td>\n",
       "    </tr>\n",
       "    <tr>\n",
       "      <th>std</th>\n",
       "      <td>34.474992</td>\n",
       "      <td>32.093658</td>\n",
       "      <td>52.556587</td>\n",
       "      <td>9.417286</td>\n",
       "      <td>NaN</td>\n",
       "    </tr>\n",
       "    <tr>\n",
       "      <th>min</th>\n",
       "      <td>0.000000</td>\n",
       "      <td>0.000000</td>\n",
       "      <td>0.000000</td>\n",
       "      <td>0.000000</td>\n",
       "      <td>0.000000e+00</td>\n",
       "    </tr>\n",
       "    <tr>\n",
       "      <th>25%</th>\n",
       "      <td>17.000000</td>\n",
       "      <td>15.000000</td>\n",
       "      <td>17.000000</td>\n",
       "      <td>0.000000</td>\n",
       "      <td>8.849558e-03</td>\n",
       "    </tr>\n",
       "    <tr>\n",
       "      <th>50%</th>\n",
       "      <td>37.000000</td>\n",
       "      <td>34.000000</td>\n",
       "      <td>41.000000</td>\n",
       "      <td>3.000000</td>\n",
       "      <td>6.896552e-02</td>\n",
       "    </tr>\n",
       "    <tr>\n",
       "      <th>75%</th>\n",
       "      <td>65.000000</td>\n",
       "      <td>62.000000</td>\n",
       "      <td>84.000000</td>\n",
       "      <td>8.000000</td>\n",
       "      <td>2.307692e-01</td>\n",
       "    </tr>\n",
       "    <tr>\n",
       "      <th>max</th>\n",
       "      <td>171.000000</td>\n",
       "      <td>154.000000</td>\n",
       "      <td>285.000000</td>\n",
       "      <td>86.000000</td>\n",
       "      <td>inf</td>\n",
       "    </tr>\n",
       "  </tbody>\n",
       "</table>\n",
       "</div>"
      ],
      "text/plain": [
       "       total_onshift_dashers  total_busy_dashers  total_outstanding_orders  \\\n",
       "count          144083.000000       144083.000000             144067.000000   \n",
       "mean               44.772714           41.700090                 57.927291   \n",
       "std                34.474992           32.093658                 52.556587   \n",
       "min                 0.000000            0.000000                  0.000000   \n",
       "25%                17.000000           15.000000                 17.000000   \n",
       "50%                37.000000           34.000000                 41.000000   \n",
       "75%                65.000000           62.000000                 84.000000   \n",
       "max               171.000000          154.000000                285.000000   \n",
       "\n",
       "        avail_dasher  out_orders_per_avail_dasher  \n",
       "count  111998.000000                 1.092160e+05  \n",
       "mean        6.243978                          inf  \n",
       "std         9.417286                          NaN  \n",
       "min         0.000000                 0.000000e+00  \n",
       "25%         0.000000                 8.849558e-03  \n",
       "50%         3.000000                 6.896552e-02  \n",
       "75%         8.000000                 2.307692e-01  \n",
       "max        86.000000                          inf  "
      ]
     },
     "execution_count": 140,
     "metadata": {},
     "output_type": "execute_result"
    }
   ],
   "source": [
    "debug_set.describe()"
   ]
  },
  {
   "cell_type": "code",
   "execution_count": 145,
   "id": "f690c55e",
   "metadata": {},
   "outputs": [],
   "source": [
    "# Custom transformer to handle market features and create new ones\n",
    "class MarketFeatureProcesser(BaseEstimator, TransformerMixin):\n",
    "\n",
    "\tdef __init__(self, add_out_order_per_avail_dasher = True):\n",
    "\t\tself.add_out_order_per_avail_dasher = add_out_order_per_avail_dasher\n",
    "\n",
    "\tdef fit(self, X, y=None):\n",
    "\t\treturn self\n",
    "\n",
    "\tdef transform(self, X):\n",
    "\t\tassert isinstance(X, (pd.Series, pd.DataFrame))\n",
    "\t\tX = X.copy()\n",
    "\t\t# Replacing all negative values of these features with np.nan, to be \n",
    "\t\t# processed with a built-in imputer later on in the pipeline\n",
    "\n",
    "\t\tif self.add_out_order_per_avail_dasher:\n",
    "\t\t\tX['avail_dasher'] = X['total_onshift_dashers'] - X['total_busy_dashers']\n",
    "\t\t\tX['out_orders_per_avail_dasher'] = X['total_outstanding_orders']\n",
    "\t\t\tX.loc[~(X['avail_dasher'] == 0), 'out_orders_per_avail_dasher'] = X['total_outstanding_orders']/X['avail_dasher']\n",
    "\n",
    "\t\tX[X < 0] = np.nan \n",
    "\n",
    "\t\treturn X"
   ]
  },
  {
   "cell_type": "code",
   "execution_count": 146,
   "id": "441120c8",
   "metadata": {},
   "outputs": [],
   "source": [
    "debug_set = train_set[MARKET_FEATURES].copy()"
   ]
  },
  {
   "cell_type": "code",
   "execution_count": 147,
   "id": "a9c128e3",
   "metadata": {},
   "outputs": [],
   "source": [
    "market_pipeline = Pipeline([('mkt_feat_processer', MarketFeatureProcesser()), ('imputer', SimpleImputer(strategy='median')), \\\n",
    "\t\t\t\t\t\t\t\t\t\t('scaler', StandardScaler())])"
   ]
  },
  {
   "cell_type": "code",
   "execution_count": 148,
   "id": "17c5be99",
   "metadata": {},
   "outputs": [],
   "source": [
    "debug_set = market_pipeline.fit_transform(debug_set)"
   ]
  },
  {
   "cell_type": "code",
   "execution_count": 149,
   "id": "28754de0",
   "metadata": {
    "scrolled": true
   },
   "outputs": [
    {
     "name": "stdout",
     "output_type": "stream",
     "text": [
      "[[-1.33367991 -1.33271544 -1.11821289 -0.65709287 -0.69646172]\n",
      " [ 1.02357711  0.74438268  0.36543002  1.07412914 -0.50257517]\n",
      " [ 0.57025845  0.809292    0.6621586  -0.28611672 -0.33454016]\n",
      " ...\n",
      " [ 0.20760353  0.25756281  0.42477573 -0.40977544  0.71503236]\n",
      " [-0.18527264  0.74438268  0.48412145 -0.28611672 -0.33454016]\n",
      " [-0.21549389 -0.22925707 -0.30715477 -0.28611672 -0.33454016]]\n"
     ]
    }
   ],
   "source": [
    "print(debug_set)"
   ]
  },
  {
   "cell_type": "code",
   "execution_count": 155,
   "id": "61c031a0",
   "metadata": {},
   "outputs": [],
   "source": [
    "train_set_transformed = full_pipeline.fit_transform(train_set)"
   ]
  },
  {
   "cell_type": "markdown",
   "id": "9a6f7a19",
   "metadata": {},
   "source": [
    "# Model training and evaluation"
   ]
  },
  {
   "cell_type": "code",
   "execution_count": 156,
   "id": "8cf55de9",
   "metadata": {},
   "outputs": [],
   "source": [
    "from sklearn.linear_model import LinearRegression"
   ]
  },
  {
   "cell_type": "code",
   "execution_count": 157,
   "id": "fad78b03",
   "metadata": {},
   "outputs": [],
   "source": [
    "lin_reg = LinearRegression()"
   ]
  },
  {
   "cell_type": "code",
   "execution_count": 162,
   "id": "8dd7351f",
   "metadata": {},
   "outputs": [],
   "source": [
    "train_set_transformed = full_pipeline.fit_transform(train_set)"
   ]
  },
  {
   "cell_type": "code",
   "execution_count": 163,
   "id": "7557b85b",
   "metadata": {},
   "outputs": [],
   "source": [
    "hist_data = pd.read_csv('historical_data.csv')\n",
    "train_set, test_set = train_test_split(hist_data, test_size=0.2, random_state=42)\n",
    "train_set = DeliveryTimeCalculator(upper_outlier_seconds=7200).fit_transform(train_set)\n",
    "train_labels = train_set['total_delivery_duration_seconds'].to_numpy()"
   ]
  },
  {
   "cell_type": "code",
   "execution_count": 164,
   "id": "12c17352",
   "metadata": {},
   "outputs": [],
   "source": [
    "train_set_transformed = full_pipeline.fit_transform(train_set)"
   ]
  },
  {
   "cell_type": "code",
   "execution_count": 165,
   "id": "99f86a6f",
   "metadata": {},
   "outputs": [
    {
     "name": "stdout",
     "output_type": "stream",
     "text": [
      "[[-1.33367991 -1.33271544 -1.11821289 ... -0.91085201 -0.75992601\n",
      "   1.26480515]\n",
      " [ 1.02357711  0.74438268  0.36543002 ...  0.1057256  -0.54413457\n",
      "  -0.63233486]\n",
      " [ 0.57025845  0.809292    0.6621586  ...  1.56659969  0.3421517\n",
      "  -1.13519124]\n",
      " ...\n",
      " [ 0.20760353  0.25756281  0.42477573 ... -0.41059266 -0.48908573\n",
      "   0.51052057]\n",
      " [-0.18527264  0.74438268  0.48412145 ...  0.05608897 -0.7037762\n",
      "  -0.99804859]\n",
      " [-0.21549389 -0.22925707 -0.30715477 ... -0.10644666 -0.15328783\n",
      "  -0.98433433]]\n"
     ]
    }
   ],
   "source": [
    "print(train_set_transformed)"
   ]
  },
  {
   "cell_type": "code",
   "execution_count": 184,
   "id": "8a410e88",
   "metadata": {},
   "outputs": [],
   "source": [
    "class DeliveryTimeCalculator(BaseEstimator, TransformerMixin):\n",
    "\n",
    "\tdef __init__(self, upper_outlier_seconds = None):\n",
    "\t\tself.fixed_threshold = upper_outlier_seconds\n",
    "\n",
    "\tdef fit(self, X, y=None):\n",
    "\t\treturn self\n",
    "\n",
    "\tdef transform(self, X):\n",
    "\t\tassert isinstance(X, (pd.Series, pd.DataFrame))\n",
    "\t\tX = X.copy()\n",
    "\t\tX['created_at'] = pd.to_datetime(X['created_at'], infer_datetime_format=True)\n",
    "\t\tX['actual_delivery_time'] = pd.to_datetime(X['actual_delivery_time'], infer_datetime_format=True)\n",
    "\t\tX['total_delivery_duration_seconds'] = (X['actual_delivery_time'] - \\\n",
    "                                                    X['created_at']).dt.total_seconds()\n",
    "\n",
    "\t\t\n",
    "\t\tseconds_array = X['total_delivery_duration_seconds'].to_numpy()\n",
    "\t\tseconds_array = seconds_array[~np.isnan(seconds_array)]\n",
    "\t\tq25 = np.percentile(seconds_array, 25)\n",
    "\t\tq75 = np.percentile(seconds_array, 75)\n",
    "\t\tiqr = q75 - q25\n",
    "\n",
    "\t\tlo_threshold = q25 - 1.5 * iqr\n",
    "\n",
    "\t\tif self.fixed_threshold is None:\n",
    "\t\t\thi_threshold = q75 + 1.5 * iqr\n",
    "\t\telse:\n",
    "\t\t\thi_threshold = self.fixed_threshold\n",
    "\n",
    "\n",
    "\t\tX['is_outlier'] = False\n",
    "\t\tX.loc[X['total_delivery_duration_seconds'] > hi_threshold, 'is_outlier'] = True\n",
    "\t\tX.loc[X['total_delivery_duration_seconds'] < lo_threshold, 'is_outlier'] = True\n",
    "\t\tX = X[X['is_outlier'] == False]\n",
    "\t\tX = X.drop('is_outlier', axis=1)\n",
    "\t\tX = X.dropna(subset=['total_delivery_duration_seconds'])\n",
    "\n",
    "\t\treturn X"
   ]
  },
  {
   "cell_type": "code",
   "execution_count": 185,
   "id": "d74ab321",
   "metadata": {},
   "outputs": [],
   "source": [
    "hist_data = pd.read_csv('historical_data.csv')\n",
    "train_set, test_set = train_test_split(hist_data, test_size=0.2, random_state=42)\n",
    "train_set = DeliveryTimeCalculator(upper_outlier_seconds=7200).fit_transform(train_set)\n",
    "train_labels = train_set['total_delivery_duration_seconds'].to_numpy()"
   ]
  },
  {
   "cell_type": "code",
   "execution_count": 186,
   "id": "ac991295",
   "metadata": {},
   "outputs": [],
   "source": [
    "train_set_transformed = full_pipeline.fit_transform(train_set)"
   ]
  },
  {
   "cell_type": "code",
   "execution_count": 187,
   "id": "2fa37771",
   "metadata": {},
   "outputs": [
    {
     "data": {
      "text/plain": [
       "LinearRegression()"
      ]
     },
     "execution_count": 187,
     "metadata": {},
     "output_type": "execute_result"
    }
   ],
   "source": [
    "lin_reg.fit(train_set_transformed, train_labels)"
   ]
  },
  {
   "cell_type": "code",
   "execution_count": 189,
   "id": "71aad314",
   "metadata": {},
   "outputs": [],
   "source": [
    "from sklearn.metrics import mean_squared_error as MSE\n",
    "lin_reg_predictions = lin_reg.predict(train_set_transformed)\n",
    "lin_rmse = np.sqrt(MSE(train_labels, lin_reg_predictions))"
   ]
  },
  {
   "cell_type": "code",
   "execution_count": 190,
   "id": "043dad95",
   "metadata": {},
   "outputs": [
    {
     "name": "stdout",
     "output_type": "stream",
     "text": [
      "898.686278495809\n"
     ]
    }
   ],
   "source": [
    "print(lin_rmse)"
   ]
  },
  {
   "cell_type": "code",
   "execution_count": 191,
   "id": "61cae377",
   "metadata": {},
   "outputs": [],
   "source": [
    "from sklearn.ensemble import RandomForestRegressor"
   ]
  },
  {
   "cell_type": "code",
   "execution_count": 192,
   "id": "28bf2bba",
   "metadata": {},
   "outputs": [],
   "source": [
    "forest_reg = RandomForestRegressor()"
   ]
  },
  {
   "cell_type": "code",
   "execution_count": 193,
   "id": "012fb33d",
   "metadata": {},
   "outputs": [
    {
     "data": {
      "text/plain": [
       "RandomForestRegressor()"
      ]
     },
     "execution_count": 193,
     "metadata": {},
     "output_type": "execute_result"
    }
   ],
   "source": [
    "forest_reg.fit(train_set_transformed, train_labels)\n"
   ]
  },
  {
   "cell_type": "code",
   "execution_count": 194,
   "id": "d10a6ebc",
   "metadata": {},
   "outputs": [],
   "source": [
    "forest_reg_predictions = forest_reg.predict(train_set_transformed)\n",
    "forest_rmse = np.sqrt(MSE(train_labels, forest_reg_predictions))"
   ]
  },
  {
   "cell_type": "code",
   "execution_count": 195,
   "id": "4c2a022d",
   "metadata": {},
   "outputs": [
    {
     "name": "stdout",
     "output_type": "stream",
     "text": [
      "333.66366816751815\n"
     ]
    }
   ],
   "source": [
    "print(forest_rmse)"
   ]
  },
  {
   "cell_type": "markdown",
   "id": "cd997978",
   "metadata": {},
   "source": [
    "## Right off the bat, we see that the Random Forest model reduced our RMSE from around 15 minutes (w/ the Linear Regression model) to only 5 minutes, an approximate 2/3 reduction. Let's perform a more robust evaluation using cross-validation before deciding to stick with the Random Forest over Linear Regression."
   ]
  },
  {
   "cell_type": "code",
   "execution_count": 196,
   "id": "5e635c6b",
   "metadata": {},
   "outputs": [],
   "source": [
    "from sklearn.model_selection import cross_val_score"
   ]
  },
  {
   "cell_type": "code",
   "execution_count": 199,
   "id": "cce80d85",
   "metadata": {},
   "outputs": [],
   "source": [
    "def score_regressor(model, X, y):\n",
    "\t\"\"\"Calculates Root Mean Squared Error scores, along with their mean and std. dev, for a given regressor\n",
    "\t\tutilizing 5-fold cross-validation.\"\"\"\n",
    "\n",
    "\t# Compute cross-validated Acc. scores: cv_rmse\n",
    "\tcv_neg_mse = cross_val_score(model, X, y, cv=5, scoring='neg_mean_squared_error')\n",
    "\n",
    "\tcv_rmse = np.sqrt(-cv_neg_mse)\n",
    "\n",
    "\t# Print list of RMSE scores\n",
    "\tprint(f\"RMSE scores computed using 5-fold cross-validation: {cv_rmse}\")\n",
    "\tprint(f\"Mean RMSE computed using 5-fold cross-validation: {cv_rmse.mean()}\")\n",
    "\tprint(f\"RMSE std. deviation computed using 5-fold cross-validation: {cv_rmse.std()}\")"
   ]
  },
  {
   "cell_type": "code",
   "execution_count": 200,
   "id": "fe21ab36",
   "metadata": {},
   "outputs": [
    {
     "name": "stdout",
     "output_type": "stream",
     "text": [
      "RMSE scores computed using 5-fold cross-validation: [900.27476218 900.13621552 900.41763176 894.81853303 898.05901578]\n",
      "Mean RMSE computed using 5-fold cross-validation: 898.7412316534637\n",
      "RMSE std. deviation computed using 5-fold cross-validation: 2.1429417234379713\n"
     ]
    }
   ],
   "source": [
    "score_regressor(lin_reg, train_set_transformed, train_labels)"
   ]
  },
  {
   "cell_type": "code",
   "execution_count": 201,
   "id": "6f860015",
   "metadata": {},
   "outputs": [
    {
     "name": "stdout",
     "output_type": "stream",
     "text": [
      "RMSE scores computed using 5-fold cross-validation: [892.0879444  888.73088272 893.91966058 889.17441039 888.92954754]\n",
      "Mean RMSE computed using 5-fold cross-validation: 890.5684891254641\n",
      "RMSE std. deviation computed using 5-fold cross-validation: 2.0758360624301293\n"
     ]
    }
   ],
   "source": [
    "score_regressor(forest_reg, train_set_transformed, train_labels)"
   ]
  },
  {
   "cell_type": "markdown",
   "id": "c26a1aba",
   "metadata": {},
   "source": [
    "## So it appears the work isn't done yet, the Random Forest was merely overfitting the training set as evidenced by the fact that its 5-fold cross-validation scores was very similar to that of the linear regression model."
   ]
  },
  {
   "cell_type": "markdown",
   "id": "45177862",
   "metadata": {},
   "source": [
    "## The next few dozens cells in this notebook contain my search for the best-performing model and its hyperparameters, feel free to skip down to when I land on a GradientBoostingRegressor, which will be the final model."
   ]
  },
  {
   "cell_type": "code",
   "execution_count": 206,
   "id": "abbfbcb7",
   "metadata": {},
   "outputs": [],
   "source": [
    "from sklearn.model_selection import RandomizedSearchCV\n",
    "param_grid = [{'n_estimators': [5, 15, 25], 'max_features': [2, 4, 6, 8], \\\n",
    "\t\t\t\t\t'max_depth':[2,4,6,8],'min_samples_leaf': [0.1, 0.2, 0.3]}]\n",
    "forest_rand = RandomForestRegressor()\n",
    "rand_search = RandomizedSearchCV(forest_rand, param_grid, cv=10, scoring='neg_mean_squared_error')"
   ]
  },
  {
   "cell_type": "code",
   "execution_count": 207,
   "id": "7856d86f",
   "metadata": {},
   "outputs": [
    {
     "data": {
      "text/plain": [
       "RandomizedSearchCV(cv=10, estimator=RandomForestRegressor(),\n",
       "                   param_distributions=[{'max_depth': [2, 4, 6, 8],\n",
       "                                         'max_features': [2, 4, 6, 8],\n",
       "                                         'min_samples_leaf': [0.1, 0.2, 0.3],\n",
       "                                         'n_estimators': [5, 15, 25]}],\n",
       "                   scoring='neg_mean_squared_error')"
      ]
     },
     "execution_count": 207,
     "metadata": {},
     "output_type": "execute_result"
    }
   ],
   "source": [
    "rand_search.fit(train_set_transformed, train_labels)"
   ]
  },
  {
   "cell_type": "code",
   "execution_count": 208,
   "id": "96d7b091",
   "metadata": {},
   "outputs": [],
   "source": [
    "final_model = rand_search.best_estimator_"
   ]
  },
  {
   "cell_type": "code",
   "execution_count": 209,
   "id": "e9c3defc",
   "metadata": {},
   "outputs": [
    {
     "name": "stdout",
     "output_type": "stream",
     "text": [
      "RMSE scores computed using 5-fold cross-validation: [974.12102758 978.16016715 979.20944789 976.54795352 975.25886527]\n",
      "Mean RMSE computed using 5-fold cross-validation: 976.6594922819324\n",
      "RMSE std. deviation computed using 5-fold cross-validation: 1.8532295385832003\n"
     ]
    }
   ],
   "source": [
    "score_regressor(final_model, train_set_transformed, train_labels)"
   ]
  },
  {
   "cell_type": "code",
   "execution_count": 210,
   "id": "4c773bf9",
   "metadata": {},
   "outputs": [
    {
     "data": {
      "text/plain": [
       "{'n_estimators': 15,\n",
       " 'min_samples_leaf': 0.1,\n",
       " 'max_features': 8,\n",
       " 'max_depth': 2}"
      ]
     },
     "execution_count": 210,
     "metadata": {},
     "output_type": "execute_result"
    }
   ],
   "source": [
    "rand_search.best_params_\n"
   ]
  },
  {
   "cell_type": "code",
   "execution_count": 211,
   "id": "f364eec3",
   "metadata": {},
   "outputs": [],
   "source": [
    "from sklearn.model_selection import RandomizedSearchCV\n",
    "param_grid = [{'n_estimators': [5, 15, 25, 30], 'max_features': [2, 4, 6, 8, 10], \\\n",
    "\t\t\t\t\t'max_depth':[2,4,6,8],'min_samples_leaf': [0.01, 0.05, 0.1]}]\n",
    "forest_rand = RandomForestRegressor()\n",
    "rand_search = RandomizedSearchCV(forest_rand, param_grid, cv=10, scoring='neg_mean_squared_error')"
   ]
  },
  {
   "cell_type": "code",
   "execution_count": 213,
   "id": "5efc0725",
   "metadata": {},
   "outputs": [],
   "source": [
    "from sklearn.preprocessing import PolynomialFeatures"
   ]
  },
  {
   "cell_type": "code",
   "execution_count": 215,
   "id": "f882bdc0",
   "metadata": {},
   "outputs": [],
   "source": [
    "poly = PolynomialFeatures(2)"
   ]
  },
  {
   "cell_type": "code",
   "execution_count": 216,
   "id": "61d3b6b5",
   "metadata": {},
   "outputs": [],
   "source": [
    "test = poly.fit(train_set_transformed)"
   ]
  },
  {
   "cell_type": "code",
   "execution_count": 218,
   "id": "167bfdf8",
   "metadata": {},
   "outputs": [
    {
     "name": "stdout",
     "output_type": "stream",
     "text": [
      "PolynomialFeatures()\n"
     ]
    }
   ],
   "source": [
    "print(test)"
   ]
  },
  {
   "cell_type": "code",
   "execution_count": 219,
   "id": "08e0d26e",
   "metadata": {},
   "outputs": [
    {
     "name": "stdout",
     "output_type": "stream",
     "text": [
      "[[-1.33368586 -1.3327136  -1.11821409 ... -0.91089697 -0.7599103\n",
      "   1.26481477]\n",
      " [ 1.02365998  0.7444424   0.36549991 ...  0.1056853  -0.54412062\n",
      "  -0.63231426]\n",
      " [ 0.57032424  0.80935352  0.66224271 ...  1.56656608  0.34215843\n",
      "  -1.13516773]\n",
      " ...\n",
      " [ 0.20765565  0.25760896  0.42484847 ... -0.41063533 -0.48907223\n",
      "   0.51053455]\n",
      " [-0.18523532  0.7444424   0.48419703 ...  0.05604844 -0.70376094\n",
      "  -0.99802587]\n",
      " [-0.21545771 -0.22922448 -0.3071171  ... -0.10648793 -0.15327706\n",
      "  -0.98431169]]\n"
     ]
    }
   ],
   "source": [
    "print(train_set_transformed)"
   ]
  },
  {
   "cell_type": "code",
   "execution_count": 220,
   "id": "8014d224",
   "metadata": {},
   "outputs": [
    {
     "name": "stdout",
     "output_type": "stream",
     "text": [
      "(157053, 8)\n"
     ]
    }
   ],
   "source": [
    "print(train_set_transformed.shape)"
   ]
  },
  {
   "cell_type": "code",
   "execution_count": 221,
   "id": "91a186a4",
   "metadata": {},
   "outputs": [
    {
     "data": {
      "text/plain": [
       "PolynomialFeatures()"
      ]
     },
     "execution_count": 221,
     "metadata": {},
     "output_type": "execute_result"
    }
   ],
   "source": [
    "poly.fit(train_set_transformed)"
   ]
  },
  {
   "cell_type": "code",
   "execution_count": 222,
   "id": "86ee5d4b",
   "metadata": {},
   "outputs": [],
   "source": [
    "test = poly.fit_transform(train_set_transformed)"
   ]
  },
  {
   "cell_type": "code",
   "execution_count": 223,
   "id": "40e556e6",
   "metadata": {},
   "outputs": [
    {
     "name": "stdout",
     "output_type": "stream",
     "text": [
      "[[ 1.         -1.33368586 -1.3327136  ...  0.57746366 -0.96114577\n",
      "   1.5997564 ]\n",
      " [ 1.          1.02365998  0.7444424  ...  0.29606725  0.34405522\n",
      "   0.39982132]\n",
      " [ 1.          0.57032424  0.80935352 ...  0.11707239 -0.38840721\n",
      "   1.28860578]\n",
      " ...\n",
      " [ 1.          0.20765565  0.25760896 ...  0.23919165 -0.24968827\n",
      "   0.26064553]\n",
      " [ 1.         -0.18523532  0.7444424  ...  0.49527946  0.70237163\n",
      "   0.99605565]\n",
      " [ 1.         -0.21545771 -0.22922448 ...  0.02349386  0.1508724\n",
      "   0.9688695 ]]\n"
     ]
    }
   ],
   "source": [
    "print(test)"
   ]
  },
  {
   "cell_type": "code",
   "execution_count": 224,
   "id": "0a7c5316",
   "metadata": {},
   "outputs": [
    {
     "data": {
      "text/plain": [
       "(157053, 45)"
      ]
     },
     "execution_count": 224,
     "metadata": {},
     "output_type": "execute_result"
    }
   ],
   "source": [
    "test.shape"
   ]
  },
  {
   "cell_type": "code",
   "execution_count": 226,
   "id": "901f29bc",
   "metadata": {},
   "outputs": [],
   "source": [
    "from sklearn.decomposition import PCA"
   ]
  },
  {
   "cell_type": "code",
   "execution_count": 227,
   "id": "1b0a5185",
   "metadata": {},
   "outputs": [],
   "source": [
    "pca = PCA()\n",
    "pca.fit(test)\n",
    "cumsum = np.cumsum(pca.explained_variance_ratio_)\n",
    "d = np.argmax(cumsum >= 0.95) + 1"
   ]
  },
  {
   "cell_type": "code",
   "execution_count": 228,
   "id": "f0c763ae",
   "metadata": {},
   "outputs": [
    {
     "name": "stdout",
     "output_type": "stream",
     "text": [
      "18\n"
     ]
    }
   ],
   "source": [
    "print(d)"
   ]
  },
  {
   "cell_type": "code",
   "execution_count": 229,
   "id": "2b77b22d",
   "metadata": {},
   "outputs": [],
   "source": [
    "test = PCA(n_components=18).fit_transform(test)"
   ]
  },
  {
   "cell_type": "code",
   "execution_count": 230,
   "id": "136a15e9",
   "metadata": {},
   "outputs": [
    {
     "data": {
      "text/plain": [
       "LinearRegression()"
      ]
     },
     "execution_count": 230,
     "metadata": {},
     "output_type": "execute_result"
    }
   ],
   "source": [
    "lin_reg = LinearRegression()\n",
    "lin_reg.fit(test, train_labels)"
   ]
  },
  {
   "cell_type": "code",
   "execution_count": 231,
   "id": "0111836c",
   "metadata": {
    "scrolled": true
   },
   "outputs": [
    {
     "name": "stdout",
     "output_type": "stream",
     "text": [
      "RMSE scores computed using 5-fold cross-validation: [958.5107289  955.89702635 958.06099564 955.24492035 955.0198143 ]\n",
      "Mean RMSE computed using 5-fold cross-validation: 956.5466971080416\n",
      "RMSE std. deviation computed using 5-fold cross-validation: 1.4559249224905129\n"
     ]
    }
   ],
   "source": [
    "score_regressor(lin_reg,test, train_labels)"
   ]
  },
  {
   "cell_type": "code",
   "execution_count": 232,
   "id": "6daa74bd",
   "metadata": {},
   "outputs": [
    {
     "data": {
      "text/plain": [
       "RandomForestRegressor()"
      ]
     },
     "execution_count": 232,
     "metadata": {},
     "output_type": "execute_result"
    }
   ],
   "source": [
    "forest_reg = RandomForestRegressor()\n",
    "forest_reg.fit(test, train_labels)"
   ]
  },
  {
   "cell_type": "code",
   "execution_count": 233,
   "id": "e2f2ec9d",
   "metadata": {},
   "outputs": [
    {
     "name": "stdout",
     "output_type": "stream",
     "text": [
      "RMSE scores computed using 5-fold cross-validation: [924.14576485 919.517929   927.14726156 923.30076615 925.43090827]\n",
      "Mean RMSE computed using 5-fold cross-validation: 923.9085259671638\n",
      "RMSE std. deviation computed using 5-fold cross-validation: 2.549904002195791\n"
     ]
    }
   ],
   "source": [
    "score_regressor(forest_reg, test, train_labels)"
   ]
  },
  {
   "cell_type": "code",
   "execution_count": 234,
   "id": "84318ad6",
   "metadata": {},
   "outputs": [],
   "source": [
    "NUM_FEATURES = ['market_id', 'store_id', 'subtotal', 'estimated_store_to_consumer_driving_duration']"
   ]
  },
  {
   "cell_type": "code",
   "execution_count": 235,
   "id": "c1cda252",
   "metadata": {},
   "outputs": [],
   "source": [
    "hist_data = pd.read_csv('historical_data.csv')\n",
    "train_set, test_set = train_test_split(hist_data, test_size=0.2, random_state=42)\n",
    "train_set = DeliveryTimeCalculator(upper_outlier_seconds=7200).fit_transform(train_set)\n",
    "train_labels = train_set['total_delivery_duration_seconds'].to_numpy()"
   ]
  },
  {
   "cell_type": "code",
   "execution_count": 236,
   "id": "6af84057",
   "metadata": {},
   "outputs": [],
   "source": [
    "num_pipeline = Pipeline([('imputer', SimpleImputer(strategy='median')), ('scaler', StandardScaler())])\n"
   ]
  },
  {
   "cell_type": "code",
   "execution_count": 237,
   "id": "6936fa7e",
   "metadata": {},
   "outputs": [],
   "source": [
    "full_pipeline = ColumnTransformer([('market', market_pipeline, MARKET_FEATURES), ('num', num_pipeline, NUM_FEATURES)])\n"
   ]
  },
  {
   "cell_type": "code",
   "execution_count": 238,
   "id": "8f41eca4",
   "metadata": {},
   "outputs": [],
   "source": [
    "train_set_transformed = full_pipeline.fit_transform(train_set)\n"
   ]
  },
  {
   "cell_type": "code",
   "execution_count": 239,
   "id": "ba051ee7",
   "metadata": {},
   "outputs": [],
   "source": [
    "lin_reg = LinearRegression()\n"
   ]
  },
  {
   "cell_type": "code",
   "execution_count": 240,
   "id": "be442d44",
   "metadata": {},
   "outputs": [
    {
     "data": {
      "text/plain": [
       "LinearRegression()"
      ]
     },
     "execution_count": 240,
     "metadata": {},
     "output_type": "execute_result"
    }
   ],
   "source": [
    "lin_reg.fit(train_set_transformed, train_labels)\n"
   ]
  },
  {
   "cell_type": "code",
   "execution_count": 242,
   "id": "2083e006",
   "metadata": {},
   "outputs": [
    {
     "name": "stdout",
     "output_type": "stream",
     "text": [
      "RMSE scores computed using 5-fold cross-validation: [899.8772847  899.69999028 900.05353393 894.37252832 897.64420881]\n",
      "Mean RMSE computed using 5-fold cross-validation: 898.3295092067231\n",
      "RMSE std. deviation computed using 5-fold cross-validation: 2.162101890451647\n"
     ]
    }
   ],
   "source": [
    "score_regressor(lin_reg, train_set_transformed, train_labels)"
   ]
  },
  {
   "cell_type": "code",
   "execution_count": 243,
   "id": "8804740c",
   "metadata": {},
   "outputs": [],
   "source": [
    "from sklearn.model_selection import RandomizedSearchCV\n",
    "param_grid = [{'n_estimators': [75, 100, 25], 'max_features': [2, 4, 6, 8], \\\n",
    "\t\t\t\t\t'max_depth':[2,4],'min_samples_leaf': [0.1, 0.2]}]\n",
    "forest_rand = RandomForestRegressor()\n",
    "rand_search = RandomizedSearchCV(forest_rand, param_grid, cv=5, scoring='neg_mean_squared_error')"
   ]
  },
  {
   "cell_type": "code",
   "execution_count": 244,
   "id": "cc6291ca",
   "metadata": {},
   "outputs": [
    {
     "data": {
      "text/plain": [
       "RandomizedSearchCV(cv=5, estimator=RandomForestRegressor(),\n",
       "                   param_distributions=[{'max_depth': [2, 4],\n",
       "                                         'max_features': [2, 4, 6, 8],\n",
       "                                         'min_samples_leaf': [0.1, 0.2],\n",
       "                                         'n_estimators': [75, 100, 25]}],\n",
       "                   scoring='neg_mean_squared_error')"
      ]
     },
     "execution_count": 244,
     "metadata": {},
     "output_type": "execute_result"
    }
   ],
   "source": [
    "rand_search.fit(train_set_transformed, train_labels)"
   ]
  },
  {
   "cell_type": "code",
   "execution_count": 245,
   "id": "4963f0ae",
   "metadata": {},
   "outputs": [
    {
     "data": {
      "text/plain": [
       "{'n_estimators': 25,\n",
       " 'min_samples_leaf': 0.1,\n",
       " 'max_features': 6,\n",
       " 'max_depth': 4}"
      ]
     },
     "execution_count": 245,
     "metadata": {},
     "output_type": "execute_result"
    }
   ],
   "source": [
    "rand_search.best_params_"
   ]
  },
  {
   "cell_type": "code",
   "execution_count": 246,
   "id": "86285253",
   "metadata": {},
   "outputs": [],
   "source": [
    "final_model = rand_search.best_estimator_"
   ]
  },
  {
   "cell_type": "code",
   "execution_count": 247,
   "id": "19f39ef6",
   "metadata": {},
   "outputs": [
    {
     "name": "stdout",
     "output_type": "stream",
     "text": [
      "RMSE scores computed using 5-fold cross-validation: [965.22744836 967.65301264 971.65956054 965.76966899 965.439282  ]\n",
      "Mean RMSE computed using 5-fold cross-validation: 967.1497945052084\n",
      "RMSE std. deviation computed using 5-fold cross-validation: 2.413181815175529\n"
     ]
    }
   ],
   "source": [
    "score_regressor(final_model, train_set_transformed, train_labels)"
   ]
  },
  {
   "cell_type": "code",
   "execution_count": 248,
   "id": "557152fc",
   "metadata": {},
   "outputs": [],
   "source": [
    "forest_reg = RandomForestRegressor(n_estimators= 100, min_samples_leaf=0.1, max_features=6, max_depth=4)\n"
   ]
  },
  {
   "cell_type": "code",
   "execution_count": 249,
   "id": "3ab0a2a3",
   "metadata": {},
   "outputs": [
    {
     "name": "stdout",
     "output_type": "stream",
     "text": [
      "RMSE scores computed using 5-fold cross-validation: [965.28178641 968.10940805 970.1723986  965.97558327 966.11526784]\n",
      "Mean RMSE computed using 5-fold cross-validation: 967.130888836713\n",
      "RMSE std. deviation computed using 5-fold cross-validation: 1.7885009477554583\n"
     ]
    }
   ],
   "source": [
    "score_regressor(forest_reg, train_set_transformed, train_labels)"
   ]
  },
  {
   "cell_type": "code",
   "execution_count": 250,
   "id": "d1cdaff6",
   "metadata": {},
   "outputs": [],
   "source": [
    "forest_reg = RandomForestRegressor()"
   ]
  },
  {
   "cell_type": "code",
   "execution_count": 251,
   "id": "3450a84a",
   "metadata": {},
   "outputs": [
    {
     "name": "stdout",
     "output_type": "stream",
     "text": [
      "RMSE scores computed using 5-fold cross-validation: [879.86545788 877.75460108 882.81032565 874.1100561  879.10327596]\n",
      "Mean RMSE computed using 5-fold cross-validation: 878.7287433326179\n",
      "RMSE std. deviation computed using 5-fold cross-validation: 2.8415817324175032\n"
     ]
    }
   ],
   "source": [
    "score_regressor(forest_reg, train_set_transformed, train_labels)"
   ]
  },
  {
   "cell_type": "code",
   "execution_count": 253,
   "id": "2c65b14e",
   "metadata": {},
   "outputs": [],
   "source": [
    "from sklearn.linear_model import SGDRegressor"
   ]
  },
  {
   "cell_type": "code",
   "execution_count": 255,
   "id": "12884988",
   "metadata": {},
   "outputs": [],
   "source": [
    "sgd_reg = SGDRegressor(max_iter=500)"
   ]
  },
  {
   "cell_type": "code",
   "execution_count": 256,
   "id": "34c3388b",
   "metadata": {},
   "outputs": [
    {
     "name": "stdout",
     "output_type": "stream",
     "text": [
      "RMSE scores computed using 5-fold cross-validation: [899.85146189 900.17535886 900.61337608 895.21993896 898.20591023]\n",
      "Mean RMSE computed using 5-fold cross-validation: 898.8132092057236\n",
      "RMSE std. deviation computed using 5-fold cross-validation: 1.9725325951176005\n"
     ]
    }
   ],
   "source": [
    "score_regressor(sgd_reg, train_set_transformed, train_labels)"
   ]
  },
  {
   "cell_type": "code",
   "execution_count": 257,
   "id": "a14def6f",
   "metadata": {},
   "outputs": [],
   "source": [
    "sgd_reg = SGDRegressor(max_iter=100)"
   ]
  },
  {
   "cell_type": "code",
   "execution_count": 258,
   "id": "d9cf692c",
   "metadata": {},
   "outputs": [],
   "source": [
    "sgd_reg = SGDRegressor(max_iter=1000)"
   ]
  },
  {
   "cell_type": "code",
   "execution_count": 259,
   "id": "d0a90706",
   "metadata": {},
   "outputs": [
    {
     "name": "stdout",
     "output_type": "stream",
     "text": [
      "RMSE scores computed using 5-fold cross-validation: [900.88857599 899.93323    900.80335445 895.03591436 898.27483917]\n",
      "Mean RMSE computed using 5-fold cross-validation: 898.9871827940799\n",
      "RMSE std. deviation computed using 5-fold cross-validation: 2.187635096885674\n"
     ]
    }
   ],
   "source": [
    "score_regressor(sgd_reg, train_set_transformed, train_labels)"
   ]
  },
  {
   "cell_type": "code",
   "execution_count": 260,
   "id": "fb5e8a71",
   "metadata": {},
   "outputs": [],
   "source": [
    "test = poly.fit_transform(train_set_transformed)"
   ]
  },
  {
   "cell_type": "code",
   "execution_count": 261,
   "id": "c8daaee7",
   "metadata": {},
   "outputs": [],
   "source": [
    "sgd_reg = SGDRegressor(max_iter=200).fit(test, train_labels)"
   ]
  },
  {
   "cell_type": "code",
   "execution_count": 262,
   "id": "63f3ba8d",
   "metadata": {},
   "outputs": [
    {
     "name": "stdout",
     "output_type": "stream",
     "text": [
      "RMSE scores computed using 5-fold cross-validation: [886.66335981 878.43686576 886.55821025 879.92638781 880.83771603]\n",
      "Mean RMSE computed using 5-fold cross-validation: 882.484507931814\n",
      "RMSE std. deviation computed using 5-fold cross-validation: 3.455348401568964\n"
     ]
    }
   ],
   "source": [
    "score_regressor(sgd_reg, test, train_labels)"
   ]
  },
  {
   "cell_type": "code",
   "execution_count": 263,
   "id": "858511aa",
   "metadata": {},
   "outputs": [],
   "source": [
    "sgd_reg = SGDRegressor(max_iter=500).fit(test, train_labels)"
   ]
  },
  {
   "cell_type": "code",
   "execution_count": 264,
   "id": "ba1a389d",
   "metadata": {},
   "outputs": [
    {
     "name": "stdout",
     "output_type": "stream",
     "text": [
      "RMSE scores computed using 5-fold cross-validation: [882.73469645 878.48395899 881.17391443 875.58089799 880.34219109]\n",
      "Mean RMSE computed using 5-fold cross-validation: 879.6631317886993\n",
      "RMSE std. deviation computed using 5-fold cross-validation: 2.458990707534801\n"
     ]
    }
   ],
   "source": [
    "score_regressor(sgd_reg, test, train_labels)"
   ]
  },
  {
   "cell_type": "code",
   "execution_count": 267,
   "id": "e2832651",
   "metadata": {},
   "outputs": [],
   "source": [
    "sgd_reg = SGDRegressor(max_iter=500).fit(test, train_labels)"
   ]
  },
  {
   "cell_type": "code",
   "execution_count": 268,
   "id": "643a94c3",
   "metadata": {},
   "outputs": [],
   "source": [
    "poly = PolynomialFeatures(3)"
   ]
  },
  {
   "cell_type": "code",
   "execution_count": 269,
   "id": "a72ed72c",
   "metadata": {},
   "outputs": [],
   "source": [
    "test = poly.fit_transform(train_set_transformed)"
   ]
  },
  {
   "cell_type": "code",
   "execution_count": 270,
   "id": "2066e93e",
   "metadata": {},
   "outputs": [
    {
     "name": "stdout",
     "output_type": "stream",
     "text": [
      "(157053, 220)\n"
     ]
    }
   ],
   "source": [
    "print(test.shape)"
   ]
  },
  {
   "cell_type": "code",
   "execution_count": 271,
   "id": "bba9dd79",
   "metadata": {},
   "outputs": [],
   "source": [
    "sgd_reg = SGDRegressor(max_iter=500).fit(test, train_labels)"
   ]
  },
  {
   "cell_type": "code",
   "execution_count": 272,
   "id": "a0c312a0",
   "metadata": {},
   "outputs": [
    {
     "name": "stdout",
     "output_type": "stream",
     "text": [
      "RMSE scores computed using 5-fold cross-validation: [1.19763843e+12 1.26308378e+12 9.69415272e+11 6.06837506e+11\n",
      " 1.07785694e+12]\n",
      "Mean RMSE computed using 5-fold cross-validation: 1022966385994.8088\n",
      "RMSE std. deviation computed using 5-fold cross-validation: 231175529326.19836\n"
     ]
    }
   ],
   "source": [
    "score_regressor(sgd_reg, test, train_labels)"
   ]
  },
  {
   "cell_type": "code",
   "execution_count": 273,
   "id": "39998d39",
   "metadata": {},
   "outputs": [],
   "source": [
    "pca = PCA()\n",
    "pca.fit(test)\n",
    "cumsum = np.cumsum(pca.explained_variance_ratio_)\n",
    "d = np.argmax(cumsum >= 0.95) + 1"
   ]
  },
  {
   "cell_type": "code",
   "execution_count": 274,
   "id": "39ab542e",
   "metadata": {},
   "outputs": [
    {
     "name": "stdout",
     "output_type": "stream",
     "text": [
      "21\n"
     ]
    }
   ],
   "source": [
    "print(d)"
   ]
  },
  {
   "cell_type": "code",
   "execution_count": 275,
   "id": "67ed5220",
   "metadata": {},
   "outputs": [],
   "source": [
    "pca = PCA()\n",
    "pca.fit(test)\n",
    "cumsum = np.cumsum(pca.explained_variance_ratio_)\n",
    "d = np.argmax(cumsum >= 0.99) + 1"
   ]
  },
  {
   "cell_type": "code",
   "execution_count": 277,
   "id": "597da02d",
   "metadata": {},
   "outputs": [
    {
     "name": "stdout",
     "output_type": "stream",
     "text": [
      "61\n"
     ]
    }
   ],
   "source": [
    "print(d)"
   ]
  },
  {
   "cell_type": "code",
   "execution_count": 278,
   "id": "03bdcab4",
   "metadata": {},
   "outputs": [],
   "source": [
    "test = PCA(n_components=61).fit_transform(test)"
   ]
  },
  {
   "cell_type": "code",
   "execution_count": 279,
   "id": "31e98f69",
   "metadata": {},
   "outputs": [],
   "source": [
    "sgd_reg = SGDRegressor(max_iter=500).fit(test, train_labels)"
   ]
  },
  {
   "cell_type": "code",
   "execution_count": 280,
   "id": "f382b060",
   "metadata": {},
   "outputs": [
    {
     "name": "stdout",
     "output_type": "stream",
     "text": [
      "RMSE scores computed using 5-fold cross-validation: [5.87405510e+11 7.34739286e+11 6.90466889e+11 1.70084877e+12\n",
      " 3.96070343e+11]\n",
      "Mean RMSE computed using 5-fold cross-validation: 821906158681.0409\n",
      "RMSE std. deviation computed using 5-fold cross-validation: 454695755218.0636\n"
     ]
    }
   ],
   "source": [
    "score_regressor(sgd_reg, test, train_labels)"
   ]
  },
  {
   "cell_type": "code",
   "execution_count": 281,
   "id": "79605284",
   "metadata": {},
   "outputs": [],
   "source": [
    "test = PCA(n_components=21).fit_transform(test)"
   ]
  },
  {
   "cell_type": "code",
   "execution_count": 282,
   "id": "87ad43be",
   "metadata": {},
   "outputs": [],
   "source": [
    "sgd_reg = SGDRegressor(max_iter=500).fit(test, train_labels)"
   ]
  },
  {
   "cell_type": "code",
   "execution_count": 283,
   "id": "a3ec5fa5",
   "metadata": {},
   "outputs": [
    {
     "name": "stdout",
     "output_type": "stream",
     "text": [
      "RMSE scores computed using 5-fold cross-validation: [3.87659423e+11 5.73130279e+11 2.14164842e+12 3.46705762e+11\n",
      " 2.55421017e+12]\n",
      "Mean RMSE computed using 5-fold cross-validation: 1200670810253.3176\n",
      "RMSE std. deviation computed using 5-fold cross-validation: 948847573849.3768\n"
     ]
    }
   ],
   "source": [
    "score_regressor(sgd_reg, test, train_labels)"
   ]
  },
  {
   "cell_type": "code",
   "execution_count": 284,
   "id": "57a63cbe",
   "metadata": {},
   "outputs": [],
   "source": [
    "test = poly.fit_transform(train_set_transformed)"
   ]
  },
  {
   "cell_type": "code",
   "execution_count": 285,
   "id": "3c140691",
   "metadata": {},
   "outputs": [],
   "source": [
    "test = PCA(n_components=21).fit_transform(test)"
   ]
  },
  {
   "cell_type": "code",
   "execution_count": 286,
   "id": "f7b0390f",
   "metadata": {},
   "outputs": [],
   "source": [
    "sgd_reg = SGDRegressor(max_iter=500).fit(test, train_labels)"
   ]
  },
  {
   "cell_type": "code",
   "execution_count": 287,
   "id": "22838c7c",
   "metadata": {},
   "outputs": [
    {
     "name": "stdout",
     "output_type": "stream",
     "text": [
      "RMSE scores computed using 5-fold cross-validation: [1.53461460e+12 1.40437684e+12 1.70556599e+12 1.09141307e+12\n",
      " 6.09330282e+11]\n",
      "Mean RMSE computed using 5-fold cross-validation: 1269060157027.8389\n",
      "RMSE std. deviation computed using 5-fold cross-validation: 386307936236.5899\n"
     ]
    }
   ],
   "source": [
    "score_regressor(sgd_reg, test, train_labels)"
   ]
  },
  {
   "cell_type": "code",
   "execution_count": 288,
   "id": "fcdd3b0a",
   "metadata": {},
   "outputs": [],
   "source": [
    "poly = PolynomialFeatures(2)"
   ]
  },
  {
   "cell_type": "code",
   "execution_count": 289,
   "id": "83f06309",
   "metadata": {},
   "outputs": [],
   "source": [
    "test = poly.fit_transform(train_set_transformed)"
   ]
  },
  {
   "cell_type": "code",
   "execution_count": 290,
   "id": "e5876c36",
   "metadata": {},
   "outputs": [],
   "source": [
    "sgd_reg = SGDRegressor(max_iter=500).fit(test, train_labels)"
   ]
  },
  {
   "cell_type": "code",
   "execution_count": 291,
   "id": "d4c4358a",
   "metadata": {},
   "outputs": [
    {
     "name": "stdout",
     "output_type": "stream",
     "text": [
      "RMSE scores computed using 5-fold cross-validation: [883.06519469 881.27897595 893.11349354 874.35875435 880.79861608]\n",
      "Mean RMSE computed using 5-fold cross-validation: 882.5230069214356\n",
      "RMSE std. deviation computed using 5-fold cross-validation: 6.060173780754951\n"
     ]
    }
   ],
   "source": [
    "score_regressor(sgd_reg, test, train_labels)"
   ]
  },
  {
   "cell_type": "code",
   "execution_count": 292,
   "id": "bbbff773",
   "metadata": {},
   "outputs": [],
   "source": [
    "sgd_reg = SGDRegressor(max_iter=500, penalty='l1').fit(test, train_labels)"
   ]
  },
  {
   "cell_type": "code",
   "execution_count": 293,
   "id": "d6c6851c",
   "metadata": {},
   "outputs": [
    {
     "name": "stdout",
     "output_type": "stream",
     "text": [
      "RMSE scores computed using 5-fold cross-validation: [882.59143966 884.7157842  883.3194135  875.26173779 885.49561945]\n",
      "Mean RMSE computed using 5-fold cross-validation: 882.2767989197549\n",
      "RMSE std. deviation computed using 5-fold cross-validation: 3.652576663948999\n"
     ]
    }
   ],
   "source": [
    "score_regressor(sgd_reg, test, train_labels)"
   ]
  },
  {
   "cell_type": "code",
   "execution_count": 294,
   "id": "ee9887d2",
   "metadata": {},
   "outputs": [],
   "source": [
    "from sklearn.model_selection import GridSearchCV\n",
    "sgdr = SGDRegressor()\n",
    "param_grid = [{'max_iter': [200, 500, 1000], 'fit_intercept': [True, False], \\\n",
    "\t\t\t\t\t'penalty':['l1', 'l2'],'n_iter_no_change': [5,10,15]}]\n",
    "grid_search = GridSearchCV(sgdr, param_grid, cv=5, scoring='neg_mean_squared_error')"
   ]
  },
  {
   "cell_type": "code",
   "execution_count": 296,
   "id": "13ad4fc0",
   "metadata": {},
   "outputs": [
    {
     "name": "stdout",
     "output_type": "stream",
     "text": [
      "2\n"
     ]
    }
   ],
   "source": [
    "print(1+1)"
   ]
  },
  {
   "cell_type": "code",
   "execution_count": 297,
   "id": "399140a5",
   "metadata": {},
   "outputs": [],
   "source": [
    "from sklearn.ensemble import GradientBoostingRegressor"
   ]
  },
  {
   "cell_type": "code",
   "execution_count": 298,
   "id": "b8ed7d4e",
   "metadata": {},
   "outputs": [],
   "source": [
    "gbrt = GradientBoostingRegressor(n_estimators=50)"
   ]
  },
  {
   "cell_type": "code",
   "execution_count": 299,
   "id": "dea81cac",
   "metadata": {},
   "outputs": [
    {
     "data": {
      "text/plain": [
       "GradientBoostingRegressor(n_estimators=50)"
      ]
     },
     "execution_count": 299,
     "metadata": {},
     "output_type": "execute_result"
    }
   ],
   "source": [
    "gbrt.fit(train_set_transformed, train_labels)"
   ]
  },
  {
   "cell_type": "code",
   "execution_count": 300,
   "id": "2e85763f",
   "metadata": {},
   "outputs": [
    {
     "name": "stdout",
     "output_type": "stream",
     "text": [
      "RMSE scores computed using 5-fold cross-validation: [899.6636983  897.35443684 899.4543464  895.6050849  897.40689437]\n",
      "Mean RMSE computed using 5-fold cross-validation: 897.896892162176\n",
      "RMSE std. deviation computed using 5-fold cross-validation: 1.505589834150569\n"
     ]
    }
   ],
   "source": [
    "score_regressor(gbrt, train_set_transformed, train_labels)"
   ]
  },
  {
   "cell_type": "code",
   "execution_count": 301,
   "id": "ce4bf3d8",
   "metadata": {},
   "outputs": [],
   "source": [
    "gbrt = GradientBoostingRegressor(n_estimators=150)"
   ]
  },
  {
   "cell_type": "code",
   "execution_count": 302,
   "id": "a68526ad",
   "metadata": {},
   "outputs": [
    {
     "data": {
      "text/plain": [
       "GradientBoostingRegressor(n_estimators=150)"
      ]
     },
     "execution_count": 302,
     "metadata": {},
     "output_type": "execute_result"
    }
   ],
   "source": [
    "gbrt.fit(train_set_transformed, train_labels)"
   ]
  },
  {
   "cell_type": "code",
   "execution_count": 303,
   "id": "ef1c43ce",
   "metadata": {},
   "outputs": [
    {
     "name": "stdout",
     "output_type": "stream",
     "text": [
      "RMSE scores computed using 5-fold cross-validation: [866.89105995 864.1157708  867.4783611  862.17464456 865.1987103 ]\n",
      "Mean RMSE computed using 5-fold cross-validation: 865.1717093398705\n",
      "RMSE std. deviation computed using 5-fold cross-validation: 1.9170258966186235\n"
     ]
    }
   ],
   "source": [
    "score_regressor(gbrt, train_set_transformed, train_labels)"
   ]
  },
  {
   "cell_type": "code",
   "execution_count": 306,
   "id": "6b6af750",
   "metadata": {},
   "outputs": [],
   "source": [
    "gbrt = GradientBoostingRegressor()\n",
    "rand_search = RandomizedSearchCV(gbrt, param_grid, cv=5, scoring='neg_mean_squared_error')\n",
    "param_grid = [{'n_estimators': [50, 75, 100, 125, 150], 'learning_rate': [0.1, 0.2, 0.3, 0.4], \\\n",
    "\t\t\t\t\t'max_depth':[2,3,4,5,6,7]}]"
   ]
  },
  {
   "cell_type": "code",
   "execution_count": 319,
   "id": "21650940",
   "metadata": {},
   "outputs": [
    {
     "data": {
      "text/plain": [
       "RandomizedSearchCV(cv=5, estimator=GradientBoostingRegressor(),\n",
       "                   param_distributions=[{'learning_rate': [0.1, 0.2, 0.3, 0.4],\n",
       "                                         'max_depth': [2, 3, 4, 5, 6]}],\n",
       "                   scoring='neg_mean_squared_error')"
      ]
     },
     "execution_count": 319,
     "metadata": {},
     "output_type": "execute_result"
    }
   ],
   "source": [
    "gbrt = GradientBoostingRegressor()\n",
    "rand_search_new = RandomizedSearchCV(gbrt, param_grid, cv=5, scoring='neg_mean_squared_error')\n",
    "param_grid = [{'n_estimators': [50, 75, 100, 125, 150], 'learning_rate': [0.1, 0.2, 0.3, 0.4], \\\n",
    "\t\t\t\t\t'max_depth':[2,3,4,5,6]}]\n",
    "rand_search_new.fit(train_set_transformed, train_labels)"
   ]
  },
  {
   "cell_type": "code",
   "execution_count": 321,
   "id": "e93110a5",
   "metadata": {},
   "outputs": [
    {
     "data": {
      "text/plain": [
       "{'max_depth': 6, 'learning_rate': 0.3}"
      ]
     },
     "execution_count": 321,
     "metadata": {},
     "output_type": "execute_result"
    }
   ],
   "source": [
    "rand_search_new.best_params_"
   ]
  },
  {
   "cell_type": "code",
   "execution_count": 323,
   "id": "491e264e",
   "metadata": {},
   "outputs": [],
   "source": [
    "final_model = rand_search_new.best_estimator_\n"
   ]
  },
  {
   "cell_type": "code",
   "execution_count": 324,
   "id": "f2ae1a30",
   "metadata": {},
   "outputs": [
    {
     "data": {
      "text/plain": [
       "GradientBoostingRegressor(learning_rate=0.3, max_depth=6)"
      ]
     },
     "execution_count": 324,
     "metadata": {},
     "output_type": "execute_result"
    }
   ],
   "source": [
    "final_model"
   ]
  },
  {
   "cell_type": "code",
   "execution_count": 325,
   "id": "8d9ad7fa",
   "metadata": {},
   "outputs": [
    {
     "name": "stdout",
     "output_type": "stream",
     "text": [
      "RMSE scores computed using 5-fold cross-validation: [843.08742371 839.89743079 841.81034118 836.42561632 841.51125102]\n",
      "Mean RMSE computed using 5-fold cross-validation: 840.5464126039058\n",
      "RMSE std. deviation computed using 5-fold cross-validation: 2.2972725344516727\n"
     ]
    }
   ],
   "source": [
    "score_regressor(final_model, train_set_transformed, train_labels)"
   ]
  },
  {
   "cell_type": "markdown",
   "id": "11ae4089",
   "metadata": {},
   "source": [
    "## So this GradientBoostingRegressor gives me the lowest RMSE so far, around 840 seconds or 14 minutes per order. We'll choose it to make our predictions."
   ]
  },
  {
   "cell_type": "code",
   "execution_count": 326,
   "id": "7b63b408",
   "metadata": {},
   "outputs": [],
   "source": [
    "final_model_preds = final_model.predict(train_set_transformed)"
   ]
  },
  {
   "cell_type": "code",
   "execution_count": 328,
   "id": "ca2fa268",
   "metadata": {},
   "outputs": [],
   "source": [
    "results_df = pd.DataFrame({'predictions': final_model_preds, 'actual': train_labels})"
   ]
  },
  {
   "cell_type": "code",
   "execution_count": 329,
   "id": "0313ce08",
   "metadata": {},
   "outputs": [],
   "source": [
    "results_df['residuals'] = results_df['predictions'] - results_df['actual']"
   ]
  },
  {
   "cell_type": "code",
   "execution_count": 330,
   "id": "375ea5e3",
   "metadata": {},
   "outputs": [
    {
     "data": {
      "image/png": "[encoded data removed]",
      "text/plain": [
       "<Figure size 432x288 with 1 Axes>"
      ]
     },
     "metadata": {
      "needs_background": "light"
     },
     "output_type": "display_data"
    }
   ],
   "source": [
    "_ = results_df['residuals'].hist(bins=50)"
   ]
  },
  {
   "cell_type": "code",
   "execution_count": 331,
   "id": "937100c0",
   "metadata": {},
   "outputs": [
    {
     "data": {
      "text/plain": [
       "count    1.570530e+05\n",
       "mean     9.388377e-14\n",
       "std      7.921557e+02\n",
       "min     -5.264405e+03\n",
       "25%     -4.009855e+02\n",
       "50%      1.191008e+02\n",
       "75%      5.361208e+02\n",
       "max      2.708509e+03\n",
       "Name: residuals, dtype: float64"
      ]
     },
     "execution_count": 331,
     "metadata": {},
     "output_type": "execute_result"
    }
   ],
   "source": [
    "results_df['residuals'].describe()"
   ]
  },
  {
   "cell_type": "markdown",
   "id": "b54e5852",
   "metadata": {},
   "source": [
    "## Now, let's predict on the \"test set\" I created and see how our predictions fare."
   ]
  },
  {
   "cell_type": "code",
   "execution_count": 332,
   "id": "d4a4a050",
   "metadata": {},
   "outputs": [],
   "source": [
    "test = DeliveryTimeCalculator(upper_outlier_seconds=7200).fit_transform(test_set)\n",
    "test_labels = train_set['total_delivery_duration_seconds'].to_numpy()"
   ]
  },
  {
   "cell_type": "code",
   "execution_count": 333,
   "id": "66c478bd",
   "metadata": {},
   "outputs": [],
   "source": [
    "test_set_transformed = full_pipeline.fit_transform(test_set)"
   ]
  },
  {
   "cell_type": "code",
   "execution_count": 334,
   "id": "c123ab8e",
   "metadata": {},
   "outputs": [],
   "source": [
    "test_set_preds = final_model.predict(test_set_transformed)"
   ]
  },
  {
   "cell_type": "code",
   "execution_count": 337,
   "id": "207da921",
   "metadata": {},
   "outputs": [
    {
     "data": {
      "text/html": [
       "<div>\n",
       "<style scoped>\n",
       "    .dataframe tbody tr th:only-of-type {\n",
       "        vertical-align: middle;\n",
       "    }\n",
       "\n",
       "    .dataframe tbody tr th {\n",
       "        vertical-align: top;\n",
       "    }\n",
       "\n",
       "    .dataframe thead th {\n",
       "        text-align: right;\n",
       "    }\n",
       "</style>\n",
       "<table border=\"1\" class=\"dataframe\">\n",
       "  <thead>\n",
       "    <tr style=\"text-align: right;\">\n",
       "      <th></th>\n",
       "      <th>market_id</th>\n",
       "      <th>created_at</th>\n",
       "      <th>actual_delivery_time</th>\n",
       "      <th>store_id</th>\n",
       "      <th>subtotal</th>\n",
       "      <th>total_onshift_dashers</th>\n",
       "      <th>total_busy_dashers</th>\n",
       "      <th>total_outstanding_orders</th>\n",
       "      <th>estimated_store_to_consumer_driving_duration</th>\n",
       "    </tr>\n",
       "  </thead>\n",
       "  <tbody>\n",
       "    <tr>\n",
       "      <th>175813</th>\n",
       "      <td>2.0</td>\n",
       "      <td>2015-01-24 18:23:56</td>\n",
       "      <td>2015-01-24 19:24:39</td>\n",
       "      <td>3955</td>\n",
       "      <td>1944</td>\n",
       "      <td>12.0</td>\n",
       "      <td>36.0</td>\n",
       "      <td>14.0</td>\n",
       "      <td>495.0</td>\n",
       "    </tr>\n",
       "    <tr>\n",
       "      <th>79762</th>\n",
       "      <td>2.0</td>\n",
       "      <td>2015-01-22 19:02:58</td>\n",
       "      <td>2015-01-22 19:25:44</td>\n",
       "      <td>5704</td>\n",
       "      <td>2098</td>\n",
       "      <td>31.0</td>\n",
       "      <td>36.0</td>\n",
       "      <td>28.0</td>\n",
       "      <td>196.0</td>\n",
       "    </tr>\n",
       "    <tr>\n",
       "      <th>80915</th>\n",
       "      <td>4.0</td>\n",
       "      <td>2015-02-01 20:39:21</td>\n",
       "      <td>2015-02-01 21:19:24</td>\n",
       "      <td>6323</td>\n",
       "      <td>3135</td>\n",
       "      <td>35.0</td>\n",
       "      <td>35.0</td>\n",
       "      <td>48.0</td>\n",
       "      <td>501.0</td>\n",
       "    </tr>\n",
       "    <tr>\n",
       "      <th>155400</th>\n",
       "      <td>2.0</td>\n",
       "      <td>2015-02-16 18:08:25</td>\n",
       "      <td>2015-02-16 18:42:06</td>\n",
       "      <td>892</td>\n",
       "      <td>895</td>\n",
       "      <td>10.0</td>\n",
       "      <td>6.0</td>\n",
       "      <td>3.0</td>\n",
       "      <td>816.0</td>\n",
       "    </tr>\n",
       "    <tr>\n",
       "      <th>78044</th>\n",
       "      <td>2.0</td>\n",
       "      <td>2015-02-15 18:55:33</td>\n",
       "      <td>2015-02-15 19:28:10</td>\n",
       "      <td>6884</td>\n",
       "      <td>0</td>\n",
       "      <td>23.0</td>\n",
       "      <td>20.0</td>\n",
       "      <td>23.0</td>\n",
       "      <td>573.0</td>\n",
       "    </tr>\n",
       "  </tbody>\n",
       "</table>\n",
       "</div>"
      ],
      "text/plain": [
       "        market_id           created_at actual_delivery_time  store_id  \\\n",
       "175813        2.0  2015-01-24 18:23:56  2015-01-24 19:24:39      3955   \n",
       "79762         2.0  2015-01-22 19:02:58  2015-01-22 19:25:44      5704   \n",
       "80915         4.0  2015-02-01 20:39:21  2015-02-01 21:19:24      6323   \n",
       "155400        2.0  2015-02-16 18:08:25  2015-02-16 18:42:06       892   \n",
       "78044         2.0  2015-02-15 18:55:33  2015-02-15 19:28:10      6884   \n",
       "\n",
       "        subtotal  total_onshift_dashers  total_busy_dashers  \\\n",
       "175813      1944                   12.0                36.0   \n",
       "79762       2098                   31.0                36.0   \n",
       "80915       3135                   35.0                35.0   \n",
       "155400       895                   10.0                 6.0   \n",
       "78044          0                   23.0                20.0   \n",
       "\n",
       "        total_outstanding_orders  estimated_store_to_consumer_driving_duration  \n",
       "175813                      14.0                                         495.0  \n",
       "79762                       28.0                                         196.0  \n",
       "80915                       48.0                                         501.0  \n",
       "155400                       3.0                                         816.0  \n",
       "78044                       23.0                                         573.0  "
      ]
     },
     "execution_count": 337,
     "metadata": {},
     "output_type": "execute_result"
    }
   ],
   "source": [
    "test_set.head()"
   ]
  },
  {
   "cell_type": "code",
   "execution_count": 340,
   "id": "e9b86a7a",
   "metadata": {},
   "outputs": [
    {
     "data": {
      "text/html": [
       "<div>\n",
       "<style scoped>\n",
       "    .dataframe tbody tr th:only-of-type {\n",
       "        vertical-align: middle;\n",
       "    }\n",
       "\n",
       "    .dataframe tbody tr th {\n",
       "        vertical-align: top;\n",
       "    }\n",
       "\n",
       "    .dataframe thead th {\n",
       "        text-align: right;\n",
       "    }\n",
       "</style>\n",
       "<table border=\"1\" class=\"dataframe\">\n",
       "  <thead>\n",
       "    <tr style=\"text-align: right;\">\n",
       "      <th></th>\n",
       "      <th>market_id</th>\n",
       "      <th>created_at</th>\n",
       "      <th>actual_delivery_time</th>\n",
       "      <th>store_id</th>\n",
       "      <th>subtotal</th>\n",
       "      <th>total_onshift_dashers</th>\n",
       "      <th>total_busy_dashers</th>\n",
       "      <th>total_outstanding_orders</th>\n",
       "      <th>estimated_store_to_consumer_driving_duration</th>\n",
       "      <th>total_delivery_duration_seconds</th>\n",
       "    </tr>\n",
       "  </thead>\n",
       "  <tbody>\n",
       "    <tr>\n",
       "      <th>178523</th>\n",
       "      <td>3.0</td>\n",
       "      <td>2015-02-10 02:25:28</td>\n",
       "      <td>2015-02-10 03:09:01</td>\n",
       "      <td>1659</td>\n",
       "      <td>1298</td>\n",
       "      <td>0.0</td>\n",
       "      <td>0.0</td>\n",
       "      <td>0.0</td>\n",
       "      <td>821.0</td>\n",
       "      <td>2613.0</td>\n",
       "    </tr>\n",
       "    <tr>\n",
       "      <th>89414</th>\n",
       "      <td>4.0</td>\n",
       "      <td>2015-01-23 04:23:13</td>\n",
       "      <td>2015-01-23 05:01:12</td>\n",
       "      <td>3748</td>\n",
       "      <td>1690</td>\n",
       "      <td>78.0</td>\n",
       "      <td>64.0</td>\n",
       "      <td>75.0</td>\n",
       "      <td>406.0</td>\n",
       "      <td>2279.0</td>\n",
       "    </tr>\n",
       "    <tr>\n",
       "      <th>94190</th>\n",
       "      <td>1.0</td>\n",
       "      <td>2015-01-24 03:33:32</td>\n",
       "      <td>2015-01-24 04:03:35</td>\n",
       "      <td>6750</td>\n",
       "      <td>3300</td>\n",
       "      <td>63.0</td>\n",
       "      <td>66.0</td>\n",
       "      <td>90.0</td>\n",
       "      <td>296.0</td>\n",
       "      <td>1803.0</td>\n",
       "    </tr>\n",
       "    <tr>\n",
       "      <th>136117</th>\n",
       "      <td>5.0</td>\n",
       "      <td>2015-02-17 00:25:38</td>\n",
       "      <td>2015-02-17 01:14:22</td>\n",
       "      <td>6456</td>\n",
       "      <td>3029</td>\n",
       "      <td>23.0</td>\n",
       "      <td>15.0</td>\n",
       "      <td>15.0</td>\n",
       "      <td>773.0</td>\n",
       "      <td>2924.0</td>\n",
       "    </tr>\n",
       "    <tr>\n",
       "      <th>53337</th>\n",
       "      <td>4.0</td>\n",
       "      <td>2015-01-26 01:19:16</td>\n",
       "      <td>2015-01-26 02:24:02</td>\n",
       "      <td>6889</td>\n",
       "      <td>3390</td>\n",
       "      <td>71.0</td>\n",
       "      <td>98.0</td>\n",
       "      <td>91.0</td>\n",
       "      <td>758.0</td>\n",
       "      <td>3886.0</td>\n",
       "    </tr>\n",
       "  </tbody>\n",
       "</table>\n",
       "</div>"
      ],
      "text/plain": [
       "        market_id          created_at actual_delivery_time  store_id  \\\n",
       "178523        3.0 2015-02-10 02:25:28  2015-02-10 03:09:01      1659   \n",
       "89414         4.0 2015-01-23 04:23:13  2015-01-23 05:01:12      3748   \n",
       "94190         1.0 2015-01-24 03:33:32  2015-01-24 04:03:35      6750   \n",
       "136117        5.0 2015-02-17 00:25:38  2015-02-17 01:14:22      6456   \n",
       "53337         4.0 2015-01-26 01:19:16  2015-01-26 02:24:02      6889   \n",
       "\n",
       "        subtotal  total_onshift_dashers  total_busy_dashers  \\\n",
       "178523      1298                    0.0                 0.0   \n",
       "89414       1690                   78.0                64.0   \n",
       "94190       3300                   63.0                66.0   \n",
       "136117      3029                   23.0                15.0   \n",
       "53337       3390                   71.0                98.0   \n",
       "\n",
       "        total_outstanding_orders  \\\n",
       "178523                       0.0   \n",
       "89414                       75.0   \n",
       "94190                       90.0   \n",
       "136117                      15.0   \n",
       "53337                       91.0   \n",
       "\n",
       "        estimated_store_to_consumer_driving_duration  \\\n",
       "178523                                         821.0   \n",
       "89414                                          406.0   \n",
       "94190                                          296.0   \n",
       "136117                                         773.0   \n",
       "53337                                          758.0   \n",
       "\n",
       "        total_delivery_duration_seconds  \n",
       "178523                           2613.0  \n",
       "89414                            2279.0  \n",
       "94190                            1803.0  \n",
       "136117                           2924.0  \n",
       "53337                            3886.0  "
      ]
     },
     "execution_count": 340,
     "metadata": {},
     "output_type": "execute_result"
    }
   ],
   "source": [
    "train_set.head()"
   ]
  },
  {
   "cell_type": "code",
   "execution_count": 341,
   "id": "5c19583d",
   "metadata": {},
   "outputs": [
    {
     "data": {
      "text/html": [
       "<div>\n",
       "<style scoped>\n",
       "    .dataframe tbody tr th:only-of-type {\n",
       "        vertical-align: middle;\n",
       "    }\n",
       "\n",
       "    .dataframe tbody tr th {\n",
       "        vertical-align: top;\n",
       "    }\n",
       "\n",
       "    .dataframe thead th {\n",
       "        text-align: right;\n",
       "    }\n",
       "</style>\n",
       "<table border=\"1\" class=\"dataframe\">\n",
       "  <thead>\n",
       "    <tr style=\"text-align: right;\">\n",
       "      <th></th>\n",
       "      <th>market_id</th>\n",
       "      <th>created_at</th>\n",
       "      <th>actual_delivery_time</th>\n",
       "      <th>store_id</th>\n",
       "      <th>subtotal</th>\n",
       "      <th>total_onshift_dashers</th>\n",
       "      <th>total_busy_dashers</th>\n",
       "      <th>total_outstanding_orders</th>\n",
       "      <th>estimated_store_to_consumer_driving_duration</th>\n",
       "    </tr>\n",
       "  </thead>\n",
       "  <tbody>\n",
       "    <tr>\n",
       "      <th>175813</th>\n",
       "      <td>2.0</td>\n",
       "      <td>2015-01-24 18:23:56</td>\n",
       "      <td>2015-01-24 19:24:39</td>\n",
       "      <td>3955</td>\n",
       "      <td>1944</td>\n",
       "      <td>12.0</td>\n",
       "      <td>36.0</td>\n",
       "      <td>14.0</td>\n",
       "      <td>495.0</td>\n",
       "    </tr>\n",
       "    <tr>\n",
       "      <th>79762</th>\n",
       "      <td>2.0</td>\n",
       "      <td>2015-01-22 19:02:58</td>\n",
       "      <td>2015-01-22 19:25:44</td>\n",
       "      <td>5704</td>\n",
       "      <td>2098</td>\n",
       "      <td>31.0</td>\n",
       "      <td>36.0</td>\n",
       "      <td>28.0</td>\n",
       "      <td>196.0</td>\n",
       "    </tr>\n",
       "    <tr>\n",
       "      <th>80915</th>\n",
       "      <td>4.0</td>\n",
       "      <td>2015-02-01 20:39:21</td>\n",
       "      <td>2015-02-01 21:19:24</td>\n",
       "      <td>6323</td>\n",
       "      <td>3135</td>\n",
       "      <td>35.0</td>\n",
       "      <td>35.0</td>\n",
       "      <td>48.0</td>\n",
       "      <td>501.0</td>\n",
       "    </tr>\n",
       "    <tr>\n",
       "      <th>155400</th>\n",
       "      <td>2.0</td>\n",
       "      <td>2015-02-16 18:08:25</td>\n",
       "      <td>2015-02-16 18:42:06</td>\n",
       "      <td>892</td>\n",
       "      <td>895</td>\n",
       "      <td>10.0</td>\n",
       "      <td>6.0</td>\n",
       "      <td>3.0</td>\n",
       "      <td>816.0</td>\n",
       "    </tr>\n",
       "    <tr>\n",
       "      <th>78044</th>\n",
       "      <td>2.0</td>\n",
       "      <td>2015-02-15 18:55:33</td>\n",
       "      <td>2015-02-15 19:28:10</td>\n",
       "      <td>6884</td>\n",
       "      <td>0</td>\n",
       "      <td>23.0</td>\n",
       "      <td>20.0</td>\n",
       "      <td>23.0</td>\n",
       "      <td>573.0</td>\n",
       "    </tr>\n",
       "  </tbody>\n",
       "</table>\n",
       "</div>"
      ],
      "text/plain": [
       "        market_id           created_at actual_delivery_time  store_id  \\\n",
       "175813        2.0  2015-01-24 18:23:56  2015-01-24 19:24:39      3955   \n",
       "79762         2.0  2015-01-22 19:02:58  2015-01-22 19:25:44      5704   \n",
       "80915         4.0  2015-02-01 20:39:21  2015-02-01 21:19:24      6323   \n",
       "155400        2.0  2015-02-16 18:08:25  2015-02-16 18:42:06       892   \n",
       "78044         2.0  2015-02-15 18:55:33  2015-02-15 19:28:10      6884   \n",
       "\n",
       "        subtotal  total_onshift_dashers  total_busy_dashers  \\\n",
       "175813      1944                   12.0                36.0   \n",
       "79762       2098                   31.0                36.0   \n",
       "80915       3135                   35.0                35.0   \n",
       "155400       895                   10.0                 6.0   \n",
       "78044          0                   23.0                20.0   \n",
       "\n",
       "        total_outstanding_orders  estimated_store_to_consumer_driving_duration  \n",
       "175813                      14.0                                         495.0  \n",
       "79762                       28.0                                         196.0  \n",
       "80915                       48.0                                         501.0  \n",
       "155400                       3.0                                         816.0  \n",
       "78044                       23.0                                         573.0  "
      ]
     },
     "execution_count": 341,
     "metadata": {},
     "output_type": "execute_result"
    }
   ],
   "source": [
    "test_set.head()"
   ]
  },
  {
   "cell_type": "code",
   "execution_count": 342,
   "id": "2ab13697",
   "metadata": {},
   "outputs": [],
   "source": [
    "test_set = DeliveryTimeCalculator(upper_outlier_seconds=7200).fit_transform(test_set)"
   ]
  },
  {
   "cell_type": "code",
   "execution_count": 343,
   "id": "4961ea39",
   "metadata": {},
   "outputs": [
    {
     "name": "stdout",
     "output_type": "stream",
     "text": [
      "        market_id          created_at actual_delivery_time  store_id  \\\n",
      "175813        2.0 2015-01-24 18:23:56  2015-01-24 19:24:39      3955   \n",
      "79762         2.0 2015-01-22 19:02:58  2015-01-22 19:25:44      5704   \n",
      "80915         4.0 2015-02-01 20:39:21  2015-02-01 21:19:24      6323   \n",
      "155400        2.0 2015-02-16 18:08:25  2015-02-16 18:42:06       892   \n",
      "78044         2.0 2015-02-15 18:55:33  2015-02-15 19:28:10      6884   \n",
      "...           ...                 ...                  ...       ...   \n",
      "92760         4.0 2015-02-06 21:35:34  2015-02-06 22:06:22      2636   \n",
      "73105         4.0 2015-01-27 21:01:03  2015-01-27 21:39:44      4666   \n",
      "159516        2.0 2015-01-31 03:56:16  2015-01-31 05:04:41      6074   \n",
      "33150         4.0 2015-01-30 02:08:40  2015-01-30 03:05:47      1854   \n",
      "51346         1.0 2015-02-09 03:46:19  2015-02-09 04:33:43      2927   \n",
      "\n",
      "        subtotal  total_onshift_dashers  total_busy_dashers  \\\n",
      "175813      1944                   12.0                36.0   \n",
      "79762       2098                   31.0                36.0   \n",
      "80915       3135                   35.0                35.0   \n",
      "155400       895                   10.0                 6.0   \n",
      "78044          0                   23.0                20.0   \n",
      "...          ...                    ...                 ...   \n",
      "92760       2791                   39.0                39.0   \n",
      "73105       1749                   75.0                60.0   \n",
      "159516      2400                   95.0               101.0   \n",
      "33150       7620                  119.0               111.0   \n",
      "51346       4244                   62.0                63.0   \n",
      "\n",
      "        total_outstanding_orders  \\\n",
      "175813                      14.0   \n",
      "79762                       28.0   \n",
      "80915                       48.0   \n",
      "155400                       3.0   \n",
      "78044                       23.0   \n",
      "...                          ...   \n",
      "92760                       44.0   \n",
      "73105                       65.0   \n",
      "159516                     169.0   \n",
      "33150                      181.0   \n",
      "51346                       77.0   \n",
      "\n",
      "        estimated_store_to_consumer_driving_duration  \\\n",
      "175813                                         495.0   \n",
      "79762                                          196.0   \n",
      "80915                                          501.0   \n",
      "155400                                         816.0   \n",
      "78044                                          573.0   \n",
      "...                                              ...   \n",
      "92760                                          666.0   \n",
      "73105                                          832.0   \n",
      "159516                                         750.0   \n",
      "33150                                          367.0   \n",
      "51346                                          438.0   \n",
      "\n",
      "        total_delivery_duration_seconds  \n",
      "175813                           3643.0  \n",
      "79762                            1366.0  \n",
      "80915                            2403.0  \n",
      "155400                           2021.0  \n",
      "78044                            1957.0  \n",
      "...                                 ...  \n",
      "92760                            1848.0  \n",
      "73105                            2321.0  \n",
      "159516                           4105.0  \n",
      "33150                            3427.0  \n",
      "51346                            2844.0  \n",
      "\n",
      "[39277 rows x 10 columns]\n"
     ]
    }
   ],
   "source": [
    "print(test_set)"
   ]
  },
  {
   "cell_type": "code",
   "execution_count": 344,
   "id": "8983655f",
   "metadata": {},
   "outputs": [],
   "source": [
    "test_labels = test_set['total_delivery_duration_seconds'].to_numpy()"
   ]
  },
  {
   "cell_type": "code",
   "execution_count": 345,
   "id": "5ada49d9",
   "metadata": {},
   "outputs": [],
   "source": [
    "test_set_transformed = full_pipeline.transform(test_set)"
   ]
  },
  {
   "cell_type": "code",
   "execution_count": 346,
   "id": "056bbe0b",
   "metadata": {},
   "outputs": [],
   "source": [
    "final_model_preds = final_model.predict(test_set_transformed)"
   ]
  },
  {
   "cell_type": "code",
   "execution_count": 347,
   "id": "069ab932",
   "metadata": {},
   "outputs": [],
   "source": [
    "final_rmse = np.sqrt(MSE(test_labels, final_model_preds))"
   ]
  },
  {
   "cell_type": "code",
   "execution_count": 348,
   "id": "75d7aa7c",
   "metadata": {},
   "outputs": [
    {
     "name": "stdout",
     "output_type": "stream",
     "text": [
      "826.5053696063695\n"
     ]
    }
   ],
   "source": [
    "print(final_rmse)"
   ]
  },
  {
   "cell_type": "markdown",
   "id": "fe78fe7d",
   "metadata": {},
   "source": [
    "## So the RMSE on the test was even lower, measuring 13 minutes 46 seconds. Given the subject matter expertise in the instructions doc (i.e. that underestimating, or order lateness, is more costly than overestimating) let us examine how our model fares in that regard. In other words, how often we under vs. overpredicting delivery time?"
   ]
  },
  {
   "cell_type": "code",
   "execution_count": 356,
   "id": "8925083b",
   "metadata": {},
   "outputs": [],
   "source": [
    "results_df = pd.DataFrame({'predictions': final_model_preds, 'actual': test_labels})"
   ]
  },
  {
   "cell_type": "code",
   "execution_count": 357,
   "id": "9c9a41a2",
   "metadata": {},
   "outputs": [],
   "source": [
    "results_df['residuals'] = results_df['predictions'] - results_df['actual']"
   ]
  },
  {
   "cell_type": "code",
   "execution_count": 359,
   "id": "4434c74e",
   "metadata": {},
   "outputs": [
    {
     "data": {
      "text/plain": [
       "0.42678921506225015"
      ]
     },
     "execution_count": 359,
     "metadata": {},
     "output_type": "execute_result"
    }
   ],
   "source": [
    "len(results_df[results_df['residuals'] < 0])/len(results_df)"
   ]
  },
  {
   "cell_type": "code",
   "execution_count": 360,
   "id": "1b006830",
   "metadata": {},
   "outputs": [
    {
     "data": {
      "image/png": "[encoded data removed]",
      "text/plain": [
       "<Figure size 432x288 with 1 Axes>"
      ]
     },
     "metadata": {
      "needs_background": "light"
     },
     "output_type": "display_data"
    }
   ],
   "source": [
    "_ = results_df['residuals'].hist(bins=50)"
   ]
  },
  {
   "cell_type": "code",
   "execution_count": 361,
   "id": "36e89a33",
   "metadata": {},
   "outputs": [
    {
     "data": {
      "text/plain": [
       "count    39277.000000\n",
       "mean        13.383979\n",
       "std        826.407516\n",
       "min      -4794.161177\n",
       "25%       -409.630193\n",
       "50%        136.981911\n",
       "75%        566.185459\n",
       "max       3103.126803\n",
       "Name: residuals, dtype: float64"
      ]
     },
     "execution_count": 361,
     "metadata": {},
     "output_type": "execute_result"
    }
   ],
   "source": [
    "results_df['residuals'].describe()"
   ]
  },
  {
   "cell_type": "code",
   "execution_count": 362,
   "id": "6f188305",
   "metadata": {},
   "outputs": [
    {
     "data": {
      "text/plain": [
       "-1522.7797898999977"
      ]
     },
     "execution_count": 362,
     "metadata": {},
     "output_type": "execute_result"
    }
   ],
   "source": [
    "results_df['residuals'].quantile(0.05)"
   ]
  },
  {
   "cell_type": "code",
   "execution_count": 363,
   "id": "e084d4c9",
   "metadata": {},
   "outputs": [
    {
     "data": {
      "text/plain": [
       "-1039.9447741085162"
      ]
     },
     "execution_count": 363,
     "metadata": {},
     "output_type": "execute_result"
    }
   ],
   "source": [
    "results_df['residuals'].quantile(0.10)"
   ]
  },
  {
   "cell_type": "code",
   "execution_count": 371,
   "id": "4d7d467a",
   "metadata": {},
   "outputs": [],
   "source": [
    "from scipy import stats\n",
    "conf_level = 0.95\n",
    "errors_sq = (final_model_preds - test_labels)\n",
    "std_error = stats.sem(errors_sq)\n",
    "ninety_five_conf_int = np.sqrt(stats.t.interval(conf_level, len(errors_sq) - 1,\\\n",
    "                                                loc=errors_sq.mean(), scale = std_error))"
   ]
  },
  {
   "cell_type": "code",
   "execution_count": 373,
   "id": "93dedb3f",
   "metadata": {},
   "outputs": [],
   "source": [
    "from scipy import stats\n",
    "conf_level = 0.95\n",
    "errors_sq = (final_model_preds - test_labels) ** 2\n",
    "std_error = stats.sem(errors_sq)\n",
    "ninety_five_conf_int = np.sqrt(stats.t.interval(conf_level, len(errors_sq) - 1,\\\n",
    "                                                loc=errors_sq.mean(), scale = std_error))"
   ]
  },
  {
   "cell_type": "code",
   "execution_count": 374,
   "id": "2fd46666",
   "metadata": {},
   "outputs": [
    {
     "name": "stdout",
     "output_type": "stream",
     "text": [
      "[818.29517337 834.6348071 ]\n"
     ]
    }
   ],
   "source": [
    "## This is the 95% confidence interval for the Root Mean Squared Error of our predictions\n",
    "print(ninety_five_conf_int)"
   ]
  },
  {
   "cell_type": "markdown",
   "id": "718397ac",
   "metadata": {},
   "source": [
    "# I believe the handful of cells above prove this model's effectiveness quite satisfactorily: the headline here is that close to 58% of our predictions are overestimates (meaning actual delivery time time is shorter than the estimate), and even our underestimates are not very common or excessive - only 10% of all orders will be more than 17 minutes late. Moreover, the middle 50% of all orders arrived within 14 minutes of the predicted time - which allows for the construction of a relatively short yet reliable time window to provide users after they've placed an order."
   ]
  },
  {
   "cell_type": "code",
   "execution_count": 349,
   "id": "b4d09de7",
   "metadata": {},
   "outputs": [],
   "source": [
    "unseen_data = pd.read_csv('predict_data.csv')"
   ]
  },
  {
   "cell_type": "code",
   "execution_count": 350,
   "id": "9acacbad",
   "metadata": {},
   "outputs": [
    {
     "name": "stdout",
     "output_type": "stream",
     "text": [
      "   market_id           created_at  store_id  subtotal  total_onshift_dashers  \\\n",
      "0        3.0  2015-02-25 02:22:30      5477      7500                    4.0   \n",
      "1        3.0  2015-02-25 01:14:19      5477      7100                    4.0   \n",
      "2        4.0  2015-02-22 02:27:44      5477      4500                    9.0   \n",
      "3        3.0  2015-02-25 01:32:39      5477      1700                    3.0   \n",
      "4        1.0  2015-02-24 05:20:45      2841      3150                    4.0   \n",
      "\n",
      "   total_busy_dashers  total_outstanding_orders  \\\n",
      "0                 4.0                       4.0   \n",
      "1                 1.0                       1.0   \n",
      "2                 7.0                       6.0   \n",
      "3                 3.0                       3.0   \n",
      "4                 4.0                       4.0   \n",
      "\n",
      "   estimated_store_to_consumer_driving_duration  delivery_id  \n",
      "0                                         670.0       194096  \n",
      "1                                         446.0       236895  \n",
      "2                                         504.0       190868  \n",
      "3                                         687.0       183076  \n",
      "4                                         528.0       186200  \n"
     ]
    }
   ],
   "source": [
    "print(unseen_data.head())"
   ]
  },
  {
   "cell_type": "code",
   "execution_count": 351,
   "id": "03325752",
   "metadata": {},
   "outputs": [],
   "source": [
    "unseen_data['placeholder'] = 0"
   ]
  },
  {
   "cell_type": "code",
   "execution_count": 352,
   "id": "70c3e872",
   "metadata": {},
   "outputs": [],
   "source": [
    "unseen_data_prepared = full_pipeline.fit_transform(unseen_data)"
   ]
  },
  {
   "cell_type": "code",
   "execution_count": 353,
   "id": "2fbee5f9",
   "metadata": {},
   "outputs": [],
   "source": [
    "unseen_data_predictions = final_model.predict(unseen_data_prepared)"
   ]
  },
  {
   "cell_type": "code",
   "execution_count": 355,
   "id": "803f03cc",
   "metadata": {},
   "outputs": [
    {
     "data": {
      "image/png": "[encoded data removed]",
      "text/plain": [
       "<Figure size 432x288 with 1 Axes>"
      ]
     },
     "metadata": {
      "needs_background": "light"
     },
     "output_type": "display_data"
    }
   ],
   "source": [
    "_ = plt.hist(unseen_data_predictions, bins=50)"
   ]
  },
  {
   "cell_type": "code",
   "execution_count": 364,
   "id": "b05403f3",
   "metadata": {},
   "outputs": [],
   "source": [
    "deliverable = unseen_data[['delivery_id']].copy()"
   ]
  },
  {
   "cell_type": "code",
   "execution_count": 365,
   "id": "df8096a7",
   "metadata": {},
   "outputs": [],
   "source": [
    "deliverable['predicted_duration'] = pd.Series(unseen_data_predictions)"
   ]
  },
  {
   "cell_type": "code",
   "execution_count": 366,
   "id": "f2c98190",
   "metadata": {},
   "outputs": [
    {
     "name": "stdout",
     "output_type": "stream",
     "text": [
      "   delivery_id  predicted_duration\n",
      "0       194096         3565.564440\n",
      "1       236895         3105.981494\n",
      "2       190868         2559.509448\n",
      "3       183076         3371.384064\n",
      "4       186200         3393.031648\n"
     ]
    }
   ],
   "source": [
    "print(deliverable.head())"
   ]
  },
  {
   "cell_type": "code",
   "execution_count": 367,
   "id": "2cc0771d",
   "metadata": {},
   "outputs": [],
   "source": [
    "deliverable.to_csv('predictions.csv')"
   ]
  },
  {
   "cell_type": "code",
   "execution_count": 368,
   "id": "8b9cebdb",
   "metadata": {},
   "outputs": [
    {
     "data": {
      "text/plain": [
       "(54778, 10)"
      ]
     },
     "execution_count": 368,
     "metadata": {},
     "output_type": "execute_result"
    }
   ],
   "source": [
    "unseen_data.shape"
   ]
  },
  {
   "cell_type": "code",
   "execution_count": 370,
   "id": "a2e71fe6",
   "metadata": {},
   "outputs": [
    {
     "data": {
      "text/plain": [
       "(54778, 2)"
      ]
     },
     "execution_count": 370,
     "metadata": {},
     "output_type": "execute_result"
    }
   ],
   "source": [
    "deliverable.shape"
   ]
  },
  {
   "cell_type": "code",
   "execution_count": null,
   "id": "c2e8fb29",
   "metadata": {},
   "outputs": [],
   "source": []
  }
 ],
 "metadata": {
  "kernelspec": {
   "display_name": "Python 3",
   "language": "python",
   "name": "python3"
  },
  "language_info": {
   "codemirror_mode": {
    "name": "ipython",
    "version": 3
   },
   "file_extension": ".py",
   "mimetype": "text/x-python",
   "name": "python",
   "nbconvert_exporter": "python",
   "pygments_lexer": "ipython3",
   "version": "3.7.10"
  }
 },
 "nbformat": 4,
 "nbformat_minor": 5
}
