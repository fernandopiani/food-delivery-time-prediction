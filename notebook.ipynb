{
 "cells": [
  {
   "cell_type": "markdown",
   "metadata": {
    "id": "1ohJqjfFTvzH"
   },
   "source": [
    "### Fernando Piani\n",
    "\n",
    "### January 25, 2022"
   ]
  },
  {
   "cell_type": "markdown",
   "metadata": {
    "id": "xdTVDbbET7_f"
   },
   "source": [
    "# Predicting Food Delivery Time Using Advanced Regression Techniques"
   ]
  },
  {
   "cell_type": "markdown",
   "metadata": {},
   "source": [
    "<img src=\"Data/image.jpeg\" width=700 height=494 />"
   ]
  },
  {
   "cell_type": "markdown",
   "metadata": {},
   "source": [
    "## Introduction"
   ]
  },
  {
   "cell_type": "markdown",
   "metadata": {},
   "source": [
    "Food delivery services, especially through third-party applications, saw a dramatic growth in popularity in the 2010s, fueled by the widespread of availability of smartphones and mobile broadband. More recently, the pandemic also played a significant part in accelerating this trend: according to a report by [Yelp](https://restaurants.yelp.com/articles/dine-in-vs-takeout-trends/), 60% of Americans order takeout or delivery either directly or through a third-party service at least once a week. Moreover, nearly 1/3 of Americans rely on third-party apps to order at least twice a week. \n",
    "\n",
    "The popularity of such applications and companies in the U.S. and around the world means that they are able to consistently amass large quantities of data on their customers, restaurant partners, drivers, and deliveries. This wealth of information makes this an industry where analytics and machine learning can provide significant competitive advantage in a number of ways. A key such use case is estimating total delivery duration - which, if done correctly, can provide benefits such as greater optimization of the courier network, as well as improved customer satisfaction.  \n",
    "\n",
    "We will be working with a dataset found on the [Reddit dataset repository](https://reddit.com/r/datasets), which contains delivery-level information for orders placed in 2015 on a major platform across several Canadian markets. I have uploaded the raw dataset in the **Data** folder in this GitHub repo, along with a data description file.\n",
    "\n",
    "\n"
   ]
  },
  {
   "cell_type": "markdown",
   "metadata": {},
   "source": [
    "## Business Understanding/Goal-Setting"
   ]
  },
  {
   "cell_type": "markdown",
   "metadata": {},
   "source": [
    "The baseline business objective here is maximizing the accuracy of our predictions so that we can provide the customer with a reasonable and short estimated time window for arrival. In machine learning terms, we are dealing with a univariate regression task. In other words, we only have one target variable, ***total_delivery_duration_seconds***, which is continuous (i.e. can take on any numeric value). Our goal in any regression task is to minimize our error terms (i.e. the difference between predictions and actual values). At first glance, this might seem like a straightforward prediction. However, the data description file found with the original dataset provides some business context from the subject matter experts in the Canadian company which originated the data. \n",
    "\n",
    "The complicating factor here is that past experiments at this company have indicated that underpredicting delivery times (i.e. when orders are late relative to the ETA provided in the app) is approximately twice as detrimental to customer satisfaction as overpredicting them (i.e. when orders arrive earlier than the ETA). For a data scientist, this constraint adds several layers of complexity to our workflow beyond just the default minimization of our regression errors. We will explore these in more technical detail beginning with the **Notes on Algorithm Selection** section further down in the modeling stage."
   ]
  },
  {
   "cell_type": "markdown",
   "metadata": {
    "id": "dgv7qDVSR4nL"
   },
   "source": [
    "## NOTES:  \n",
    "### 1/14/2021: Need to add a few cells where we check/analyze for negative values. Can even handwave it."
   ]
  },
  {
   "cell_type": "markdown",
   "metadata": {},
   "source": [
    "## Exploratory Data Analysis"
   ]
  },
  {
   "cell_type": "code",
   "execution_count": 6,
   "metadata": {
    "id": "64oR3mClQLyJ"
   },
   "outputs": [],
   "source": [
    "# Essential DS libraries\n",
    "import numpy as np\n",
    "import pandas as pd\n",
    "import matplotlib.pyplot as plt\n",
    "import seaborn as sns\n",
    "from scipy import stats"
   ]
  },
  {
   "cell_type": "code",
   "execution_count": 7,
   "metadata": {
    "id": "UQzwTySCUdsZ"
   },
   "outputs": [],
   "source": [
    "%matplotlib inline"
   ]
  },
  {
   "cell_type": "code",
   "execution_count": 8,
   "metadata": {
    "id": "FZhKYEEvBAoK"
   },
   "outputs": [],
   "source": [
    "hist_data = pd.read_csv('https://raw.githubusercontent.com/fernandopiani/food-delivery-time-prediction/main/Data/historical_data.csv?token=GHSAT0AAAAAABP5XWMH3LN2U2UGS6X5N23UYPZLQAQ')"
   ]
  },
  {
   "cell_type": "code",
   "execution_count": 9,
   "metadata": {
    "colab": {
     "base_uri": "https://localhost:8080/",
     "height": 374
    },
    "id": "GJVqUietBEP3",
    "outputId": "2f4422db-0e01-4065-a536-e45c6a5dc730"
   },
   "outputs": [
    {
     "name": "stdout",
     "output_type": "stream",
     "text": [
      "(197428, 9)\n"
     ]
    },
    {
     "data": {
      "text/html": [
       "<div>\n",
       "<style scoped>\n",
       "    .dataframe tbody tr th:only-of-type {\n",
       "        vertical-align: middle;\n",
       "    }\n",
       "\n",
       "    .dataframe tbody tr th {\n",
       "        vertical-align: top;\n",
       "    }\n",
       "\n",
       "    .dataframe thead th {\n",
       "        text-align: right;\n",
       "    }\n",
       "</style>\n",
       "<table border=\"1\" class=\"dataframe\">\n",
       "  <thead>\n",
       "    <tr style=\"text-align: right;\">\n",
       "      <th></th>\n",
       "      <th>market_id</th>\n",
       "      <th>created_at</th>\n",
       "      <th>actual_delivery_time</th>\n",
       "      <th>store_id</th>\n",
       "      <th>subtotal</th>\n",
       "      <th>total_onshift_drivers</th>\n",
       "      <th>total_busy_drivers</th>\n",
       "      <th>total_outstanding_orders</th>\n",
       "      <th>estimated_store_to_consumer_driving_duration</th>\n",
       "    </tr>\n",
       "  </thead>\n",
       "  <tbody>\n",
       "    <tr>\n",
       "      <th>0</th>\n",
       "      <td>1.0</td>\n",
       "      <td>2015-02-06 22:24:17</td>\n",
       "      <td>2015-02-06 23:27:16</td>\n",
       "      <td>1845</td>\n",
       "      <td>3441</td>\n",
       "      <td>33.0</td>\n",
       "      <td>14.0</td>\n",
       "      <td>21.0</td>\n",
       "      <td>861.0</td>\n",
       "    </tr>\n",
       "    <tr>\n",
       "      <th>1</th>\n",
       "      <td>2.0</td>\n",
       "      <td>2015-02-10 21:49:25</td>\n",
       "      <td>2015-02-10 22:56:29</td>\n",
       "      <td>5477</td>\n",
       "      <td>1900</td>\n",
       "      <td>1.0</td>\n",
       "      <td>2.0</td>\n",
       "      <td>2.0</td>\n",
       "      <td>690.0</td>\n",
       "    </tr>\n",
       "    <tr>\n",
       "      <th>2</th>\n",
       "      <td>3.0</td>\n",
       "      <td>2015-01-22 20:39:28</td>\n",
       "      <td>2015-01-22 21:09:09</td>\n",
       "      <td>5477</td>\n",
       "      <td>1900</td>\n",
       "      <td>1.0</td>\n",
       "      <td>0.0</td>\n",
       "      <td>0.0</td>\n",
       "      <td>690.0</td>\n",
       "    </tr>\n",
       "    <tr>\n",
       "      <th>3</th>\n",
       "      <td>3.0</td>\n",
       "      <td>2015-02-03 21:21:45</td>\n",
       "      <td>2015-02-03 22:13:00</td>\n",
       "      <td>5477</td>\n",
       "      <td>6900</td>\n",
       "      <td>1.0</td>\n",
       "      <td>1.0</td>\n",
       "      <td>2.0</td>\n",
       "      <td>289.0</td>\n",
       "    </tr>\n",
       "    <tr>\n",
       "      <th>4</th>\n",
       "      <td>3.0</td>\n",
       "      <td>2015-02-15 02:40:36</td>\n",
       "      <td>2015-02-15 03:20:26</td>\n",
       "      <td>5477</td>\n",
       "      <td>3900</td>\n",
       "      <td>6.0</td>\n",
       "      <td>6.0</td>\n",
       "      <td>9.0</td>\n",
       "      <td>650.0</td>\n",
       "    </tr>\n",
       "  </tbody>\n",
       "</table>\n",
       "</div>"
      ],
      "text/plain": [
       "   market_id           created_at actual_delivery_time  store_id  subtotal  \\\n",
       "0        1.0  2015-02-06 22:24:17  2015-02-06 23:27:16      1845      3441   \n",
       "1        2.0  2015-02-10 21:49:25  2015-02-10 22:56:29      5477      1900   \n",
       "2        3.0  2015-01-22 20:39:28  2015-01-22 21:09:09      5477      1900   \n",
       "3        3.0  2015-02-03 21:21:45  2015-02-03 22:13:00      5477      6900   \n",
       "4        3.0  2015-02-15 02:40:36  2015-02-15 03:20:26      5477      3900   \n",
       "\n",
       "   total_onshift_drivers  total_busy_drivers  total_outstanding_orders  \\\n",
       "0                   33.0                14.0                      21.0   \n",
       "1                    1.0                 2.0                       2.0   \n",
       "2                    1.0                 0.0                       0.0   \n",
       "3                    1.0                 1.0                       2.0   \n",
       "4                    6.0                 6.0                       9.0   \n",
       "\n",
       "   estimated_store_to_consumer_driving_duration  \n",
       "0                                         861.0  \n",
       "1                                         690.0  \n",
       "2                                         690.0  \n",
       "3                                         289.0  \n",
       "4                                         650.0  "
      ]
     },
     "execution_count": 9,
     "metadata": {},
     "output_type": "execute_result"
    }
   ],
   "source": [
    "print(hist_data.shape)\n",
    "hist_data.head()"
   ]
  },
  {
   "cell_type": "markdown",
   "metadata": {
    "id": "-eoOdKL5EP4U"
   },
   "source": [
    "As we can see above, our target variable, which we will call *total_delivery_duration_seconds*, will need to be engineered from the *created_at* and *actual_delivery_time* timestamp columns. We will do this by first converting the latter columns into Python's Datetime format and then performing the appropriate subtraction. \n",
    "\n",
    "We will also create another version of the target variable converted to minutes in order to simplify our EDA visualizations - however, we will train our model only using the seconds variable."
   ]
  },
  {
   "cell_type": "code",
   "execution_count": 10,
   "metadata": {
    "colab": {
     "base_uri": "https://localhost:8080/"
    },
    "id": "ps1W8Z0pEMae",
    "outputId": "bacc6420-5510-4ac3-a695-4cac873baa63"
   },
   "outputs": [
    {
     "data": {
      "text/plain": [
       "market_id                                              float64\n",
       "created_at                                      datetime64[ns]\n",
       "actual_delivery_time                            datetime64[ns]\n",
       "store_id                                                 int64\n",
       "subtotal                                                 int64\n",
       "total_onshift_drivers                                  float64\n",
       "total_busy_drivers                                     float64\n",
       "total_outstanding_orders                               float64\n",
       "estimated_store_to_consumer_driving_duration           float64\n",
       "dtype: object"
      ]
     },
     "execution_count": 10,
     "metadata": {},
     "output_type": "execute_result"
    }
   ],
   "source": [
    "# Converting timestamp columns to datetime\n",
    "hist_data['created_at'] = pd.to_datetime(hist_data['created_at'], infer_datetime_format=True)\n",
    "hist_data['actual_delivery_time'] = pd.to_datetime(hist_data['actual_delivery_time'], infer_datetime_format=True)\n",
    "hist_data.dtypes"
   ]
  },
  {
   "cell_type": "code",
   "execution_count": 11,
   "metadata": {
    "id": "GzCdDrsIHBZN"
   },
   "outputs": [],
   "source": [
    "# Engineering target variable\n",
    "hist_data['total_delivery_duration_seconds'] = (hist_data['actual_delivery_time'] - \\\n",
    "                                                    hist_data['created_at']).dt.total_seconds()"
   ]
  },
  {
   "cell_type": "code",
   "execution_count": 12,
   "metadata": {
    "colab": {
     "base_uri": "https://localhost:8080/"
    },
    "id": "iwqDlN-rEgKF",
    "outputId": "591bd67c-22b4-4198-8dce-cf6ea3acc69b"
   },
   "outputs": [
    {
     "data": {
      "text/plain": [
       "market_id                                              float64\n",
       "created_at                                      datetime64[ns]\n",
       "actual_delivery_time                            datetime64[ns]\n",
       "store_id                                                 int64\n",
       "subtotal                                                 int64\n",
       "total_onshift_drivers                                  float64\n",
       "total_busy_drivers                                     float64\n",
       "total_outstanding_orders                               float64\n",
       "estimated_store_to_consumer_driving_duration           float64\n",
       "total_delivery_duration_seconds                        float64\n",
       "total_delivery_duration_minutes                        float64\n",
       "dtype: object"
      ]
     },
     "execution_count": 12,
     "metadata": {},
     "output_type": "execute_result"
    }
   ],
   "source": [
    "# Creating delivery minutes variable\n",
    "hist_data['total_delivery_duration_minutes'] = hist_data['total_delivery_duration_seconds']/60\n",
    "hist_data.dtypes"
   ]
  },
  {
   "cell_type": "code",
   "execution_count": 13,
   "metadata": {
    "colab": {
     "base_uri": "https://localhost:8080/",
     "height": 374
    },
    "id": "Zug6lfLkUpmw",
    "outputId": "3076ca2e-197e-4ebf-84c0-9189789e1182"
   },
   "outputs": [
    {
     "name": "stdout",
     "output_type": "stream",
     "text": [
      "(197428, 11)\n"
     ]
    },
    {
     "data": {
      "text/html": [
       "<div>\n",
       "<style scoped>\n",
       "    .dataframe tbody tr th:only-of-type {\n",
       "        vertical-align: middle;\n",
       "    }\n",
       "\n",
       "    .dataframe tbody tr th {\n",
       "        vertical-align: top;\n",
       "    }\n",
       "\n",
       "    .dataframe thead th {\n",
       "        text-align: right;\n",
       "    }\n",
       "</style>\n",
       "<table border=\"1\" class=\"dataframe\">\n",
       "  <thead>\n",
       "    <tr style=\"text-align: right;\">\n",
       "      <th></th>\n",
       "      <th>market_id</th>\n",
       "      <th>created_at</th>\n",
       "      <th>actual_delivery_time</th>\n",
       "      <th>store_id</th>\n",
       "      <th>subtotal</th>\n",
       "      <th>total_onshift_drivers</th>\n",
       "      <th>total_busy_drivers</th>\n",
       "      <th>total_outstanding_orders</th>\n",
       "      <th>estimated_store_to_consumer_driving_duration</th>\n",
       "      <th>total_delivery_duration_seconds</th>\n",
       "      <th>total_delivery_duration_minutes</th>\n",
       "    </tr>\n",
       "  </thead>\n",
       "  <tbody>\n",
       "    <tr>\n",
       "      <th>0</th>\n",
       "      <td>1.0</td>\n",
       "      <td>2015-02-06 22:24:17</td>\n",
       "      <td>2015-02-06 23:27:16</td>\n",
       "      <td>1845</td>\n",
       "      <td>3441</td>\n",
       "      <td>33.0</td>\n",
       "      <td>14.0</td>\n",
       "      <td>21.0</td>\n",
       "      <td>861.0</td>\n",
       "      <td>3779.0</td>\n",
       "      <td>62.983333</td>\n",
       "    </tr>\n",
       "    <tr>\n",
       "      <th>1</th>\n",
       "      <td>2.0</td>\n",
       "      <td>2015-02-10 21:49:25</td>\n",
       "      <td>2015-02-10 22:56:29</td>\n",
       "      <td>5477</td>\n",
       "      <td>1900</td>\n",
       "      <td>1.0</td>\n",
       "      <td>2.0</td>\n",
       "      <td>2.0</td>\n",
       "      <td>690.0</td>\n",
       "      <td>4024.0</td>\n",
       "      <td>67.066667</td>\n",
       "    </tr>\n",
       "    <tr>\n",
       "      <th>2</th>\n",
       "      <td>3.0</td>\n",
       "      <td>2015-01-22 20:39:28</td>\n",
       "      <td>2015-01-22 21:09:09</td>\n",
       "      <td>5477</td>\n",
       "      <td>1900</td>\n",
       "      <td>1.0</td>\n",
       "      <td>0.0</td>\n",
       "      <td>0.0</td>\n",
       "      <td>690.0</td>\n",
       "      <td>1781.0</td>\n",
       "      <td>29.683333</td>\n",
       "    </tr>\n",
       "    <tr>\n",
       "      <th>3</th>\n",
       "      <td>3.0</td>\n",
       "      <td>2015-02-03 21:21:45</td>\n",
       "      <td>2015-02-03 22:13:00</td>\n",
       "      <td>5477</td>\n",
       "      <td>6900</td>\n",
       "      <td>1.0</td>\n",
       "      <td>1.0</td>\n",
       "      <td>2.0</td>\n",
       "      <td>289.0</td>\n",
       "      <td>3075.0</td>\n",
       "      <td>51.250000</td>\n",
       "    </tr>\n",
       "    <tr>\n",
       "      <th>4</th>\n",
       "      <td>3.0</td>\n",
       "      <td>2015-02-15 02:40:36</td>\n",
       "      <td>2015-02-15 03:20:26</td>\n",
       "      <td>5477</td>\n",
       "      <td>3900</td>\n",
       "      <td>6.0</td>\n",
       "      <td>6.0</td>\n",
       "      <td>9.0</td>\n",
       "      <td>650.0</td>\n",
       "      <td>2390.0</td>\n",
       "      <td>39.833333</td>\n",
       "    </tr>\n",
       "  </tbody>\n",
       "</table>\n",
       "</div>"
      ],
      "text/plain": [
       "   market_id          created_at actual_delivery_time  store_id  subtotal  \\\n",
       "0        1.0 2015-02-06 22:24:17  2015-02-06 23:27:16      1845      3441   \n",
       "1        2.0 2015-02-10 21:49:25  2015-02-10 22:56:29      5477      1900   \n",
       "2        3.0 2015-01-22 20:39:28  2015-01-22 21:09:09      5477      1900   \n",
       "3        3.0 2015-02-03 21:21:45  2015-02-03 22:13:00      5477      6900   \n",
       "4        3.0 2015-02-15 02:40:36  2015-02-15 03:20:26      5477      3900   \n",
       "\n",
       "   total_onshift_drivers  total_busy_drivers  total_outstanding_orders  \\\n",
       "0                   33.0                14.0                      21.0   \n",
       "1                    1.0                 2.0                       2.0   \n",
       "2                    1.0                 0.0                       0.0   \n",
       "3                    1.0                 1.0                       2.0   \n",
       "4                    6.0                 6.0                       9.0   \n",
       "\n",
       "   estimated_store_to_consumer_driving_duration  \\\n",
       "0                                         861.0   \n",
       "1                                         690.0   \n",
       "2                                         690.0   \n",
       "3                                         289.0   \n",
       "4                                         650.0   \n",
       "\n",
       "   total_delivery_duration_seconds  total_delivery_duration_minutes  \n",
       "0                           3779.0                        62.983333  \n",
       "1                           4024.0                        67.066667  \n",
       "2                           1781.0                        29.683333  \n",
       "3                           3075.0                        51.250000  \n",
       "4                           2390.0                        39.833333  "
      ]
     },
     "execution_count": 13,
     "metadata": {},
     "output_type": "execute_result"
    }
   ],
   "source": [
    "print(hist_data.shape)\n",
    "hist_data.head()"
   ]
  },
  {
   "cell_type": "code",
   "execution_count": 14,
   "metadata": {
    "colab": {
     "base_uri": "https://localhost:8080/",
     "height": 364
    },
    "id": "PGx4aZyqU5Z6",
    "outputId": "95da1ead-0a9c-474e-a6ce-92981e93d7e2"
   },
   "outputs": [
    {
     "data": {
      "text/html": [
       "<div>\n",
       "<style scoped>\n",
       "    .dataframe tbody tr th:only-of-type {\n",
       "        vertical-align: middle;\n",
       "    }\n",
       "\n",
       "    .dataframe tbody tr th {\n",
       "        vertical-align: top;\n",
       "    }\n",
       "\n",
       "    .dataframe thead th {\n",
       "        text-align: right;\n",
       "    }\n",
       "</style>\n",
       "<table border=\"1\" class=\"dataframe\">\n",
       "  <thead>\n",
       "    <tr style=\"text-align: right;\">\n",
       "      <th></th>\n",
       "      <th>market_id</th>\n",
       "      <th>store_id</th>\n",
       "      <th>subtotal</th>\n",
       "      <th>total_onshift_drivers</th>\n",
       "      <th>total_busy_drivers</th>\n",
       "      <th>total_outstanding_orders</th>\n",
       "      <th>estimated_store_to_consumer_driving_duration</th>\n",
       "      <th>total_delivery_duration_seconds</th>\n",
       "      <th>total_delivery_duration_minutes</th>\n",
       "    </tr>\n",
       "  </thead>\n",
       "  <tbody>\n",
       "    <tr>\n",
       "      <th>count</th>\n",
       "      <td>196441.000000</td>\n",
       "      <td>197428.000000</td>\n",
       "      <td>197428.000000</td>\n",
       "      <td>181166.000000</td>\n",
       "      <td>181166.000000</td>\n",
       "      <td>181166.000000</td>\n",
       "      <td>196902.000000</td>\n",
       "      <td>1.974210e+05</td>\n",
       "      <td>197421.000000</td>\n",
       "    </tr>\n",
       "    <tr>\n",
       "      <th>mean</th>\n",
       "      <td>2.978706</td>\n",
       "      <td>3530.510272</td>\n",
       "      <td>2682.331402</td>\n",
       "      <td>44.808093</td>\n",
       "      <td>41.739747</td>\n",
       "      <td>58.050065</td>\n",
       "      <td>545.358935</td>\n",
       "      <td>2.908257e+03</td>\n",
       "      <td>48.470956</td>\n",
       "    </tr>\n",
       "    <tr>\n",
       "      <th>std</th>\n",
       "      <td>1.524867</td>\n",
       "      <td>2053.496711</td>\n",
       "      <td>1823.093688</td>\n",
       "      <td>34.526783</td>\n",
       "      <td>32.145733</td>\n",
       "      <td>52.661830</td>\n",
       "      <td>219.352902</td>\n",
       "      <td>1.922961e+04</td>\n",
       "      <td>320.493482</td>\n",
       "    </tr>\n",
       "    <tr>\n",
       "      <th>min</th>\n",
       "      <td>1.000000</td>\n",
       "      <td>1.000000</td>\n",
       "      <td>0.000000</td>\n",
       "      <td>-4.000000</td>\n",
       "      <td>-5.000000</td>\n",
       "      <td>-6.000000</td>\n",
       "      <td>0.000000</td>\n",
       "      <td>1.010000e+02</td>\n",
       "      <td>1.683333</td>\n",
       "    </tr>\n",
       "    <tr>\n",
       "      <th>25%</th>\n",
       "      <td>2.000000</td>\n",
       "      <td>1686.000000</td>\n",
       "      <td>1400.000000</td>\n",
       "      <td>17.000000</td>\n",
       "      <td>15.000000</td>\n",
       "      <td>17.000000</td>\n",
       "      <td>382.000000</td>\n",
       "      <td>2.104000e+03</td>\n",
       "      <td>35.066667</td>\n",
       "    </tr>\n",
       "    <tr>\n",
       "      <th>50%</th>\n",
       "      <td>3.000000</td>\n",
       "      <td>3592.000000</td>\n",
       "      <td>2200.000000</td>\n",
       "      <td>37.000000</td>\n",
       "      <td>34.000000</td>\n",
       "      <td>41.000000</td>\n",
       "      <td>544.000000</td>\n",
       "      <td>2.660000e+03</td>\n",
       "      <td>44.333333</td>\n",
       "    </tr>\n",
       "    <tr>\n",
       "      <th>75%</th>\n",
       "      <td>4.000000</td>\n",
       "      <td>5299.000000</td>\n",
       "      <td>3395.000000</td>\n",
       "      <td>65.000000</td>\n",
       "      <td>62.000000</td>\n",
       "      <td>85.000000</td>\n",
       "      <td>702.000000</td>\n",
       "      <td>3.381000e+03</td>\n",
       "      <td>56.350000</td>\n",
       "    </tr>\n",
       "    <tr>\n",
       "      <th>max</th>\n",
       "      <td>6.000000</td>\n",
       "      <td>6987.000000</td>\n",
       "      <td>27100.000000</td>\n",
       "      <td>171.000000</td>\n",
       "      <td>154.000000</td>\n",
       "      <td>285.000000</td>\n",
       "      <td>2088.000000</td>\n",
       "      <td>8.516859e+06</td>\n",
       "      <td>141947.650000</td>\n",
       "    </tr>\n",
       "  </tbody>\n",
       "</table>\n",
       "</div>"
      ],
      "text/plain": [
       "           market_id       store_id       subtotal  total_onshift_drivers  \\\n",
       "count  196441.000000  197428.000000  197428.000000          181166.000000   \n",
       "mean        2.978706    3530.510272    2682.331402              44.808093   \n",
       "std         1.524867    2053.496711    1823.093688              34.526783   \n",
       "min         1.000000       1.000000       0.000000              -4.000000   \n",
       "25%         2.000000    1686.000000    1400.000000              17.000000   \n",
       "50%         3.000000    3592.000000    2200.000000              37.000000   \n",
       "75%         4.000000    5299.000000    3395.000000              65.000000   \n",
       "max         6.000000    6987.000000   27100.000000             171.000000   \n",
       "\n",
       "       total_busy_drivers  total_outstanding_orders  \\\n",
       "count       181166.000000             181166.000000   \n",
       "mean            41.739747                 58.050065   \n",
       "std             32.145733                 52.661830   \n",
       "min             -5.000000                 -6.000000   \n",
       "25%             15.000000                 17.000000   \n",
       "50%             34.000000                 41.000000   \n",
       "75%             62.000000                 85.000000   \n",
       "max            154.000000                285.000000   \n",
       "\n",
       "       estimated_store_to_consumer_driving_duration  \\\n",
       "count                                 196902.000000   \n",
       "mean                                     545.358935   \n",
       "std                                      219.352902   \n",
       "min                                        0.000000   \n",
       "25%                                      382.000000   \n",
       "50%                                      544.000000   \n",
       "75%                                      702.000000   \n",
       "max                                     2088.000000   \n",
       "\n",
       "       total_delivery_duration_seconds  total_delivery_duration_minutes  \n",
       "count                     1.974210e+05                    197421.000000  \n",
       "mean                      2.908257e+03                        48.470956  \n",
       "std                       1.922961e+04                       320.493482  \n",
       "min                       1.010000e+02                         1.683333  \n",
       "25%                       2.104000e+03                        35.066667  \n",
       "50%                       2.660000e+03                        44.333333  \n",
       "75%                       3.381000e+03                        56.350000  \n",
       "max                       8.516859e+06                    141947.650000  "
      ]
     },
     "execution_count": 14,
     "metadata": {},
     "output_type": "execute_result"
    }
   ],
   "source": [
    "hist_data.describe()"
   ]
  },
  {
   "cell_type": "code",
   "execution_count": 15,
   "metadata": {
    "colab": {
     "base_uri": "https://localhost:8080/"
    },
    "id": "-XrQfoyIZ5Fr",
    "outputId": "d120e437-1ec7-44d4-9b3b-93b0194c4623"
   },
   "outputs": [
    {
     "name": "stdout",
     "output_type": "stream",
     "text": [
      "<class 'pandas.core.frame.DataFrame'>\n",
      "RangeIndex: 197428 entries, 0 to 197427\n",
      "Data columns (total 11 columns):\n",
      " #   Column                                        Non-Null Count   Dtype         \n",
      "---  ------                                        --------------   -----         \n",
      " 0   market_id                                     196441 non-null  float64       \n",
      " 1   created_at                                    197428 non-null  datetime64[ns]\n",
      " 2   actual_delivery_time                          197421 non-null  datetime64[ns]\n",
      " 3   store_id                                      197428 non-null  int64         \n",
      " 4   subtotal                                      197428 non-null  int64         \n",
      " 5   total_onshift_drivers                         181166 non-null  float64       \n",
      " 6   total_busy_drivers                            181166 non-null  float64       \n",
      " 7   total_outstanding_orders                      181166 non-null  float64       \n",
      " 8   estimated_store_to_consumer_driving_duration  196902 non-null  float64       \n",
      " 9   total_delivery_duration_seconds               197421 non-null  float64       \n",
      " 10  total_delivery_duration_minutes               197421 non-null  float64       \n",
      "dtypes: datetime64[ns](2), float64(7), int64(2)\n",
      "memory usage: 16.6 MB\n"
     ]
    }
   ],
   "source": [
    "hist_data.info()"
   ]
  },
  {
   "cell_type": "code",
   "execution_count": 16,
   "metadata": {
    "colab": {
     "base_uri": "https://localhost:8080/"
    },
    "id": "ofmGEPvjaC5G",
    "outputId": "38271cae-cbfa-45da-8c94-508fafadd201"
   },
   "outputs": [
    {
     "name": "stdout",
     "output_type": "stream",
     "text": [
      "market_id                                       0.004999\n",
      "created_at                                      0.000000\n",
      "actual_delivery_time                            0.000035\n",
      "store_id                                        0.000000\n",
      "subtotal                                        0.000000\n",
      "total_onshift_drivers                           0.082369\n",
      "total_busy_drivers                              0.082369\n",
      "total_outstanding_orders                        0.082369\n",
      "estimated_store_to_consumer_driving_duration    0.002664\n",
      "total_delivery_duration_seconds                 0.000035\n",
      "total_delivery_duration_minutes                 0.000035\n",
      "dtype: float64\n"
     ]
    }
   ],
   "source": [
    "# Percentage of missing values in each column\n",
    "print(hist_data.isna().sum()/len(hist_data))"
   ]
  },
  {
   "cell_type": "code",
   "execution_count": 17,
   "metadata": {
    "colab": {
     "base_uri": "https://localhost:8080/"
    },
    "id": "v875_lZ-aTRo",
    "outputId": "9edaddb5-bc5c-4d42-8003-27612e4386d4"
   },
   "outputs": [
    {
     "data": {
      "text/plain": [
       "market_id                                            6\n",
       "created_at                                      180985\n",
       "actual_delivery_time                            178110\n",
       "store_id                                          6743\n",
       "subtotal                                          8368\n",
       "total_onshift_drivers                              172\n",
       "total_busy_drivers                                 159\n",
       "total_outstanding_orders                           281\n",
       "estimated_store_to_consumer_driving_duration      1336\n",
       "total_delivery_duration_seconds                   7134\n",
       "total_delivery_duration_minutes                   7134\n",
       "dtype: int64"
      ]
     },
     "execution_count": 17,
     "metadata": {},
     "output_type": "execute_result"
    }
   ],
   "source": [
    "# Number of unique values per column\n",
    "hist_data.nunique()"
   ]
  },
  {
   "cell_type": "code",
   "execution_count": 18,
   "metadata": {
    "colab": {
     "base_uri": "https://localhost:8080/",
     "height": 879
    },
    "id": "P3_UT1T4cSp-",
    "outputId": "851d6a65-ff62-45c6-ac21-1534c751bd9a"
   },
   "outputs": [
    {
     "data": {
      "image/png": "[encoded data removed]",
      "text/plain": [
       "<Figure size 720x1080 with 12 Axes>"
      ]
     },
     "metadata": {
      "needs_background": "light"
     },
     "output_type": "display_data"
    }
   ],
   "source": [
    "# Univariate distributions of all numerical columns\n",
    "_ = hist_data.hist(bins=50, figsize=(10,15))"
   ]
  },
  {
   "cell_type": "markdown",
   "metadata": {
    "id": "qEbcxOEUHuwq"
   },
   "source": [
    "Since the default matplotlib hist function did not produce interesting visualizations for our target variable, we will create our own using Seaborn."
   ]
  },
  {
   "cell_type": "code",
   "execution_count": 19,
   "metadata": {
    "colab": {
     "base_uri": "https://localhost:8080/",
     "height": 456
    },
    "id": "K6F9kW9BHqSg",
    "outputId": "21c3708d-6ea3-4c55-8291-3f90a405aed6"
   },
   "outputs": [
    {
     "data": {
      "text/plain": [
       "[Text(0.5, 0, 'Actual delivery duration (minutes)'),\n",
       " Text(0, 0.5, ''),\n",
       " Text(0.5, 1.0, 'Delivery Duration Histogram')]"
      ]
     },
     "execution_count": 19,
     "metadata": {},
     "output_type": "execute_result"
    },
    {
     "data": {
      "image/png": "[encoded data removed]",
      "text/plain": [
       "<Figure size 576x432 with 1 Axes>"
      ]
     },
     "metadata": {},
     "output_type": "display_data"
    }
   ],
   "source": [
    "# Visualization distribution of delivery duration minutes\n",
    "sns.set_style('darkgrid')\n",
    "sns.set_palette('pastel')\n",
    "fig, ax = plt.subplots(figsize=(8,6))\n",
    "ax = sns.histplot(x='total_delivery_duration_minutes', data=hist_data, bins=[x * 2 for x in range(0,81)], kde=False)\n",
    "ax.set(xlabel='Actual delivery duration (minutes)', ylabel='', title='Delivery Duration Histogram')"
   ]
  },
  {
   "cell_type": "markdown",
   "metadata": {
    "id": "YclNR2rfHp6u"
   },
   "source": [
    "As we can see above, this a long-tailed distribution. While we know from the *describe* function we called a few cells preceding that 75% of all deliveries are faster than 56 minutes, we can see that there are a fair amount of deliveries exceeding this number. These long-tail events might make our prediction task more difficult, but they are part of the business reality of food deliveries. This means that unlike outliers, we cannot delete them.\n",
    "\n",
    "We will now investigate the presence of actual outliers. For this, we will use the interquartile range (IQR) method for detecting outliers and classify as outliers any observations below 1.5 * IQR * Q1 and above 1.5 * IQR * Q3."
   ]
  },
  {
   "cell_type": "code",
   "execution_count": 20,
   "metadata": {
    "id": "rkNaYv5uJsDx"
   },
   "outputs": [],
   "source": [
    "q25 = hist_data['total_delivery_duration_seconds'].quantile(0.25)\n",
    "q75 = hist_data['total_delivery_duration_seconds'].quantile(0.75)\n",
    "iqr = q75 - q25"
   ]
  },
  {
   "cell_type": "code",
   "execution_count": 21,
   "metadata": {
    "colab": {
     "base_uri": "https://localhost:8080/"
    },
    "id": "Pii2F9tkKVUx",
    "outputId": "f39d84dc-85ae-4f6f-b55c-f85e1a7a3436"
   },
   "outputs": [
    {
     "name": "stdout",
     "output_type": "stream",
     "text": [
      "188.5 5296.5\n"
     ]
    }
   ],
   "source": [
    "# Printing outlier thresholds according to IQR method\n",
    "print(q25 - 1.5*iqr, q75 + 1.5*iqr)"
   ]
  },
  {
   "cell_type": "code",
   "execution_count": 22,
   "metadata": {
    "colab": {
     "base_uri": "https://localhost:8080/"
    },
    "id": "FUNR7paXKYzR",
    "outputId": "52e20515-c5a4-4340-960c-111d396f9de4"
   },
   "outputs": [
    {
     "name": "stdout",
     "output_type": "stream",
     "text": [
      "There are 6278 outliers, corresponding to 3.18% of overall data.\n"
     ]
    }
   ],
   "source": [
    "# Calculating number of outliers\n",
    "hist_data['is_outlier'] = False\n",
    "hist_data.loc[hist_data['total_delivery_duration_seconds'] > (q75+1.5*iqr), 'is_outlier'] = True\n",
    "hist_data.loc[hist_data['total_delivery_duration_seconds'] < (q25-1.5*iqr), 'is_outlier'] = True\n",
    "outlier_count = len(hist_data[hist_data['is_outlier'] == True])\n",
    "outlier_pct = len(hist_data[hist_data['is_outlier'] == True])/len(hist_data)\n",
    "print(f'There are {outlier_count} outliers, corresponding to {round(outlier_pct*100, 3)}% of overall data.')"
   ]
  },
  {
   "cell_type": "markdown",
   "metadata": {
    "id": "127dhr-HLwwn"
   },
   "source": [
    "So, through the IQR method we have found that deliveries shorter than ~3 minutes and longer than ~89 minutes are outliers. These only account for a small portion of our data. Therefore, we can go ahead and delete them without any major information loss concerns. Our models will be trained on realistic delivery time windows we might expect to see on a daily basis, while continuing to be robust to long-tail events."
   ]
  },
  {
   "cell_type": "code",
   "execution_count": 23,
   "metadata": {
    "colab": {
     "base_uri": "https://localhost:8080/"
    },
    "id": "8lbM3GCpNhfn",
    "outputId": "cb204e42-56a3-4606-ff85-f825990ab25d"
   },
   "outputs": [],
   "source": [
    "# Deleting outliers\n",
    "hist_data = hist_data[hist_data['is_outlier'] == False]\n",
    "hist_data.drop(columns=['is_outlier', 'total_delivery_duration_minutes'], inplace=True)\n"
   ]
  },
  {
   "cell_type": "code",
   "execution_count": 24,
   "metadata": {
    "colab": {
     "base_uri": "https://localhost:8080/",
     "height": 374
    },
    "id": "jnAp9d_PO3qI",
    "outputId": "5b9c9239-f929-44a6-f9d2-e3f73829c0ba"
   },
   "outputs": [
    {
     "name": "stdout",
     "output_type": "stream",
     "text": [
      "(191150, 10)\n"
     ]
    },
    {
     "data": {
      "text/html": [
       "<div>\n",
       "<style scoped>\n",
       "    .dataframe tbody tr th:only-of-type {\n",
       "        vertical-align: middle;\n",
       "    }\n",
       "\n",
       "    .dataframe tbody tr th {\n",
       "        vertical-align: top;\n",
       "    }\n",
       "\n",
       "    .dataframe thead th {\n",
       "        text-align: right;\n",
       "    }\n",
       "</style>\n",
       "<table border=\"1\" class=\"dataframe\">\n",
       "  <thead>\n",
       "    <tr style=\"text-align: right;\">\n",
       "      <th></th>\n",
       "      <th>market_id</th>\n",
       "      <th>created_at</th>\n",
       "      <th>actual_delivery_time</th>\n",
       "      <th>store_id</th>\n",
       "      <th>subtotal</th>\n",
       "      <th>total_onshift_drivers</th>\n",
       "      <th>total_busy_drivers</th>\n",
       "      <th>total_outstanding_orders</th>\n",
       "      <th>estimated_store_to_consumer_driving_duration</th>\n",
       "      <th>total_delivery_duration_seconds</th>\n",
       "    </tr>\n",
       "  </thead>\n",
       "  <tbody>\n",
       "    <tr>\n",
       "      <th>0</th>\n",
       "      <td>1.0</td>\n",
       "      <td>2015-02-06 22:24:17</td>\n",
       "      <td>2015-02-06 23:27:16</td>\n",
       "      <td>1845</td>\n",
       "      <td>3441</td>\n",
       "      <td>33.0</td>\n",
       "      <td>14.0</td>\n",
       "      <td>21.0</td>\n",
       "      <td>861.0</td>\n",
       "      <td>3779.0</td>\n",
       "    </tr>\n",
       "    <tr>\n",
       "      <th>1</th>\n",
       "      <td>2.0</td>\n",
       "      <td>2015-02-10 21:49:25</td>\n",
       "      <td>2015-02-10 22:56:29</td>\n",
       "      <td>5477</td>\n",
       "      <td>1900</td>\n",
       "      <td>1.0</td>\n",
       "      <td>2.0</td>\n",
       "      <td>2.0</td>\n",
       "      <td>690.0</td>\n",
       "      <td>4024.0</td>\n",
       "    </tr>\n",
       "    <tr>\n",
       "      <th>2</th>\n",
       "      <td>3.0</td>\n",
       "      <td>2015-01-22 20:39:28</td>\n",
       "      <td>2015-01-22 21:09:09</td>\n",
       "      <td>5477</td>\n",
       "      <td>1900</td>\n",
       "      <td>1.0</td>\n",
       "      <td>0.0</td>\n",
       "      <td>0.0</td>\n",
       "      <td>690.0</td>\n",
       "      <td>1781.0</td>\n",
       "    </tr>\n",
       "    <tr>\n",
       "      <th>3</th>\n",
       "      <td>3.0</td>\n",
       "      <td>2015-02-03 21:21:45</td>\n",
       "      <td>2015-02-03 22:13:00</td>\n",
       "      <td>5477</td>\n",
       "      <td>6900</td>\n",
       "      <td>1.0</td>\n",
       "      <td>1.0</td>\n",
       "      <td>2.0</td>\n",
       "      <td>289.0</td>\n",
       "      <td>3075.0</td>\n",
       "    </tr>\n",
       "    <tr>\n",
       "      <th>4</th>\n",
       "      <td>3.0</td>\n",
       "      <td>2015-02-15 02:40:36</td>\n",
       "      <td>2015-02-15 03:20:26</td>\n",
       "      <td>5477</td>\n",
       "      <td>3900</td>\n",
       "      <td>6.0</td>\n",
       "      <td>6.0</td>\n",
       "      <td>9.0</td>\n",
       "      <td>650.0</td>\n",
       "      <td>2390.0</td>\n",
       "    </tr>\n",
       "  </tbody>\n",
       "</table>\n",
       "</div>"
      ],
      "text/plain": [
       "   market_id          created_at actual_delivery_time  store_id  subtotal  \\\n",
       "0        1.0 2015-02-06 22:24:17  2015-02-06 23:27:16      1845      3441   \n",
       "1        2.0 2015-02-10 21:49:25  2015-02-10 22:56:29      5477      1900   \n",
       "2        3.0 2015-01-22 20:39:28  2015-01-22 21:09:09      5477      1900   \n",
       "3        3.0 2015-02-03 21:21:45  2015-02-03 22:13:00      5477      6900   \n",
       "4        3.0 2015-02-15 02:40:36  2015-02-15 03:20:26      5477      3900   \n",
       "\n",
       "   total_onshift_drivers  total_busy_drivers  total_outstanding_orders  \\\n",
       "0                   33.0                14.0                      21.0   \n",
       "1                    1.0                 2.0                       2.0   \n",
       "2                    1.0                 0.0                       0.0   \n",
       "3                    1.0                 1.0                       2.0   \n",
       "4                    6.0                 6.0                       9.0   \n",
       "\n",
       "   estimated_store_to_consumer_driving_duration  \\\n",
       "0                                         861.0   \n",
       "1                                         690.0   \n",
       "2                                         690.0   \n",
       "3                                         289.0   \n",
       "4                                         650.0   \n",
       "\n",
       "   total_delivery_duration_seconds  \n",
       "0                           3779.0  \n",
       "1                           4024.0  \n",
       "2                           1781.0  \n",
       "3                           3075.0  \n",
       "4                           2390.0  "
      ]
     },
     "execution_count": 24,
     "metadata": {},
     "output_type": "execute_result"
    }
   ],
   "source": [
    "print(hist_data.shape)\n",
    "hist_data.head()"
   ]
  },
  {
   "cell_type": "markdown",
   "metadata": {
    "id": "3_GHzLoMNUzd"
   },
   "source": [
    "Finally, let's use the missingno library to detect whether there is any selection bias in our missing values."
   ]
  },
  {
   "cell_type": "code",
   "execution_count": 25,
   "metadata": {
    "colab": {
     "base_uri": "https://localhost:8080/",
     "height": 922
    },
    "id": "TLJrxRlHcbyG",
    "outputId": "7a7a70d2-a328-4dee-9b21-cc8318cbad8c"
   },
   "outputs": [
    {
     "data": {
      "image/png": "[encoded data removed]",
      "text/plain": [
       "<Figure size 1728x720 with 3 Axes>"
      ]
     },
     "metadata": {},
     "output_type": "display_data"
    }
   ],
   "source": [
    "import missingno as msno\n",
    "_ = msno.bar(hist_data)"
   ]
  },
  {
   "cell_type": "code",
   "execution_count": 26,
   "metadata": {
    "colab": {
     "base_uri": "https://localhost:8080/",
     "height": 975
    },
    "id": "U-TNVG4I8clj",
    "outputId": "b9f9ad57-1292-490d-8f07-a22424137987"
   },
   "outputs": [
    {
     "data": {
      "image/png": "[encoded data removed]",
      "text/plain": [
       "<Figure size 1440x864 with 2 Axes>"
      ]
     },
     "metadata": {},
     "output_type": "display_data"
    }
   ],
   "source": [
    "_ = msno.heatmap(hist_data)"
   ]
  },
  {
   "cell_type": "markdown",
   "metadata": {
    "id": "wgobYtnu4YBr"
   },
   "source": [
    "From the visualizations above, there is no missingness correlation between the columns, so we can reasonably assume that there is not selection bias when it comes to missing values. We will delete the 7 rows where the target variable is missing for now. Later, we will impute missing values for the features with 0s as part of our pipeline."
   ]
  },
  {
   "cell_type": "code",
   "execution_count": 27,
   "metadata": {
    "colab": {
     "base_uri": "https://localhost:8080/"
    },
    "id": "iKaVeIBw3a1j",
    "outputId": "0a58badc-41ae-4cda-ce2e-d83a698a1b96"
   },
   "outputs": [
    {
     "data": {
      "text/plain": [
       "7"
      ]
     },
     "execution_count": 27,
     "metadata": {},
     "output_type": "execute_result"
    }
   ],
   "source": [
    "hist_data['total_delivery_duration_seconds'].isna().sum()"
   ]
  },
  {
   "cell_type": "code",
   "execution_count": 28,
   "metadata": {
    "id": "zGGVfxQ93uKy"
   },
   "outputs": [],
   "source": [
    "hist_data.dropna(subset=['total_delivery_duration_seconds'], inplace=True)"
   ]
  },
  {
   "cell_type": "code",
   "execution_count": 29,
   "metadata": {
    "colab": {
     "base_uri": "https://localhost:8080/"
    },
    "id": "q9QTq6524BfK",
    "outputId": "9b5a9944-4f4e-43c7-de8f-97cdc151a75d"
   },
   "outputs": [
    {
     "data": {
      "text/plain": [
       "market_id                                         955\n",
       "created_at                                          0\n",
       "actual_delivery_time                                0\n",
       "store_id                                            0\n",
       "subtotal                                            0\n",
       "total_onshift_drivers                           15713\n",
       "total_busy_drivers                              15713\n",
       "total_outstanding_orders                        15713\n",
       "estimated_store_to_consumer_driving_duration      519\n",
       "total_delivery_duration_seconds                     0\n",
       "dtype: int64"
      ]
     },
     "execution_count": 29,
     "metadata": {},
     "output_type": "execute_result"
    }
   ],
   "source": [
    "hist_data.isna().sum()"
   ]
  },
  {
   "cell_type": "markdown",
   "metadata": {
    "id": "NBX15L738sb9"
   },
   "source": [
    "At this stage, we will split our data into train and test sets. We will then perform the rest of our EDA using only the train set in order to avoid any data snooping bias.\n",
    "\n"
   ]
  },
  {
   "cell_type": "code",
   "execution_count": 30,
   "metadata": {
    "id": "VBQTykqMAgLg"
   },
   "outputs": [],
   "source": [
    "from sklearn.model_selection import train_test_split\n",
    "train_set, test_set = train_test_split(hist_data, test_size=0.2, random_state=42)"
   ]
  },
  {
   "cell_type": "markdown",
   "metadata": {
    "id": "WxvfbZm-PWZQ"
   },
   "source": [
    "Our last 2 EDA steps, using only the train set, will be to examine feature correlations and attempt to build features that are more highly correlated with the target variable."
   ]
  },
  {
   "cell_type": "code",
   "execution_count": 31,
   "metadata": {
    "id": "D6nxNH01XtlW"
   },
   "outputs": [],
   "source": [
    "# Copying train set for further EDA\n",
    "deliveries = train_set.copy()"
   ]
  },
  {
   "cell_type": "code",
   "execution_count": 32,
   "metadata": {
    "colab": {
     "base_uri": "https://localhost:8080/"
    },
    "id": "LEeOjXBAPEy1",
    "outputId": "2c695c96-387a-4e79-c3d5-009da81f4228"
   },
   "outputs": [
    {
     "data": {
      "text/plain": [
       "total_delivery_duration_seconds                 1.000000\n",
       "estimated_store_to_consumer_driving_duration    0.256387\n",
       "subtotal                                        0.235084\n",
       "total_outstanding_orders                        0.225303\n",
       "total_busy_drivers                              0.137001\n",
       "total_onshift_drivers                           0.116904\n",
       "store_id                                       -0.008233\n",
       "market_id                                      -0.035966\n",
       "Name: total_delivery_duration_seconds, dtype: float64"
      ]
     },
     "execution_count": 32,
     "metadata": {},
     "output_type": "execute_result"
    }
   ],
   "source": [
    "# Examining correlations\n",
    "corr_matrix = deliveries.corr()\n",
    "corr_matrix['total_delivery_duration_seconds'].sort_values(ascending=False)"
   ]
  },
  {
   "cell_type": "markdown",
   "metadata": {
    "id": "Dvs7HT42TTuN"
   },
   "source": [
    "### Feature engineering  \n",
    "\n",
    "Let's try to create other measures of marketplace health - *available_drivers*, *outstanding_orders_per_dasher* and *outstanding_orders_per_avail_driver* and see how our correlations look afterward."
   ]
  },
  {
   "cell_type": "code",
   "execution_count": 34,
   "metadata": {
    "id": "ypTTm--QTCsr"
   },
   "outputs": [],
   "source": [
    "deliveries['avail_drivers'] = deliveries['total_onshift_drivers'] - deliveries['total_busy_drivers']\n",
    "deliveries['outstanding_orders_per_driver'] = deliveries['total_outstanding_orders']/deliveries['total_onshift_drivers']\n",
    "deliveries['outstanding_orders_per_avail_driver'] = deliveries['total_outstanding_orders']/deliveries['avail_drivers']"
   ]
  },
  {
   "cell_type": "code",
   "execution_count": 35,
   "metadata": {
    "colab": {
     "base_uri": "https://localhost:8080/"
    },
    "id": "YwJEIMG_T8yR",
    "outputId": "15f3dfc4-c9fc-4a0c-cf4e-78f6762a1087"
   },
   "outputs": [
    {
     "data": {
      "text/plain": [
       "total_delivery_duration_seconds                 1.000000\n",
       "outstanding_orders_per_driver                   0.334395\n",
       "estimated_store_to_consumer_driving_duration    0.256387\n",
       "subtotal                                        0.235084\n",
       "total_outstanding_orders                        0.225303\n",
       "total_busy_drivers                              0.137001\n",
       "total_onshift_drivers                           0.116904\n",
       "outstanding_orders_per_avail_driver             0.060141\n",
       "store_id                                       -0.008233\n",
       "avail_drivers                                  -0.031456\n",
       "market_id                                      -0.035966\n",
       "Name: total_delivery_duration_seconds, dtype: float64"
      ]
     },
     "execution_count": 35,
     "metadata": {},
     "output_type": "execute_result"
    }
   ],
   "source": [
    "corr_matrix = deliveries.corr()\n",
    "corr_matrix['total_delivery_duration_seconds'].sort_values(ascending=False)"
   ]
  },
  {
   "cell_type": "markdown",
   "metadata": {
    "id": "6iHObgUCVD-q"
   },
   "source": [
    "Great! Our new feature, *outstanding_orders_per_driver* actually has the highest correlation with the target variable. Lastly, before deciding what features to keep, let's examine all correlations and remove any correlated features."
   ]
  },
  {
   "cell_type": "code",
   "execution_count": 36,
   "metadata": {
    "colab": {
     "base_uri": "https://localhost:8080/",
     "height": 496
    },
    "id": "NvvEUfBQUBNJ",
    "outputId": "69ef4b90-d25a-4d58-aea7-61c689ea17b6"
   },
   "outputs": [
    {
     "data": {
      "image/png": "[encoded data removed]",
      "text/plain": [
       "<Figure size 432x288 with 2 Axes>"
      ]
     },
     "metadata": {},
     "output_type": "display_data"
    }
   ],
   "source": [
    "_ = sns.heatmap(data = corr_matrix, xticklabels=corr_matrix.columns, yticklabels=corr_matrix.columns)"
   ]
  },
  {
   "cell_type": "markdown",
   "metadata": {
    "id": "77BSOhtkW6Hs"
   },
   "source": [
    "Based on the data above, we will drop the original column *total_onshift_drivers*, since it is highly correlated with two other features which themselves have a higher correlation with the target variable.  \n",
    "\n",
    "We will also not include our two other engineered features, *avail_drivers* and *outstanding_orders_per_avail_driver*, in the final dataset for modeling. This is due to their low explanatory power and in order to simplify our model and its computations."
   ]
  },
  {
   "cell_type": "code",
   "execution_count": 38,
   "metadata": {
    "id": "fsF0TbFFYarc"
   },
   "outputs": [],
   "source": [
    "deliveries.drop(columns=['total_onshift_drivers', 'avail_drivers', 'outstanding_orders_per_avail_driver'], inplace=True)"
   ]
  },
  {
   "cell_type": "code",
   "execution_count": 39,
   "metadata": {
    "colab": {
     "base_uri": "https://localhost:8080/"
    },
    "id": "6IO2uG1LYHzY",
    "outputId": "a9a7bc7b-07f0-4a8e-aff9-45e2ffc1737a"
   },
   "outputs": [
    {
     "data": {
      "text/plain": [
       "(152914, 10)"
      ]
     },
     "execution_count": 39,
     "metadata": {},
     "output_type": "execute_result"
    }
   ],
   "source": [
    "deliveries.shape"
   ]
  },
  {
   "cell_type": "markdown",
   "metadata": {
    "id": "LUkRNSzVWl-U"
   },
   "source": [
    "## Data Preparation\n",
    "\n",
    "We will now perform the actual transformations needed to feed our data into machine learning algorithms. This will include many of the steps we already performed above, including engineering the target variable and additional tweaks to the raw data, such as making the necessary type conversions, etc.  \n",
    "\n",
    "However, instead of transforming this data manually, we will follow industry best practices and create tranformation Pipelines so that we can easily perform the same operations on new real-world data when needed.  \n",
    "\n",
    "In addition to out-of-the-box Scikit-learn transformers for simpler and more general operations, such as scaling and imputation, we will need transformers that will handle the specific intricacies of this dataset. For example, we need a transformer that will engineer the *total_delivery_duration_seconds* column from the original date columns. For this, we will create new custom transformer objects to insert in our Scikit-learn pipeline.  \n"
   ]
  },
  {
   "cell_type": "markdown",
   "metadata": {
    "id": "jMxrlhwSbM9n"
   },
   "source": [
    "### Custom Transformer Creation\n",
    "\n",
    "Our first Custom Transformer will engineer our labels, i.e. delivery time. It will also remove outliers - allowing the user to set a specific upper threshold for them or the default 1.5 * IQR * Q3 - and missing values."
   ]
  },
  {
   "cell_type": "code",
   "execution_count": 40,
   "metadata": {
    "id": "dNonLXcXWjak"
   },
   "outputs": [],
   "source": [
    "from sklearn.base import BaseEstimator, TransformerMixin\n",
    "\n",
    "# Custom transformer to extract labels (delivery time) from new data\n",
    "class DeliveryTimeCalculator(BaseEstimator, TransformerMixin):\n",
    "\n",
    "\tdef __init__(self, upper_outlier_seconds = None):\n",
    "\t\tself.fixed_threshold = upper_outlier_seconds\n",
    "\n",
    "\tdef fit(self, X, y=None):\n",
    "\t\treturn self\n",
    "\n",
    "\tdef transform(self, X):\n",
    "\t\tassert isinstance(X, (pd.Series, pd.DataFrame))\n",
    "\t\tX = X.copy()\n",
    "\t\tX['created_at'] = pd.to_datetime(X['created_at'], infer_datetime_format=True)\n",
    "\t\tX['actual_delivery_time'] = pd.to_datetime(X['actual_delivery_time'], infer_datetime_format=True)\n",
    "\t\tX['total_delivery_duration_seconds'] = (X['actual_delivery_time'] - \\\n",
    "\t\t\t\t\t\t\t\t\t\t\t\t\tX['created_at']).dt.total_seconds()\n",
    "\n",
    "\t\tq25 = X['total_delivery_duration_seconds'].quantile(0.25)\n",
    "\t\tq75 = X['total_delivery_duration_seconds'].quantile(0.75)\n",
    "\t\n",
    "\t\tiqr = q75 - q25\n",
    "\n",
    "\t\tlo_threshold = q25 - 1.5 * iqr\n",
    "\n",
    "    # If upper threshold not specified, just use 1.5*IQR*Q3\n",
    "\t\tif self.fixed_threshold is None:\n",
    "\t\t\thi_threshold = q75 + 1.5 * iqr\n",
    "\t\telse:\n",
    "\t\t\thi_threshold = self.fixed_threshold\n",
    "\n",
    "\n",
    "\t\tX['is_outlier'] = False\n",
    "\t\tX.loc[X['total_delivery_duration_seconds'] > hi_threshold, 'is_outlier'] = True\n",
    "\t\tX.loc[X['total_delivery_duration_seconds'] < lo_threshold, 'is_outlier'] = True\n",
    "\t\tX = X[X['is_outlier'] == False]\n",
    "\t\tX = X.drop('is_outlier', axis=1)\n",
    "\t\tX = X.dropna(subset=['total_delivery_duration_seconds'])\n",
    "\n",
    "\t\treturn X"
   ]
  },
  {
   "cell_type": "markdown",
   "metadata": {
    "id": "U-ytHzh4g5wL"
   },
   "source": [
    "Our second and final custom transformer will implement the transformations we made to the features during EDA. The most important step here is engineering the feature *outstanding_orders_per_driver*, which we found to have the highest correlation with the target variable, and removing the original columm *total_onshift_driver* for the purposes of model parsimony. \n",
    "\n",
    "This transformer will also drop the irrelevant date features as well as the *market_id* and *store_id* columns, which are system-generated keys with little to no explanatory power. Lastly, it will also replace any negative/infinite values with NaNs for imputation later on in the pipeline."
   ]
  },
  {
   "cell_type": "code",
   "execution_count": 41,
   "metadata": {
    "id": "tQr7DrK2WjYM"
   },
   "outputs": [],
   "source": [
    "# Custom transformer to process features\n",
    "class DeliveryFeatureProcessor(BaseEstimator, TransformerMixin):\n",
    "\n",
    "\tdef __init__(self, add_outstanding_orders_per_dasher = True):\n",
    "\t\tself.add_outstanding_orders_per_dasher = add_outstanding_orders_per_dasher\n",
    "\n",
    "\tdef fit(self, X, y=None):\n",
    "\t\treturn self\n",
    "\n",
    "\tdef transform(self, X):\n",
    "\t\tassert isinstance(X, (pd.Series, pd.DataFrame))\n",
    "\t\tX = X.copy()\n",
    "\n",
    "\t\t# Dropping irrelevant features and target variable\n",
    "\t\tX.drop(columns=['market_id', 'created_at', 'actual_delivery_time', 'store_id', 'total_delivery_duration_seconds'], inplace=True)\n",
    "\n",
    "\t\tif self.add_outstanding_orders_per_dasher:\n",
    "\t\t\tX['outstanding_orders_per_driver'] = X['total_outstanding_orders']/X['total_onshift_drivers']\n",
    "\t\t\tX.drop(columns=['total_onshift_drivers'], inplace=True)\n",
    "\t \n",
    "\t \t# Printing feature names for final analysis\n",
    "\t\tprint(X.columns)\n",
    "\n",
    "\t\t# Replacing all negative and infinite values of these features with np.nan, to be \n",
    "\t\t# processed with a built-in imputer later on in the pipeline\t\n",
    "\t\tX[X < 0] = np.nan\n",
    "\t\tX[X == np.inf] = np.nan\n",
    "\n",
    "\t\treturn X"
   ]
  },
  {
   "cell_type": "markdown",
   "metadata": {
    "id": "fO9Wc-XJlPIN"
   },
   "source": [
    "### Pipeline creation\n"
   ]
  },
  {
   "cell_type": "markdown",
   "metadata": {
    "id": "V4m-OsVG9qFF"
   },
   "source": [
    "Now, we can go ahead and create the pipeline, which will use our custom *DeliveryFeatureProcessor* followed by Scikit-learn's built-in *SimpleImputer* (to replace NaNs with zeroes) and *StandardScaler* to standardize feature values."
   ]
  },
  {
   "cell_type": "code",
   "execution_count": 42,
   "metadata": {
    "id": "Lipz5ZjqnNOW"
   },
   "outputs": [],
   "source": [
    "# Sklearn built-in transformers\n",
    "from sklearn.pipeline import Pipeline\n",
    "from sklearn.preprocessing import StandardScaler\n",
    "from sklearn.impute import SimpleImputer\n",
    "from sklearn.compose import ColumnTransformer"
   ]
  },
  {
   "cell_type": "code",
   "execution_count": 43,
   "metadata": {
    "id": "fsbmpV2cnnGZ"
   },
   "outputs": [],
   "source": [
    "pipeline = Pipeline([('df_processor', DeliveryFeatureProcessor()),  \\\n",
    "                     ('imputer', SimpleImputer(strategy='constant', fill_value=0)), ('scaler', StandardScaler())])"
   ]
  },
  {
   "cell_type": "markdown",
   "metadata": {
    "id": "H6ou8TlA-oL5"
   },
   "source": [
    "The last step before modeling, therefore, is to actually transform the data. We will apply our target variable extractor on the full dataset, then separate out the target feature array, and finally apply the transformation pipeline to the features."
   ]
  },
  {
   "cell_type": "code",
   "execution_count": 44,
   "metadata": {
    "id": "oHM2oMQN_N7S"
   },
   "outputs": [],
   "source": [
    "# Resetting raw data and splitting into train/test sets\n",
    "hist_data = pd.read_csv('https://raw.githubusercontent.com/fernandopiani/food-delivery-time-prediction/main/Data/historical_data.csv?token=GHSAT0AAAAAABP5XWMH3LN2U2UGS6X5N23UYPZLQAQ')\n",
    "train_set, test_set = train_test_split(hist_data, test_size=0.2, random_state=42)"
   ]
  },
  {
   "cell_type": "code",
   "execution_count": 45,
   "metadata": {
    "id": "LWiav5OC_brp"
   },
   "outputs": [],
   "source": [
    "# Extracting target variable\n",
    "deliveries = DeliveryTimeCalculator().fit_transform(train_set)\n",
    "delivery_labels = deliveries['total_delivery_duration_seconds'].copy().to_numpy()"
   ]
  },
  {
   "cell_type": "code",
   "execution_count": 46,
   "metadata": {
    "colab": {
     "base_uri": "https://localhost:8080/"
    },
    "id": "aSCwE-tIBJAp",
    "outputId": "3d09070a-c69f-44a5-ab78-0a07d21fb9de"
   },
   "outputs": [
    {
     "name": "stdout",
     "output_type": "stream",
     "text": [
      "<class 'pandas.core.frame.DataFrame'>\n",
      "Int64Index: 152926 entries, 178523 to 121958\n",
      "Data columns (total 10 columns):\n",
      " #   Column                                        Non-Null Count   Dtype         \n",
      "---  ------                                        --------------   -----         \n",
      " 0   market_id                                     152160 non-null  float64       \n",
      " 1   created_at                                    152926 non-null  datetime64[ns]\n",
      " 2   actual_delivery_time                          152926 non-null  datetime64[ns]\n",
      " 3   store_id                                      152926 non-null  int64         \n",
      " 4   subtotal                                      152926 non-null  int64         \n",
      " 5   total_onshift_drivers                         140334 non-null  float64       \n",
      " 6   total_busy_drivers                            140334 non-null  float64       \n",
      " 7   total_outstanding_orders                      140334 non-null  float64       \n",
      " 8   estimated_store_to_consumer_driving_duration  152507 non-null  float64       \n",
      " 9   total_delivery_duration_seconds               152926 non-null  float64       \n",
      "dtypes: datetime64[ns](2), float64(6), int64(2)\n",
      "memory usage: 12.8 MB\n"
     ]
    }
   ],
   "source": [
    "deliveries.info()"
   ]
  },
  {
   "cell_type": "code",
   "execution_count": 47,
   "metadata": {
    "colab": {
     "base_uri": "https://localhost:8080/",
     "height": 357
    },
    "id": "mmItSNGis3E-",
    "outputId": "cf320058-22aa-4fb6-8032-d2b28decb2b2"
   },
   "outputs": [
    {
     "data": {
      "text/html": [
       "<div>\n",
       "<style scoped>\n",
       "    .dataframe tbody tr th:only-of-type {\n",
       "        vertical-align: middle;\n",
       "    }\n",
       "\n",
       "    .dataframe tbody tr th {\n",
       "        vertical-align: top;\n",
       "    }\n",
       "\n",
       "    .dataframe thead th {\n",
       "        text-align: right;\n",
       "    }\n",
       "</style>\n",
       "<table border=\"1\" class=\"dataframe\">\n",
       "  <thead>\n",
       "    <tr style=\"text-align: right;\">\n",
       "      <th></th>\n",
       "      <th>market_id</th>\n",
       "      <th>created_at</th>\n",
       "      <th>actual_delivery_time</th>\n",
       "      <th>store_id</th>\n",
       "      <th>subtotal</th>\n",
       "      <th>total_onshift_drivers</th>\n",
       "      <th>total_busy_drivers</th>\n",
       "      <th>total_outstanding_orders</th>\n",
       "      <th>estimated_store_to_consumer_driving_duration</th>\n",
       "      <th>total_delivery_duration_seconds</th>\n",
       "    </tr>\n",
       "  </thead>\n",
       "  <tbody>\n",
       "    <tr>\n",
       "      <th>178523</th>\n",
       "      <td>3.0</td>\n",
       "      <td>2015-02-10 02:25:28</td>\n",
       "      <td>2015-02-10 03:09:01</td>\n",
       "      <td>1659</td>\n",
       "      <td>1298</td>\n",
       "      <td>0.0</td>\n",
       "      <td>0.0</td>\n",
       "      <td>0.0</td>\n",
       "      <td>821.0</td>\n",
       "      <td>2613.0</td>\n",
       "    </tr>\n",
       "    <tr>\n",
       "      <th>89414</th>\n",
       "      <td>4.0</td>\n",
       "      <td>2015-01-23 04:23:13</td>\n",
       "      <td>2015-01-23 05:01:12</td>\n",
       "      <td>3748</td>\n",
       "      <td>1690</td>\n",
       "      <td>78.0</td>\n",
       "      <td>64.0</td>\n",
       "      <td>75.0</td>\n",
       "      <td>406.0</td>\n",
       "      <td>2279.0</td>\n",
       "    </tr>\n",
       "    <tr>\n",
       "      <th>94190</th>\n",
       "      <td>1.0</td>\n",
       "      <td>2015-01-24 03:33:32</td>\n",
       "      <td>2015-01-24 04:03:35</td>\n",
       "      <td>6750</td>\n",
       "      <td>3300</td>\n",
       "      <td>63.0</td>\n",
       "      <td>66.0</td>\n",
       "      <td>90.0</td>\n",
       "      <td>296.0</td>\n",
       "      <td>1803.0</td>\n",
       "    </tr>\n",
       "    <tr>\n",
       "      <th>136117</th>\n",
       "      <td>5.0</td>\n",
       "      <td>2015-02-17 00:25:38</td>\n",
       "      <td>2015-02-17 01:14:22</td>\n",
       "      <td>6456</td>\n",
       "      <td>3029</td>\n",
       "      <td>23.0</td>\n",
       "      <td>15.0</td>\n",
       "      <td>15.0</td>\n",
       "      <td>773.0</td>\n",
       "      <td>2924.0</td>\n",
       "    </tr>\n",
       "    <tr>\n",
       "      <th>53337</th>\n",
       "      <td>4.0</td>\n",
       "      <td>2015-01-26 01:19:16</td>\n",
       "      <td>2015-01-26 02:24:02</td>\n",
       "      <td>6889</td>\n",
       "      <td>3390</td>\n",
       "      <td>71.0</td>\n",
       "      <td>98.0</td>\n",
       "      <td>91.0</td>\n",
       "      <td>758.0</td>\n",
       "      <td>3886.0</td>\n",
       "    </tr>\n",
       "  </tbody>\n",
       "</table>\n",
       "</div>"
      ],
      "text/plain": [
       "        market_id          created_at actual_delivery_time  store_id  \\\n",
       "178523        3.0 2015-02-10 02:25:28  2015-02-10 03:09:01      1659   \n",
       "89414         4.0 2015-01-23 04:23:13  2015-01-23 05:01:12      3748   \n",
       "94190         1.0 2015-01-24 03:33:32  2015-01-24 04:03:35      6750   \n",
       "136117        5.0 2015-02-17 00:25:38  2015-02-17 01:14:22      6456   \n",
       "53337         4.0 2015-01-26 01:19:16  2015-01-26 02:24:02      6889   \n",
       "\n",
       "        subtotal  total_onshift_drivers  total_busy_drivers  \\\n",
       "178523      1298                    0.0                 0.0   \n",
       "89414       1690                   78.0                64.0   \n",
       "94190       3300                   63.0                66.0   \n",
       "136117      3029                   23.0                15.0   \n",
       "53337       3390                   71.0                98.0   \n",
       "\n",
       "        total_outstanding_orders  \\\n",
       "178523                       0.0   \n",
       "89414                       75.0   \n",
       "94190                       90.0   \n",
       "136117                      15.0   \n",
       "53337                       91.0   \n",
       "\n",
       "        estimated_store_to_consumer_driving_duration  \\\n",
       "178523                                         821.0   \n",
       "89414                                          406.0   \n",
       "94190                                          296.0   \n",
       "136117                                         773.0   \n",
       "53337                                          758.0   \n",
       "\n",
       "        total_delivery_duration_seconds  \n",
       "178523                           2613.0  \n",
       "89414                            2279.0  \n",
       "94190                            1803.0  \n",
       "136117                           2924.0  \n",
       "53337                            3886.0  "
      ]
     },
     "execution_count": 47,
     "metadata": {},
     "output_type": "execute_result"
    }
   ],
   "source": [
    "deliveries.head()"
   ]
  },
  {
   "cell_type": "code",
   "execution_count": 48,
   "metadata": {
    "colab": {
     "base_uri": "https://localhost:8080/"
    },
    "id": "r_eNvLGXAOB9",
    "outputId": "31b2aa1c-9f4f-4c9f-ec09-af1343882488"
   },
   "outputs": [
    {
     "name": "stdout",
     "output_type": "stream",
     "text": [
      "Index(['subtotal', 'total_busy_drivers', 'total_outstanding_orders',\n",
      "       'estimated_store_to_consumer_driving_duration',\n",
      "       'outstanding_orders_per_driver'],\n",
      "      dtype='object')\n"
     ]
    }
   ],
   "source": [
    "# Transforming features for modeling\n",
    "deliveries_transformed = pipeline.fit_transform(deliveries)"
   ]
  },
  {
   "cell_type": "markdown",
   "metadata": {
    "id": "Kos-6NAiBorU"
   },
   "source": [
    "# Modeling\n",
    "\n",
    "## Notes on Algorithm Selection\n",
    "\n",
    "We will now proceed to the modeling and evaluation stage. Model choice is, of course, a critical step in any machine learning task. What is arguably even more critical, however, is making sure your model selection decisions are informed by the original problem at hand and the specific goals set by the business stakeholders.  \n",
    "\n",
    "As mentioned in the Introduction, in our case the stakeholders and subject matter experts have informed us that order lateness, i.e. underprediction, is approximately twice as harmful to customer satistfaction (and therefore to the business) as overpredictions.  \n",
    "\n",
    "For a data scientist, this means we need to adjust our loss function. As a reminder, loss/cost functions model the \"price paid\" for inaccurate predictions - machine learning algorithms seek to minimize this number when trained. This function is usually symmetric, meaning that a positive residual (i.e. underprediction) and a negative one (i.e. overprediction) with the same absolute value, e.g. +7 and -7, are weighed equally during optimization. For our case, however, we know that underpredictions should be weighed twice more.\n",
    "\n",
    "Unfortunately, many popular ML libraries only have symmetric loss functions built-in and make it quite difficult to create custom functions (or, in some cases, the algorithm's structure itself is not conducive to such tweaks), as we'll need to do in order to make ours asymmetric. This limits the number of models and libraries we can use in this project.\n",
    "\n",
    "Fortunately, the powerful and efficient [LightGBM](https://lightgbm.readthedocs.io/en/latest/) gradient boosting library created by Microsoft does enable simple incorporation of custom loss functions. Moreover, the high-level deep learning API [Keras](https://keras.io/api/) also provides this functionality. For these reasons, we will compare and contrast the performance of these two libraries and their algorithms (i.e. gradient boosting vs. neural networks) on this dataset."
   ]
  },
  {
   "cell_type": "markdown",
   "metadata": {
    "id": "VrgO1J8ZH7t5"
   },
   "source": [
    "### LightGBM approach\n",
    "\n",
    "Let us first test out LightGBM's performance on this dataset, including evaluation after some light hyperparameter tuning, before moving on to Keras.  \n",
    "\n",
    "Before we begin, we will create our custom loss function to weigh underpredictions twice as much as overpredictions.  \n",
    "\n",
    "**Note**: each loss function created in this project follows the same asymmetric logic of weighing underpredictions more; however, their syntax and implementation may differ due to the requirements of each individual API we are working with. For more detail, please see the general LightGBM and Keras API docs linked above as well as this documentation for Scikit-learn's [*make_scorer*](https://scikit-learn.org/stable/modules/generated/sklearn.metrics.make_scorer.html) wrapper."
   ]
  },
  {
   "cell_type": "markdown",
   "metadata": {},
   "source": [
    "#### Custom loss functions for LightGBM and Scikit-learn"
   ]
  },
  {
   "cell_type": "code",
   "execution_count": null,
   "metadata": {
    "id": "c2Nd1f0gAeau"
   },
   "outputs": [],
   "source": [
    "# Custom asymmetric loss function for LightGBM\n",
    "def overpred_skewed_objective(y, pred):\n",
    "    residual = (y - pred).astype('float')\n",
    "    grad = np.where(residual < 0, -2*residual, -2*2*residual)\n",
    "    hess = np.where(residual < 0, 2, 2.0*2)\n",
    "    return grad, hess"
   ]
  },
  {
   "cell_type": "code",
   "execution_count": null,
   "metadata": {
    "id": "fnfVuunHxN6k"
   },
   "outputs": [],
   "source": [
    "# Custom asymmetric loss function for sklearn\n",
    "def overpred_skewed_loss(y, pred):\n",
    "\toverpred = np.mean(np.maximum(pred - y, 0)**2)\n",
    "\tunderpred = np.mean(np.maximum(y - pred, 0)**2)\n",
    "\tloss =  (4 * underpred)/3 + (2 * overpred)/3\n",
    "\n",
    "\treturn loss"
   ]
  },
  {
   "cell_type": "code",
   "execution_count": null,
   "metadata": {
    "id": "kOgZzq0Pxc9P"
   },
   "outputs": [],
   "source": [
    "# Importing and using sklearn wrapper to make this into a scoring function for use w/ cross_val_score\n",
    "from sklearn.metrics import make_scorer\n",
    "asym_score = make_scorer(overpred_skewed_loss, greater_is_better=False)"
   ]
  },
  {
   "cell_type": "markdown",
   "metadata": {},
   "source": [
    "We will now create a regressor scoring function using cross-validation to measure performance in our custom loss terms."
   ]
  },
  {
   "cell_type": "code",
   "execution_count": null,
   "metadata": {
    "id": "H0A8_p-0xfQQ"
   },
   "outputs": [],
   "source": [
    "def cv_regressor_custom_metrics(model, X, y, cv):\n",
    "\t\"\"\"Computes mean and std. dev. of cross-validated RMSE based on user-defined number of folds.\"\"\"\n",
    "\n",
    "\tstart = time.time()\n",
    "\n",
    "\t# Compute cross-validated scores\n",
    "\tcustom_mse = cross_val_score(model, X, y, cv=cv, scoring=asym_score, n_jobs=-1)\n",
    "\tcustom_rmse = np.sqrt(-custom_mse)\n",
    "\n",
    "\t# Print list of scores\n",
    "\tprint(f\"Mean \\\"Custom\\\" loss/asymmetric MSE computed using {cv}-fold cross-validation: {-custom_mse.mean()}\")\n",
    "\tprint(f\"Mean \\\"Custom\\\" RMSE  computed using {cv}-fold cross-validation: {custom_rmse.mean()}\")\n",
    "\tprint(f\"\\\"Custom\\\" RMSE std. deviation computed using {cv}-fold cross-validation: {custom_rmse.std()}\")\n",
    "\tprint(f\"Computation time: {time.time() - start}\")"
   ]
  },
  {
   "cell_type": "code",
   "execution_count": null,
   "metadata": {
    "id": "GZ8izQ8kxhW6"
   },
   "outputs": [],
   "source": [
    "from sklearn.model_selection import cross_val_score, cross_val_predict\n",
    "from lightgbm import LGBMRegressor\n",
    "from sklearn.ensemble import RandomForestRegressor\n",
    "import time"
   ]
  },
  {
   "cell_type": "code",
   "execution_count": null,
   "metadata": {
    "id": "zSpZtPRjxkSx"
   },
   "outputs": [],
   "source": [
    "# LightGBM using custom asymmetrical objective function\n",
    "custom_lgbm = LGBMRegressor(random_state=21, objective=overpred_skewed_objective)\n",
    "\n",
    "# LightGBM using default non-asymmetrical objective function\n",
    "default_lgbm = LGBMRegressor(random_state=21)\n",
    "\n",
    "# RandomForestRegressor for baseline comparison\n",
    "forest_reg = RandomForestRegressor(n_estimators=50, random_state=21)"
   ]
  },
  {
   "cell_type": "markdown",
   "metadata": {},
   "source": [
    "With our models and scoring function ready, we can commence performance evaluation."
   ]
  },
  {
   "cell_type": "code",
   "execution_count": null,
   "metadata": {
    "id": "Zc0hjU-FxmeQ"
   },
   "outputs": [],
   "source": [
    "models = [custom_lgbm, default_lgbm, forest_reg]"
   ]
  },
  {
   "cell_type": "code",
   "execution_count": null,
   "metadata": {
    "colab": {
     "base_uri": "https://localhost:8080/"
    },
    "id": "VQZjtnI2xn6X",
    "outputId": "5d532f5a-5f98-46c3-d675-da8475ec8395"
   },
   "outputs": [
    {
     "name": "stdout",
     "output_type": "stream",
     "text": [
      "Mean \"Custom\" loss/asymmetric MSE computed using 5-fold cross-validation: 573339.1391497519\n",
      "Mean \"Custom\" RMSE  computed using 5-fold cross-validation: 757.1801516337952\n",
      "\"Custom\" RMSE std. deviation computed using 5-fold cross-validation: 4.16618789481541\n",
      "Computation time: 5.5167930126190186\n",
      "Mean \"Custom\" loss/asymmetric MSE computed using 5-fold cross-validation: 616345.9434416107\n",
      "Mean \"Custom\" RMSE  computed using 5-fold cross-validation: 785.066735166641\n",
      "\"Custom\" RMSE std. deviation computed using 5-fold cross-validation: 4.020544291727142\n",
      "Computation time: 3.297861337661743\n"
     ]
    },
    {
     "name": "stderr",
     "output_type": "stream",
     "text": [
      "/usr/local/lib/python3.7/dist-packages/joblib/externals/loky/process_executor.py:705: UserWarning: A worker stopped while some jobs were given to the executor. This can be caused by a too short worker timeout or by a memory leak.\n",
      "  \"timeout or by a memory leak.\", UserWarning\n"
     ]
    },
    {
     "name": "stdout",
     "output_type": "stream",
     "text": [
      "Mean \"Custom\" loss/asymmetric MSE computed using 5-fold cross-validation: 660127.6777033092\n",
      "Mean \"Custom\" RMSE  computed using 5-fold cross-validation: 812.4749123061016\n",
      "\"Custom\" RMSE std. deviation computed using 5-fold cross-validation: 3.4920733814932565\n",
      "Computation time: 100.87364387512207\n"
     ]
    }
   ],
   "source": [
    "for model in models:\n",
    "\tcv_regressor_custom_metrics(model, deliveries_transformed, delivery_labels, 5)"
   ]
  },
  {
   "cell_type": "markdown",
   "metadata": {
    "id": "7RbVVMUxF6J5"
   },
   "source": [
    "As we can see above, our custom trained LightGBM did score higher according to our custom function weighing underpredictions twice as much as overpredictions. Additionally, both custom and non-custom LightGBM models significantly outperformed the RandomForestRegressor in performance and computation time, as expected.  \n",
    "\n",
    "Next, let us compare the kernel density plots of both LightGBM models to confirm our distributions are indeed different - in other words, that our custom model does show fewer positive residuals (underpredictions) than the standard model."
   ]
  },
  {
   "cell_type": "code",
   "execution_count": null,
   "metadata": {
    "id": "AIlTXw_oF5oW"
   },
   "outputs": [],
   "source": [
    "# Initializing dataframe w/ predictions\n",
    "residuals_df = pd.DataFrame({'Custom LGBM':[], 'Default LGBM':[]})"
   ]
  },
  {
   "cell_type": "code",
   "execution_count": null,
   "metadata": {
    "id": "K6YecRQhyX4n"
   },
   "outputs": [],
   "source": [
    "# Making cross-validated predictions with both LGBM models and using these to fill the residuals dataframe\n",
    "residuals_df['Custom LGBM'] = delivery_labels - cross_val_predict(custom_lgbm, deliveries_transformed, delivery_labels, cv=5, n_jobs=-1)\n",
    "residuals_df['Default LGBM'] = delivery_labels - cross_val_predict(default_lgbm, deliveries_transformed, delivery_labels, cv=5, n_jobs=-1)"
   ]
  },
  {
   "cell_type": "code",
   "execution_count": null,
   "metadata": {
    "colab": {
     "base_uri": "https://localhost:8080/"
    },
    "id": "qgC6YUdZx7OH",
    "outputId": "8496de5b-5fc4-4083-b0b1-2fe44e789ea8"
   },
   "outputs": [
    {
     "name": "stdout",
     "output_type": "stream",
     "text": [
      "   Custom LGBM  Default LGBM\n",
      "0  -514.692604   -287.205348\n",
      "1    96.171709    267.110778\n",
      "2 -1177.905228   -963.021709\n",
      "3    -9.488951    226.472109\n",
      "4   811.892095   1016.603142\n"
     ]
    }
   ],
   "source": [
    "print(residuals_df.head())"
   ]
  },
  {
   "cell_type": "code",
   "execution_count": null,
   "metadata": {
    "colab": {
     "base_uri": "https://localhost:8080/",
     "height": 475
    },
    "id": "tavm5MAax02c",
    "outputId": "8b412de1-4425-4253-c354-d0e9060c4797"
   },
   "outputs": [
    {
     "data": {
      "text/plain": [
       "<matplotlib.legend.Legend at 0x7fae2d08ac10>"
      ]
     },
     "execution_count": 57,
     "metadata": {},
     "output_type": "execute_result"
    },
    {
     "data": {
      "image/png": "[encoded data removed]",
      "text/plain": [
       "<Figure size 1008x504 with 1 Axes>"
      ]
     },
     "metadata": {},
     "output_type": "display_data"
    }
   ],
   "source": [
    "# Plotting\n",
    "sns.set_style('darkgrid')\n",
    "sns.set_palette('pastel')\n",
    "fig, ax = plt.subplots(figsize=(14,7))\n",
    "ax = sns.kdeplot(x='Custom LGBM', fill=True, legend=True, color='blue',data=residuals_df)\n",
    "ax = sns.kdeplot(x='Default LGBM', fill=True,legend=True, color='red',data=residuals_df)\n",
    "ax.set(title='Kernel Density Plot of Residuals', xlabel='Residual', xlim=(-3000,3000))\n",
    "ax.legend(labels=[\"LightGBM w/ asymmetric loss f'n\",\"LightGBM w/ symmetric loss f'n\"])"
   ]
  },
  {
   "cell_type": "markdown",
   "metadata": {
    "id": "21Ga8HsIM9aO"
   },
   "source": [
    "Therefore, we have shown above that our custom asymmetric loss function is successful in diminishing the number of underpredictions. As an added investigative measure, let us also calculate the symmetric MSE we achieved with our model."
   ]
  },
  {
   "cell_type": "code",
   "execution_count": null,
   "metadata": {
    "id": "m3Tc2-kyNRj-"
   },
   "outputs": [],
   "source": [
    "def cv_regressor_rmse(model, X, y, cv):\n",
    "\t\"\"\"Computes mean and std. dev. of cross-validated RMSE based on user-defined number of folds.\"\"\"\n",
    "\n",
    "\tstart = time.time()\n",
    "\n",
    "\t# Compute cross-validated  scores\n",
    "\tmse = cross_val_score(model, X, y, cv=cv, scoring='neg_mean_squared_error', n_jobs=-1)\n",
    "\trmse = np.sqrt(-mse)\n",
    "\n",
    "\t# Print list of scores\n",
    "\tprint(f\"Mean RMSE  computed using {cv}-fold cross-validation: {rmse.mean()}\")\n",
    "\tprint(f\"RMSE std. deviation computed using {cv}-fold cross-validation: {rmse.std()}\")\n",
    "\tprint(f\"Computation time: {time.time() - start}\")"
   ]
  },
  {
   "cell_type": "code",
   "execution_count": null,
   "metadata": {
    "colab": {
     "base_uri": "https://localhost:8080/"
    },
    "id": "ChVBOIvrI_ct",
    "outputId": "311c45dc-d2f6-46d8-965d-cea8b9816492"
   },
   "outputs": [
    {
     "name": "stdout",
     "output_type": "stream",
     "text": [
      "Mean RMSE  computed using 5-fold cross-validation: 790.9485941638314\n",
      "RMSE std. deviation computed using 5-fold cross-validation: 3.5754292754481916\n",
      "Computation time: 6.278617858886719\n"
     ]
    }
   ],
   "source": [
    "cv_regressor_rmse(custom_lgbm, deliveries_transformed, delivery_labels, 5)"
   ]
  },
  {
   "cell_type": "markdown",
   "metadata": {
    "id": "a_UrBcX-Ndk-"
   },
   "source": [
    "The symmetric MSE of 790 seconds, or 13 min 48s, is slightly higher than the asymmetric MSE of 757 seconds. Before moving on to neural networks, let us now see if we can improve upon this performance with some light hyperparameter tuning. For this step, we will have to create a custom random search function to evaluate the performance of our LightGBM across a subset of its hyperparameter space. "
   ]
  },
  {
   "cell_type": "markdown",
   "metadata": {},
   "source": [
    "#### Custom random search function for LightGBM"
   ]
  },
  {
   "cell_type": "code",
   "execution_count": null,
   "metadata": {
    "id": "GAjehwsEeYp7"
   },
   "outputs": [],
   "source": [
    "def lgbm_reg_random_search(X, y, n_iter=10, random_state=42, cv=5):\n",
    "    \"\"\"Computes cross-validation random search for a LightGBM regressor.\"\"\"\n",
    "\n",
    "    # Computation time\n",
    "    start = time.time()\n",
    "\n",
    "    # Dictionary to hold results\n",
    "    cv_scores = {'Iteration':[], 'Parameters': [], 'Mean loss':[]}\n",
    "\n",
    "    for i in range(n_iter):\n",
    "        # Initialize random parameters\n",
    "        params  = {}\n",
    "        params['num_leaves'] = np.random.randint(20, 300)\n",
    "        params['min_data'] = np.random.randint(10, 100)\n",
    "        params['max_depth'] = np.random.randint(5, 200)\n",
    "\n",
    "        cv_scores['Iteration'].append(i)\n",
    "        cv_scores['Parameters'].append(params)\n",
    "\n",
    "        model = LGBMRegressor(objective=overpred_skewed_objective, **params)\n",
    "        \n",
    "        # Compute cross-validated scores\n",
    "        custom_loss = cross_val_score(model, X, y, cv=cv, scoring=asym_score, n_jobs=-1)\n",
    "        cv_scores['Mean loss'].append(np.mean(-custom_loss))\n",
    "\n",
    "    # Create sorted dataframe by lowest loss and return\n",
    "    cv_scores = pd.DataFrame(cv_scores)\n",
    "    cv_scores.sort_values(by='Mean loss', inplace=True)\n",
    "    return cv_scores"
   ]
  },
  {
   "cell_type": "code",
   "execution_count": null,
   "metadata": {
    "id": "DhH3YRL-eYhX"
   },
   "outputs": [],
   "source": [
    "cv_scores = lgbm_reg_random_search(deliveries_transformed, delivery_labels, n_iter=50)"
   ]
  },
  {
   "cell_type": "code",
   "execution_count": null,
   "metadata": {
    "colab": {
     "base_uri": "https://localhost:8080/"
    },
    "id": "7Tek5ca_eYP6",
    "outputId": "ea3fef79-5aae-43d3-b770-4c059c3d8a4a"
   },
   "outputs": [
    {
     "name": "stdout",
     "output_type": "stream",
     "text": [
      "    Iteration                                         Parameters      Mean loss\n",
      "32         32  {'num_leaves': 53, 'min_data': 49, 'max_depth'...  572463.286174\n",
      "40         40  {'num_leaves': 67, 'min_data': 79, 'max_depth'...  572629.667400\n",
      "26         26  {'num_leaves': 77, 'min_data': 37, 'max_depth'...  572639.308673\n",
      "42         42  {'num_leaves': 64, 'min_data': 54, 'max_depth'...  572644.626061\n",
      "20         20  {'num_leaves': 43, 'min_data': 53, 'max_depth'...  572701.283120\n",
      "{'num_leaves': 53, 'min_data': 49, 'max_depth': 159}\n"
     ]
    }
   ],
   "source": [
    "print(cv_scores.head())\n",
    "print(cv_scores['Parameters'].iloc[0])"
   ]
  },
  {
   "cell_type": "code",
   "execution_count": null,
   "metadata": {
    "id": "Z4wgwDHM2mqy"
   },
   "outputs": [],
   "source": [
    "# Initializing best model instance\n",
    "best_params = cv_scores['Parameters'].iloc[0]\n",
    "final_lgbm = LGBMRegressor(objective=overpred_skewed_objective, **best_params)"
   ]
  },
  {
   "cell_type": "markdown",
   "metadata": {},
   "source": [
    "Therefore, the best mean loss score obtained during this random search was 572463, meaning an asymmetric MSE of 756, a very slight improvement over the default hyperparameters.  \n",
    "\n",
    "Our last step in the modeling stage will be to compare this performance with our best-performing neural network (including some light hyperparameter tuning) in order to select the winner."
   ]
  },
  {
   "cell_type": "markdown",
   "metadata": {
    "id": "f9xteFkm3esb"
   },
   "source": [
    "## Keras implementation"
   ]
  },
  {
   "cell_type": "code",
   "execution_count": null,
   "metadata": {
    "id": "V8n1nxfUNax2"
   },
   "outputs": [],
   "source": [
    "# Keras libraries\n",
    "import tensorflow.keras.backend as K\n",
    "from tensorflow.keras import layers, models, callbacks\n",
    "from tensorflow.keras.callbacks import EarlyStopping\n",
    "from tensorflow.keras.optimizers import SGD"
   ]
  },
  {
   "cell_type": "markdown",
   "metadata": {
    "id": "3sE9ipCFN--6"
   },
   "source": [
    "#### Custom loss function for Keras"
   ]
  },
  {
   "cell_type": "code",
   "execution_count": null,
   "metadata": {
    "id": "7Ld1MCa5OCOB"
   },
   "outputs": [],
   "source": [
    "def overpred_skewed_loss(y_true, y_pred):\n",
    "\t\"\"\"Custom asymmetrical loss function designed to weigh underpredictions twice as much as\n",
    "\t\toverpredictions. \"\"\"\n",
    "\n",
    "\t# Getting overpredictions and obtaining their avg. SSE\n",
    "\toverpred  = K.mean(K.maximum(y_pred - y_true, 0)**2)\n",
    "\t# Getting underpredictions and obtaining their avg. SSE\n",
    "\tunderpred  = K.mean(K.maximum(y_true - y_pred, 0)**2)\n",
    "\t# Weighing undepredictions twice as much as overpredictions, while keeping units same\n",
    "\tloss =  (4 * underpred)/3 + (2 * overpred)/3\n",
    "\t\n",
    "\treturn loss"
   ]
  },
  {
   "cell_type": "code",
   "execution_count": null,
   "metadata": {
    "colab": {
     "base_uri": "https://localhost:8080/"
    },
    "id": "3Zt4IqNiORHv",
    "outputId": "e8040739-e01d-4d3e-8908-898d87027bca"
   },
   "outputs": [
    {
     "data": {
      "text/plain": [
       "5"
      ]
     },
     "execution_count": 62,
     "metadata": {},
     "output_type": "execute_result"
    }
   ],
   "source": [
    "deliveries_transformed.shape[1]"
   ]
  },
  {
   "cell_type": "markdown",
   "metadata": {},
   "source": [
    "#### Notes on Neural Network archictecture selection"
   ]
  },
  {
   "cell_type": "markdown",
   "metadata": {},
   "source": [
    "We will us first create a simple Sequential network with 3 hidden layers to obtain a baseline Keras performance. Since we are dealing with a simple univariate regression problem with only 5 features, simpler architectures such as this one are more than enough to generate accurate predictions.\n",
    "\n",
    "A common pitfall when training neural networks for regression is the exploding gradient problem - meaning that the derivatives of the loss function can start growing exponentially, causing the gradient descent algorithm to diverge (i.e. an optimal solution is not found). In order to prevent this issue, we can implement gradient clipping, or limiting them to a certain threshold.\n",
    "\n",
    "Additionally, we will use Scaled ELU, or SelU, as the activation function in lieu of the more prevalent RelU. Recent literature indicates that this activation function always either outperforms or shows equal performance to RelU. This function is also a useful tool in combating the exploding/vanishing gradient problems since it may cause networks to self-normalize (i.e. layer outputs preserve a mean of 0 and standard deviation of 1) if certain conditions are met."
   ]
  },
  {
   "cell_type": "code",
   "execution_count": null,
   "metadata": {
    "id": "Qy2yyIgRPjil"
   },
   "outputs": [],
   "source": [
    "model = Sequential()\n",
    "model.add(InputLayer(input_shape=(5,)))\n",
    "model.add(Dense(30, activation='selu', kernel_initializer='lecun_normal'))\n",
    "model.add(Dense(30, activation='selu', kernel_initializer='lecun_normal'))\n",
    "model.add(Dense(30, activation='selu', kernel_initializer='lecun_normal'))\n",
    "model.add(Dense(1))\n",
    "# Clipping gradients to a threshold of 2\n",
    "opt = SGD(learning_rate=0.01, momentum=0.9, clipnorm=2)"
   ]
  },
  {
   "cell_type": "code",
   "execution_count": null,
   "metadata": {
    "id": "ZVLH8vrUUBvb"
   },
   "outputs": [],
   "source": [
    "model.compile(optimizer=opt, loss = overpred_skewed_loss, metrics=['mean_squared_error'])"
   ]
  },
  {
   "cell_type": "code",
   "execution_count": null,
   "metadata": {
    "id": "M0ubvN53UIPi"
   },
   "outputs": [],
   "source": [
    "# Define early_stopping_monitor\n",
    "early_stopping_monitor = EarlyStopping(patience=4, restore_best_weights=True)"
   ]
  },
  {
   "cell_type": "code",
   "execution_count": null,
   "metadata": {
    "colab": {
     "base_uri": "https://localhost:8080/"
    },
    "id": "rupnqGF_UFH6",
    "outputId": "5892e9d2-cc28-49b4-a7a0-6b71e3203175"
   },
   "outputs": [
    {
     "name": "stdout",
     "output_type": "stream",
     "text": [
      "Epoch 1/30\n",
      "3585/3585 [==============================] - 14s 3ms/step - loss: 735714.7500 - mean_squared_error: 762651.7500 - val_loss: 609305.1250 - val_mean_squared_error: 633057.3125\n",
      "Epoch 2/30\n",
      "3585/3585 [==============================] - 13s 4ms/step - loss: 604862.3750 - mean_squared_error: 659666.0625 - val_loss: 604839.6250 - val_mean_squared_error: 698553.0000\n",
      "Epoch 3/30\n",
      "3585/3585 [==============================] - 13s 4ms/step - loss: 599791.5625 - mean_squared_error: 651562.3125 - val_loss: 593282.8750 - val_mean_squared_error: 657139.1250\n",
      "Epoch 4/30\n",
      "3585/3585 [==============================] - 13s 3ms/step - loss: 602044.8125 - mean_squared_error: 655180.5000 - val_loss: 597265.0000 - val_mean_squared_error: 658071.8750\n",
      "Epoch 5/30\n",
      "3585/3585 [==============================] - 13s 4ms/step - loss: 599585.1250 - mean_squared_error: 651701.0625 - val_loss: 605967.4375 - val_mean_squared_error: 629363.5625\n",
      "Epoch 6/30\n",
      "3585/3585 [==============================] - 13s 4ms/step - loss: 599578.2500 - mean_squared_error: 652380.5000 - val_loss: 596674.5625 - val_mean_squared_error: 652912.0625\n",
      "Epoch 7/30\n",
      "3585/3585 [==============================] - 12s 3ms/step - loss: 596637.8750 - mean_squared_error: 648180.3750 - val_loss: 600499.5625 - val_mean_squared_error: 695566.5625\n"
     ]
    },
    {
     "data": {
      "text/plain": [
       "<keras.callbacks.History at 0x7fada0252890>"
      ]
     },
     "execution_count": 66,
     "metadata": {},
     "output_type": "execute_result"
    }
   ],
   "source": [
    "model.fit(deliveries_transformed, delivery_labels, epochs=30, validation_split=0.25, callbacks=[early_stopping_monitor])"
   ]
  },
  {
   "cell_type": "markdown",
   "metadata": {
    "id": "T3PfLGKD3rnV"
   },
   "source": [
    "We are still significantly underperfoming LightGBM - this network's best performance resulted in an asymmetric loss of  596674, whereas our winning LightGBM model's was 572463. Let us now attempt to tune our neural network hyperparameters to see if we can close this performance gap. For this, we will use the high-level [Keras Tuner](https://keras.io/keras_tuner/) API."
   ]
  },
  {
   "cell_type": "code",
   "execution_count": null,
   "metadata": {
    "id": "0Qrxo0KQu3pW"
   },
   "outputs": [],
   "source": [
    "import keras_tuner as kt"
   ]
  },
  {
   "cell_type": "code",
   "execution_count": null,
   "metadata": {
    "id": "IoETBv1oUXEG"
   },
   "outputs": [],
   "source": [
    "# Model wrapper function for Keras Tuner, defining hyperparameter search space\n",
    "def make_model(hp):\n",
    "\tmodel = models.Sequential()\n",
    "\tmodel.add(layers.InputLayer(input_shape=(5,)))\n",
    "\tfor i in range(hp.Int('num_layers', 1, 6)):\n",
    "\t\tmodel.add(layers.Dense(units=hp.Int(f'units_{i}', min_value=5, max_value=50, step=5), activation='selu', kernel_initializer='lecun_normal'))\n",
    "\tmodel.add(layers.Dense(1))\n",
    "\tlearning_rate = hp.Float(\"lr\", min_value=7e-3, max_value=1e-1, sampling=\"log\")\n",
    "\topt = keras.optimizers.SGD(learning_rate=learning_rate, momentum=0.9, clipnorm=2)\n",
    "\tmodel.compile(optimizer=opt, loss=overpred_skewed_loss, metrics=['mean_squared_error'])\n",
    "\n",
    "\treturn model"
   ]
  },
  {
   "cell_type": "code",
   "execution_count": null,
   "metadata": {
    "id": "72YDmU3KM9Pw"
   },
   "outputs": [],
   "source": [
    "# Setting search specifications\n",
    "tuner = kt.RandomSearch(\n",
    "\thypermodel = make_model,\n",
    "\tobjective = 'val_loss',\n",
    "\tmax_trials = 10,\n",
    "\texecutions_per_trial = 2,\n",
    "  overwrite=True\n",
    "\t)"
   ]
  },
  {
   "cell_type": "code",
   "execution_count": null,
   "metadata": {
    "colab": {
     "base_uri": "https://localhost:8080/"
    },
    "id": "2AcSj5_JvMV4",
    "outputId": "b1f9b759-37ba-4d45-a4cb-0caa8717e446"
   },
   "outputs": [
    {
     "name": "stdout",
     "output_type": "stream",
     "text": [
      "Search space summary\n",
      "Default search space size: 3\n",
      "num_layers (Int)\n",
      "{'default': None, 'conditions': [], 'min_value': 1, 'max_value': 6, 'step': 1, 'sampling': None}\n",
      "units_0 (Int)\n",
      "{'default': None, 'conditions': [], 'min_value': 5, 'max_value': 50, 'step': 5, 'sampling': None}\n",
      "lr (Float)\n",
      "{'default': 0.007, 'conditions': [], 'min_value': 0.007, 'max_value': 0.1, 'step': None, 'sampling': 'log'}\n"
     ]
    }
   ],
   "source": [
    "# Verifying\n",
    "tuner.search_space_summary()"
   ]
  },
  {
   "cell_type": "code",
   "execution_count": null,
   "metadata": {
    "id": "1t99WKe453Hp"
   },
   "outputs": [],
   "source": [
    "es_monitor = EarlyStopping(patience=4, restore_best_weights=True)"
   ]
  },
  {
   "cell_type": "code",
   "execution_count": null,
   "metadata": {
    "colab": {
     "base_uri": "https://localhost:8080/"
    },
    "id": "v29YBjmBvfc6",
    "outputId": "2c7b9d0f-89fc-4991-871a-26f4a2a7242f"
   },
   "outputs": [
    {
     "name": "stdout",
     "output_type": "stream",
     "text": [
      "Trial 10 Complete [00h 02m 44s]\n",
      "val_loss: 781551.78125\n",
      "\n",
      "Best val_loss So Far: 593658.4375\n",
      "Total elapsed time: 00h 36m 18s\n",
      "INFO:tensorflow:Oracle triggered exit\n"
     ]
    }
   ],
   "source": [
    "# Performing search\n",
    "tuner.search(deliveries_transformed, delivery_labels, epochs=20, validation_split=0.25, callbacks=[es_monitor])"
   ]
  },
  {
   "cell_type": "code",
   "execution_count": null,
   "metadata": {
    "id": "Wg6X4WFY7n97"
   },
   "outputs": [],
   "source": [
    "# Obtaining best hyperparameters\n",
    "best_hps = tuner.get_best_hyperparameters(1)"
   ]
  },
  {
   "cell_type": "code",
   "execution_count": null,
   "metadata": {
    "colab": {
     "base_uri": "https://localhost:8080/"
    },
    "id": "gXas1dl2XIwd",
    "outputId": "4f0513c1-0b84-4147-ccd3-f96eab529464",
    "scrolled": true
   },
   "outputs": [
    {
     "name": "stdout",
     "output_type": "stream",
     "text": [
      "Results summary\n",
      "Results in ./untitled_project\n",
      "Showing 10 best trials\n",
      "Objective(name='val_loss', direction='min')\n",
      "Trial summary\n",
      "Hyperparameters:\n",
      "num_layers: 3\n",
      "units_0: 10\n",
      "lr: 0.007207283229430217\n",
      "units_1: 50\n",
      "units_2: 20\n",
      "units_3: 30\n",
      "units_4: 15\n",
      "Score: 593658.4375\n",
      "Trial summary\n",
      "Hyperparameters:\n",
      "num_layers: 1\n",
      "units_0: 15\n",
      "lr: 0.06550451700766538\n",
      "units_1: 40\n",
      "units_2: 35\n",
      "units_3: 20\n",
      "units_4: 40\n",
      "Score: 593738.21875\n",
      "Trial summary\n",
      "Hyperparameters:\n",
      "num_layers: 3\n",
      "units_0: 15\n",
      "lr: 0.009709714206179356\n",
      "units_1: 10\n",
      "units_2: 10\n",
      "units_3: 15\n",
      "units_4: 35\n",
      "Score: 595514.09375\n",
      "Trial summary\n",
      "Hyperparameters:\n",
      "num_layers: 2\n",
      "units_0: 10\n",
      "lr: 0.019305982631993165\n",
      "units_1: 40\n",
      "units_2: 40\n",
      "units_3: 25\n",
      "units_4: 10\n",
      "Score: 595592.625\n",
      "Trial summary\n",
      "Hyperparameters:\n",
      "num_layers: 5\n",
      "units_0: 25\n",
      "lr: 0.008026163902545602\n",
      "units_1: 30\n",
      "units_2: 5\n",
      "units_3: 5\n",
      "units_4: 5\n",
      "Score: 596685.46875\n",
      "Trial summary\n",
      "Hyperparameters:\n",
      "num_layers: 2\n",
      "units_0: 30\n",
      "lr: 0.08266173567953845\n",
      "units_1: 15\n",
      "units_2: 20\n",
      "Score: 606933.84375\n",
      "Trial summary\n",
      "Hyperparameters:\n",
      "num_layers: 3\n",
      "units_0: 5\n",
      "lr: 0.023741097333146027\n",
      "units_1: 30\n",
      "units_2: 15\n",
      "units_3: 30\n",
      "units_4: 30\n",
      "Score: 610203.4375\n",
      "Trial summary\n",
      "Hyperparameters:\n",
      "num_layers: 3\n",
      "units_0: 10\n",
      "lr: 0.03729880245181518\n",
      "units_1: 5\n",
      "units_2: 5\n",
      "Score: 623718.0\n",
      "Trial summary\n",
      "Hyperparameters:\n",
      "num_layers: 3\n",
      "units_0: 15\n",
      "lr: 0.08719983294911125\n",
      "units_1: 45\n",
      "units_2: 25\n",
      "units_3: 35\n",
      "units_4: 5\n",
      "Score: 688077.75\n",
      "Trial summary\n",
      "Hyperparameters:\n",
      "num_layers: 4\n",
      "units_0: 30\n",
      "lr: 0.07867101606882815\n",
      "units_1: 45\n",
      "units_2: 30\n",
      "units_3: 45\n",
      "units_4: 20\n",
      "Score: 781551.78125\n"
     ]
    }
   ],
   "source": [
    "tuner.results_summary()"
   ]
  },
  {
   "cell_type": "markdown",
   "metadata": {
    "id": "9dWwNEM0cqqL"
   },
   "source": [
    "As we can see above, even the highest-performing network constructed using our hyperparameters could not come close to LightGBM's performance (593658 NN loss vs. 572463 LGBM loss).  \n",
    "\n",
    "This is not completely surprising, given that the power of neural networks is usually demonstrated more clearly when dealing with even larger and more complex datasets. For tabular datasets of the size we have at hand, tree-based methods such as LightGBM and XGBoost still remain extremely competitive. \n",
    "\n",
    "Nonetheless, there was still immense business value evaluating in performance with Keras: we were able to perform a head-to-head test between two powerful machine learning algorithms/APIs which allowed us to easily implement our custom asymmetric loss functions for training and evaluation. \n",
    "\n",
    "Let us now use the final LGBM we found above to predict on the holdout/validation set."
   ]
  },
  {
   "cell_type": "markdown",
   "metadata": {},
   "source": [
    "### Predicting on the Test Set"
   ]
  },
  {
   "cell_type": "code",
   "execution_count": null,
   "metadata": {
    "colab": {
     "base_uri": "https://localhost:8080/"
    },
    "id": "-bi_UU9OZBH9",
    "outputId": "abf23727-a804-46a9-b8b2-b3fe400eee63"
   },
   "outputs": [
    {
     "name": "stdout",
     "output_type": "stream",
     "text": [
      "Index(['subtotal', 'total_busy_dashers', 'total_outstanding_orders',\n",
      "       'estimated_store_to_consumer_driving_duration',\n",
      "       'outstanding_orders_per_dasher'],\n",
      "      dtype='object')\n"
     ]
    }
   ],
   "source": [
    "# Extracting target variable and transforming test set for predictions\n",
    "deliveries_test = DeliveryTimeCalculator().transform(test_set)\n",
    "delivery_labels_test = deliveries_test['total_delivery_duration_seconds'].copy().to_numpy()\n",
    "deliveries_test_transformed = pipeline.transform(deliveries_test)"
   ]
  },
  {
   "cell_type": "code",
   "execution_count": null,
   "metadata": {
    "colab": {
     "base_uri": "https://localhost:8080/"
    },
    "id": "B-P0cwXb4ub4",
    "outputId": "33dad59f-fa68-4f31-da03-7e5ae6dbea80"
   },
   "outputs": [
    {
     "data": {
      "text/plain": [
       "LGBMRegressor(max_depth=159, min_data=49, num_leaves=53,\n",
       "              objective=<function overpred_skewed_objective at 0x7fae21054050>)"
      ]
     },
     "execution_count": 300,
     "metadata": {},
     "output_type": "execute_result"
    }
   ],
   "source": [
    "# Fitting final model to train data\n",
    "final_lgbm.fit(deliveries_transformed, delivery_labels)"
   ]
  },
  {
   "cell_type": "code",
   "execution_count": null,
   "metadata": {
    "id": "OBV3MX-h6LgM"
   },
   "outputs": [],
   "source": [
    "# Calculating residuals and creating dataframe for computations/visualization\n",
    "final_preds = final_lgbm.predict(deliveries_test_transformed)\n",
    "final_residuals = delivery_labels_test - final_preds"
   ]
  },
  {
   "cell_type": "code",
   "execution_count": null,
   "metadata": {
    "id": "DCvziwDHB_jY"
   },
   "outputs": [],
   "source": [
    "final_residuals_df = pd.DataFrame({'Final LightGBM':final_residuals})"
   ]
  },
  {
   "cell_type": "code",
   "execution_count": null,
   "metadata": {
    "colab": {
     "base_uri": "https://localhost:8080/",
     "height": 300
    },
    "id": "L_Oc051xDXL_",
    "outputId": "5a3f1ee0-34df-4e23-93a1-974e0f23dfe4"
   },
   "outputs": [
    {
     "data": {
      "text/html": [
       "\n",
       "  <div id=\"df-f73b6156-7758-495f-acc0-646161765650\">\n",
       "    <div class=\"colab-df-container\">\n",
       "      <div>\n",
       "<style scoped>\n",
       "    .dataframe tbody tr th:only-of-type {\n",
       "        vertical-align: middle;\n",
       "    }\n",
       "\n",
       "    .dataframe tbody tr th {\n",
       "        vertical-align: top;\n",
       "    }\n",
       "\n",
       "    .dataframe thead th {\n",
       "        text-align: right;\n",
       "    }\n",
       "</style>\n",
       "<table border=\"1\" class=\"dataframe\">\n",
       "  <thead>\n",
       "    <tr style=\"text-align: right;\">\n",
       "      <th></th>\n",
       "      <th>Final LightGBM</th>\n",
       "    </tr>\n",
       "  </thead>\n",
       "  <tbody>\n",
       "    <tr>\n",
       "      <th>count</th>\n",
       "      <td>38225.000000</td>\n",
       "    </tr>\n",
       "    <tr>\n",
       "      <th>mean</th>\n",
       "      <td>-221.867795</td>\n",
       "    </tr>\n",
       "    <tr>\n",
       "      <th>std</th>\n",
       "      <td>752.433552</td>\n",
       "    </tr>\n",
       "    <tr>\n",
       "      <th>min</th>\n",
       "      <td>-2714.233255</td>\n",
       "    </tr>\n",
       "    <tr>\n",
       "      <th>25%</th>\n",
       "      <td>-759.343257</td>\n",
       "    </tr>\n",
       "    <tr>\n",
       "      <th>50%</th>\n",
       "      <td>-325.888544</td>\n",
       "    </tr>\n",
       "    <tr>\n",
       "      <th>75%</th>\n",
       "      <td>221.991309</td>\n",
       "    </tr>\n",
       "    <tr>\n",
       "      <th>max</th>\n",
       "      <td>3038.251465</td>\n",
       "    </tr>\n",
       "  </tbody>\n",
       "</table>\n",
       "</div>\n",
       "      <button class=\"colab-df-convert\" onclick=\"convertToInteractive('df-f73b6156-7758-495f-acc0-646161765650')\"\n",
       "              title=\"Convert this dataframe to an interactive table.\"\n",
       "              style=\"display:none;\">\n",
       "        \n",
       "  <svg xmlns=\"http://www.w3.org/2000/svg\" height=\"24px\"viewBox=\"0 0 24 24\"\n",
       "       width=\"24px\">\n",
       "    <path d=\"M0 0h24v24H0V0z\" fill=\"none\"/>\n",
       "    <path d=\"M18.56 5.44l.94 2.06.94-2.06 2.06-.94-2.06-.94-.94-2.06-.94 2.06-2.06.94zm-11 1L8.5 8.5l.94-2.06 2.06-.94-2.06-.94L8.5 2.5l-.94 2.06-2.06.94zm10 10l.94 2.06.94-2.06 2.06-.94-2.06-.94-.94-2.06-.94 2.06-2.06.94z\"/><path d=\"M17.41 7.96l-1.37-1.37c-.4-.4-.92-.59-1.43-.59-.52 0-1.04.2-1.43.59L10.3 9.45l-7.72 7.72c-.78.78-.78 2.05 0 2.83L4 21.41c.39.39.9.59 1.41.59.51 0 1.02-.2 1.41-.59l7.78-7.78 2.81-2.81c.8-.78.8-2.07 0-2.86zM5.41 20L4 18.59l7.72-7.72 1.47 1.35L5.41 20z\"/>\n",
       "  </svg>\n",
       "      </button>\n",
       "      \n",
       "  <style>\n",
       "    .colab-df-container {\n",
       "      display:flex;\n",
       "      flex-wrap:wrap;\n",
       "      gap: 12px;\n",
       "    }\n",
       "\n",
       "    .colab-df-convert {\n",
       "      background-color: #E8F0FE;\n",
       "      border: none;\n",
       "      border-radius: 50%;\n",
       "      cursor: pointer;\n",
       "      display: none;\n",
       "      fill: #1967D2;\n",
       "      height: 32px;\n",
       "      padding: 0 0 0 0;\n",
       "      width: 32px;\n",
       "    }\n",
       "\n",
       "    .colab-df-convert:hover {\n",
       "      background-color: #E2EBFA;\n",
       "      box-shadow: 0px 1px 2px rgba(60, 64, 67, 0.3), 0px 1px 3px 1px rgba(60, 64, 67, 0.15);\n",
       "      fill: #174EA6;\n",
       "    }\n",
       "\n",
       "    [theme=dark] .colab-df-convert {\n",
       "      background-color: #3B4455;\n",
       "      fill: #D2E3FC;\n",
       "    }\n",
       "\n",
       "    [theme=dark] .colab-df-convert:hover {\n",
       "      background-color: #434B5C;\n",
       "      box-shadow: 0px 1px 3px 1px rgba(0, 0, 0, 0.15);\n",
       "      filter: drop-shadow(0px 1px 2px rgba(0, 0, 0, 0.3));\n",
       "      fill: #FFFFFF;\n",
       "    }\n",
       "  </style>\n",
       "\n",
       "      <script>\n",
       "        const buttonEl =\n",
       "          document.querySelector('#df-f73b6156-7758-495f-acc0-646161765650 button.colab-df-convert');\n",
       "        buttonEl.style.display =\n",
       "          google.colab.kernel.accessAllowed ? 'block' : 'none';\n",
       "\n",
       "        async function convertToInteractive(key) {\n",
       "          const element = document.querySelector('#df-f73b6156-7758-495f-acc0-646161765650');\n",
       "          const dataTable =\n",
       "            await google.colab.kernel.invokeFunction('convertToInteractive',\n",
       "                                                     [key], {});\n",
       "          if (!dataTable) return;\n",
       "\n",
       "          const docLinkHtml = 'Like what you see? Visit the ' +\n",
       "            '<a target=\"_blank\" href=https://colab.research.google.com/notebooks/data_table.ipynb>data table notebook</a>'\n",
       "            + ' to learn more about interactive tables.';\n",
       "          element.innerHTML = '';\n",
       "          dataTable['output_type'] = 'display_data';\n",
       "          await google.colab.output.renderOutput(dataTable, element);\n",
       "          const docLink = document.createElement('div');\n",
       "          docLink.innerHTML = docLinkHtml;\n",
       "          element.appendChild(docLink);\n",
       "        }\n",
       "      </script>\n",
       "    </div>\n",
       "  </div>\n",
       "  "
      ],
      "text/plain": [
       "       Final LightGBM\n",
       "count    38225.000000\n",
       "mean      -221.867795\n",
       "std        752.433552\n",
       "min      -2714.233255\n",
       "25%       -759.343257\n",
       "50%       -325.888544\n",
       "75%        221.991309\n",
       "max       3038.251465"
      ]
     },
     "execution_count": 308,
     "metadata": {},
     "output_type": "execute_result"
    }
   ],
   "source": [
    "final_residuals_df.describe()"
   ]
  },
  {
   "cell_type": "code",
   "execution_count": null,
   "metadata": {
    "colab": {
     "base_uri": "https://localhost:8080/"
    },
    "id": "iPrFkVBBDYsb",
    "outputId": "c3e5c536-f740-4392-ddb7-9012cac8f811"
   },
   "outputs": [
    {
     "data": {
      "text/plain": [
       "0.661399607586658"
      ]
     },
     "execution_count": 311,
     "metadata": {},
     "output_type": "execute_result"
    }
   ],
   "source": [
    "len(final_residuals_df[final_residuals_df['Final LightGBM'] < 0])/len(final_residuals_df)"
   ]
  },
  {
   "cell_type": "markdown",
   "metadata": {},
   "source": [
    "Encouraging results: around 66% of all predictions were overpredictions, while only 25% of all deliveries were more than 3 minutes late."
   ]
  },
  {
   "cell_type": "code",
   "execution_count": null,
   "metadata": {
    "colab": {
     "base_uri": "https://localhost:8080/",
     "height": 493
    },
    "id": "0YpFb6sP6Ldr",
    "outputId": "985a5adc-9397-4cf4-92ee-42193335c9da"
   },
   "outputs": [
    {
     "data": {
      "text/plain": [
       "[Text(0.5, 0, 'Residual'), Text(0.5, 1.0, 'Final LightGBM model Residuals')]"
      ]
     },
     "execution_count": 317,
     "metadata": {},
     "output_type": "execute_result"
    },
    {
     "data": {
      "text/plain": [
       "<Figure size 432x288 with 0 Axes>"
      ]
     },
     "metadata": {},
     "output_type": "display_data"
    },
    {
     "data": {
      "image/png": "[encoded data removed]",
      "text/plain": [
       "<Figure size 864x504 with 1 Axes>"
      ]
     },
     "metadata": {},
     "output_type": "display_data"
    }
   ],
   "source": [
    "# Plotting\n",
    "plt.clf()\n",
    "sns.set_style('darkgrid')\n",
    "sns.set_palette('pastel')\n",
    "fig, ax = plt.subplots(figsize=(12,7))\n",
    "ax = sns.histplot(x='Final LightGBM', legend=True, color='teal',data=final_residuals_df)\n",
    "ax.set(title='Final LightGBM model Residuals', xlabel='Residual')"
   ]
  },
  {
   "cell_type": "markdown",
   "metadata": {
    "id": "8HYIms_g6LVH"
   },
   "source": [
    "### Feature importances"
   ]
  },
  {
   "cell_type": "markdown",
   "metadata": {},
   "source": [
    "A final but nonetheless key step in any machine learning project is explaining and justifying your predictions. Models such as neural networks and even gradient boosted trees such as our final LightGBM model, have gained a reputation as unexplainable 'black-box' models. While they do sacrifice some explainability (in comparison with, say, a simple linear regression) in exchange for state-of-the-art performance, this does not mean that they are completely opaque.  \n",
    "\n",
    "LightGBM provides an out-of-the-box feature importance functionality. Its default measure, which was used in our case, is the number of times a given feature is used to split a node. We will use it to determine which of 5 input variables we used for our model was most 'influential' in shaping the boosted decision trees and therefore predictions."
   ]
  },
  {
   "cell_type": "code",
   "execution_count": null,
   "metadata": {
    "colab": {
     "base_uri": "https://localhost:8080/"
    },
    "id": "qE8zFJu87V2c",
    "outputId": "f82bbb65-c5fd-40ea-c5a5-453e9ec0c336",
    "scrolled": true
   },
   "outputs": [
    {
     "data": {
      "text/plain": [
       "array([1022,  968, 1036,  981, 1193])"
      ]
     },
     "execution_count": 271,
     "metadata": {},
     "output_type": "execute_result"
    }
   ],
   "source": [
    "final_lgbm.feature_importances_"
   ]
  },
  {
   "cell_type": "code",
   "execution_count": null,
   "metadata": {
    "id": "Sx6zwndY8m6w"
   },
   "outputs": [],
   "source": [
    "## Retrieving feature importances\n",
    "final_features = ['subtotal', 'total_busy_drivers', 'total_outstanding_orders',\n",
    "       'estimated_store_to_consumer_driving_duration',\n",
    "       'outstanding_orders_per_driver']\n",
    "feature_imps = zip(final_features, final_lgbm.feature_importances_.tolist())\n",
    "feature_imps_df = pd.DataFrame(feature_imps, columns = ['Feature', 'Feature importance'])"
   ]
  },
  {
   "cell_type": "code",
   "execution_count": 50,
   "metadata": {
    "colab": {
     "base_uri": "https://localhost:8080/",
     "height": 404
    },
    "id": "eTIRVhb27YGc",
    "outputId": "3799181a-602d-4dd7-c81a-812989875c73"
   },
   "outputs": [
    {
     "data": {
      "image/png": "[encoded data removed]",
      "text/plain": [
       "<Figure size 576x432 with 1 Axes>"
      ]
     },
     "metadata": {},
     "output_type": "display_data"
    }
   ],
   "source": [
    "# Plotting feature importances\n",
    "sns.set_style('darkgrid')\n",
    "sns.set_palette('pastel')\n",
    "fig, ax = plt.subplots(figsize=(8,6))\n",
    "ax = sns.barplot(x='Feature importance', y='Feature', \\\n",
    "                     data=feature_imps_df.sort_values(by='Feature importance', ascending=False))\n",
    "_ = ax.set(title='Feature Importances by Number of Splits', xlabel='Feature importance', \\\n",
    "                ylabel='Feature')"
   ]
  },
  {
   "cell_type": "markdown",
   "metadata": {
    "id": "HAKpodhf6JRP"
   },
   "source": [
    "# Conclusion and Final Thoughts"
   ]
  },
  {
   "cell_type": "markdown",
   "metadata": {},
   "source": [
    "In this project, we attempted a seemingly simple regression task - predicting food delivery ETAs for a third-party delivery company. In doing so, we found several layers of added complexity due to the business objective of minimizing underpredictions in comparison to underpredictions. Our model choices were thus narrowed down to two libraries/algorithms that allowed us to easily implement an asymmetric loss function in order to \"skew\" our model more on the side of overpredicting during training.  \n",
    "\n",
    "We compared a simple neural network using Keras with the LightGBM algorithm and found that the latter displayed better performance. Additionally, we compared its predictions using our asymmetric loss function and the default symmetric one, to find that, indeed, we successfully minimized the amount of positive residuals (late orders) while keeping our model robust to tail events. Moreover, LightGBM measured our engineered variable, *outstanding_orders_per_driver* as the most important by number of splits.  \n",
    "\n",
    "In concrete terms, our model's average error term was under 13 minutes - meaning it can be used to create a delivery window estimate close to 10 minutes. More importantly, our model underpredicted delivery times on only 1/3 of orders, and only 1/4 of all deliveries were more than 3 minutes late.  When interpreting these numbers, it is important to consider the vast multitude of factors that can disrupt a single order and lead to a tail event or even an outlier delivery time. Such factors can affect either the restaurant, the driver, the city itself, or the demand side. With this in mind, narrowing down delivery ETAs to close to a 10 minute window while being able to optimize for other key constraints (i.e. the asymmetric cost function) is an extremely encouraging result."
   ]
  }
 ],
 "metadata": {
  "accelerator": "GPU",
  "colab": {
   "collapsed_sections": [],
   "name": "Copy of food-delivery-eta with all analysis",
   "provenance": []
  },
  "kernelspec": {
   "display_name": "Python 3",
   "language": "python",
   "name": "python3"
  },
  "language_info": {
   "codemirror_mode": {
    "name": "ipython",
    "version": 3
   },
   "file_extension": ".py",
   "mimetype": "text/x-python",
   "name": "python",
   "nbconvert_exporter": "python",
   "pygments_lexer": "ipython3",
   "version": "3.7.10"
  }
 },
 "nbformat": 4,
 "nbformat_minor": 1
}
